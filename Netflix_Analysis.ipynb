{
  "cells": [
    {
      "cell_type": "markdown",
      "metadata": {
        "id": "view-in-github",
        "colab_type": "text"
      },
      "source": [
        "<a href=\"https://colab.research.google.com/github/carolinagarcias/Carolina-s_Portafolio/blob/main/Netflix_Analysis.ipynb\" target=\"_parent\"><img src=\"https://colab.research.google.com/assets/colab-badge.svg\" alt=\"Open In Colab\"/></a>"
      ]
    },
    {
      "cell_type": "markdown",
      "metadata": {
        "colab_type": "toc",
        "id": "K1GZdTu_qma5"
      },
      "source": [
        ">[Netflix catalog analysis](#scrollTo=0bc-J4Y48RkG)\n",
        "\n",
        ">>[Carga de datos](#scrollTo=RzO8w1ysoR5P)\n",
        "\n",
        ">>>>[Importamos las librerias y montamos el drive de google](#scrollTo=YFgb9nz521-f)\n",
        "\n",
        ">>>>[Cargamos el df usando la url brindado en la consigna con los siguiente parámetros](#scrollTo=xh8NUrIN3ADP)\n",
        "\n",
        ">>[Insertado de datos](#scrollTo=3FJW88WN-cL0)\n",
        "\n",
        ">>[Limpieza de datos](#scrollTo=KAjjl-EDoYZ_)\n",
        "\n",
        ">>>>[Descripción del Dataset](#scrollTo=HkzlxL-sZj7_)\n",
        "\n",
        ">>>>[Identificación de los NaN](#scrollTo=wbIa-QbBsm-m)\n",
        "\n",
        ">>>>>>[a. En los campos country, cast, director reemplazamos los valores NaN con una cadena 'No Data', al ser un dato categórico decidimos reemplazarlo con un string que nos permita evaluarlo al momento de realizar las visualizaciones.](#scrollTo=2Njv98dBs54e)\n",
        "\n",
        ">>>>>>[b. Tratamiento de NaN del campo duration](#scrollTo=7tLucEsNeVMm)\n",
        "\n",
        ">>>>[Identificamos varias Peliculas con más de una entrada en el dataset original](#scrollTo=iTlGlApkX47X)\n",
        "\n",
        ">>[Transformación de Datos](#scrollTo=A_RfQNINQ6ru)\n",
        "\n",
        ">>>>[Tratamiento de las columnas con varios elementos](#scrollTo=GK9-GW3eJVfn)\n",
        "\n",
        ">>>>[Creamos un df para películas](#scrollTo=erVzimcbdZXW)\n",
        "\n",
        ">>>>[Creamos un df para series de TV](#scrollTo=3qxRkeNxf5iB)\n",
        "\n",
        ">[Análisis y Visualizaciones](#scrollTo=mojtJzQTngJZ)\n",
        "\n",
        ">>>>[Tabla según el tipo de producto](#scrollTo=Jforgg4Irt5i)\n",
        "\n",
        ">>>>[Evaluación de géneros  en el dataset](#scrollTo=YbFaCAEdlv8U)\n",
        "\n",
        ">>>>[Evaluación del total de peliculas y series en el dataset a lo largo de lo años](#scrollTo=zHlIT1AJmzUT)\n",
        "\n",
        ">>>>[Evaluación del total de peliculas y series en el dataset según el año de producción del producto (release_year)](#scrollTo=CKNBZCdqsHoR)\n",
        "\n",
        ">>>>[Duración de peliculas por genero](#scrollTo=K36GIDerqsmC)\n",
        "\n",
        ">>>>[Géneros mas representativos en lo últimos 5 años](#scrollTo=5f6owHKoJTIC)\n",
        "\n",
        ">>[Conclusión](#scrollTo=q7ppUWSYpA7A)\n",
        "\n",
        ">>[Almacenamiento de resultados](#scrollTo=4nsbdrUgpL4k)\n",
        "\n"
      ]
    },
    {
      "cell_type": "markdown",
      "metadata": {
        "id": "0bc-J4Y48RkG"
      },
      "source": [
        "# Netflix catalog analysis\n",
        "\n",
        "---\n",
        "\n",
        "\n",
        "\n",
        "\n",
        "\n",
        "\n"
      ]
    },
    {
      "cell_type": "markdown",
      "metadata": {
        "id": "RzO8w1ysoR5P"
      },
      "source": [
        "## Carga de datos"
      ]
    },
    {
      "cell_type": "markdown",
      "metadata": {
        "id": "YFgb9nz521-f"
      },
      "source": [
        "\n",
        "#### 1. Importamos las librerias y montamos el drive de google"
      ]
    },
    {
      "cell_type": "code",
      "execution_count": null,
      "metadata": {
        "id": "CxWDctuiiZGX"
      },
      "outputs": [],
      "source": [
        "import pandas as pd\n",
        "import numpy as np\n",
        "import matplotlib.pyplot as plt\n",
        "\n",
        "#from google.colab import drive\n",
        "#drive.mount('/content/mi_drive')"
      ]
    },
    {
      "cell_type": "markdown",
      "metadata": {
        "id": "xh8NUrIN3ADP"
      },
      "source": [
        "\n",
        "#### 2. Cargamos el df usando la url brindado en la consigna con los siguiente parámetros\n",
        "- `sep (',')`\n",
        "- `skiprow = 23`, ya que las primeras 23 lineas del csv contiene información no válida. (Se deja constancia de que se habia identificado al De Lorean)\n",
        "- `parse_dates=['date_added']` formateamos a fecha desde el inicio el campo 'date_added'"
      ]
    },
    {
      "cell_type": "code",
      "execution_count": null,
      "metadata": {
        "colab": {
          "base_uri": "https://localhost:8080/",
          "height": 337
        },
        "id": "VWl4MU-GAytI",
        "outputId": "eaa87daf-b3f5-44d3-898e-f291b4bd2221"
      },
      "outputs": [
        {
          "output_type": "execute_result",
          "data": {
            "text/plain": [
              "  show_id     type                  title         director  \\\n",
              "0      s1    Movie   Dick Johnson Is Dead  Kirsten Johnson   \n",
              "1      s2  TV Show          Blood & Water              NaN   \n",
              "2      s3  TV Show              Ganglands  Julien Leclercq   \n",
              "3      s4  TV Show  Jailbirds New Orleans              NaN   \n",
              "4      s5  TV Show           Kota Factory              NaN   \n",
              "\n",
              "                                                cast        country  \\\n",
              "0                                                NaN  United States   \n",
              "1  Ama Qamata, Khosi Ngema, Gail Mabalane, Thaban...   South Africa   \n",
              "2  Sami Bouajila, Tracy Gotoas, Samuel Jouy, Nabi...            NaN   \n",
              "3                                                NaN            NaN   \n",
              "4  Mayur More, Jitendra Kumar, Ranjan Raj, Alam K...          India   \n",
              "\n",
              "  date_added  release_year rating   duration  \\\n",
              "0 2021-09-25          2020  PG-13     90 min   \n",
              "1 2021-09-24          2021  TV-MA  2 Seasons   \n",
              "2 2021-09-24          2021  TV-MA   1 Season   \n",
              "3 2021-09-24          2021  TV-MA   1 Season   \n",
              "4 2021-09-24          2021  TV-MA  2 Seasons   \n",
              "\n",
              "                                           listed_in  \\\n",
              "0                                      Documentaries   \n",
              "1    International TV Shows, TV Dramas, TV Mysteries   \n",
              "2  Crime TV Shows, International TV Shows, TV Act...   \n",
              "3                             Docuseries, Reality TV   \n",
              "4  International TV Shows, Romantic TV Shows, TV ...   \n",
              "\n",
              "                                         description  \n",
              "0  As her father nears the end of his life, filmm...  \n",
              "1  After crossing paths at a party, a Cape Town t...  \n",
              "2  To protect his family from a powerful drug lor...  \n",
              "3  Feuds, flirtations and toilet talk go down amo...  \n",
              "4  In a city of coaching centers known to train I...  "
            ],
            "text/html": [
              "\n",
              "  <div id=\"df-3eb3e42d-a439-4a8e-9994-3963a3caf9ba\">\n",
              "    <div class=\"colab-df-container\">\n",
              "      <div>\n",
              "<style scoped>\n",
              "    .dataframe tbody tr th:only-of-type {\n",
              "        vertical-align: middle;\n",
              "    }\n",
              "\n",
              "    .dataframe tbody tr th {\n",
              "        vertical-align: top;\n",
              "    }\n",
              "\n",
              "    .dataframe thead th {\n",
              "        text-align: right;\n",
              "    }\n",
              "</style>\n",
              "<table border=\"1\" class=\"dataframe\">\n",
              "  <thead>\n",
              "    <tr style=\"text-align: right;\">\n",
              "      <th></th>\n",
              "      <th>show_id</th>\n",
              "      <th>type</th>\n",
              "      <th>title</th>\n",
              "      <th>director</th>\n",
              "      <th>cast</th>\n",
              "      <th>country</th>\n",
              "      <th>date_added</th>\n",
              "      <th>release_year</th>\n",
              "      <th>rating</th>\n",
              "      <th>duration</th>\n",
              "      <th>listed_in</th>\n",
              "      <th>description</th>\n",
              "    </tr>\n",
              "  </thead>\n",
              "  <tbody>\n",
              "    <tr>\n",
              "      <th>0</th>\n",
              "      <td>s1</td>\n",
              "      <td>Movie</td>\n",
              "      <td>Dick Johnson Is Dead</td>\n",
              "      <td>Kirsten Johnson</td>\n",
              "      <td>NaN</td>\n",
              "      <td>United States</td>\n",
              "      <td>2021-09-25</td>\n",
              "      <td>2020</td>\n",
              "      <td>PG-13</td>\n",
              "      <td>90 min</td>\n",
              "      <td>Documentaries</td>\n",
              "      <td>As her father nears the end of his life, filmm...</td>\n",
              "    </tr>\n",
              "    <tr>\n",
              "      <th>1</th>\n",
              "      <td>s2</td>\n",
              "      <td>TV Show</td>\n",
              "      <td>Blood &amp; Water</td>\n",
              "      <td>NaN</td>\n",
              "      <td>Ama Qamata, Khosi Ngema, Gail Mabalane, Thaban...</td>\n",
              "      <td>South Africa</td>\n",
              "      <td>2021-09-24</td>\n",
              "      <td>2021</td>\n",
              "      <td>TV-MA</td>\n",
              "      <td>2 Seasons</td>\n",
              "      <td>International TV Shows, TV Dramas, TV Mysteries</td>\n",
              "      <td>After crossing paths at a party, a Cape Town t...</td>\n",
              "    </tr>\n",
              "    <tr>\n",
              "      <th>2</th>\n",
              "      <td>s3</td>\n",
              "      <td>TV Show</td>\n",
              "      <td>Ganglands</td>\n",
              "      <td>Julien Leclercq</td>\n",
              "      <td>Sami Bouajila, Tracy Gotoas, Samuel Jouy, Nabi...</td>\n",
              "      <td>NaN</td>\n",
              "      <td>2021-09-24</td>\n",
              "      <td>2021</td>\n",
              "      <td>TV-MA</td>\n",
              "      <td>1 Season</td>\n",
              "      <td>Crime TV Shows, International TV Shows, TV Act...</td>\n",
              "      <td>To protect his family from a powerful drug lor...</td>\n",
              "    </tr>\n",
              "    <tr>\n",
              "      <th>3</th>\n",
              "      <td>s4</td>\n",
              "      <td>TV Show</td>\n",
              "      <td>Jailbirds New Orleans</td>\n",
              "      <td>NaN</td>\n",
              "      <td>NaN</td>\n",
              "      <td>NaN</td>\n",
              "      <td>2021-09-24</td>\n",
              "      <td>2021</td>\n",
              "      <td>TV-MA</td>\n",
              "      <td>1 Season</td>\n",
              "      <td>Docuseries, Reality TV</td>\n",
              "      <td>Feuds, flirtations and toilet talk go down amo...</td>\n",
              "    </tr>\n",
              "    <tr>\n",
              "      <th>4</th>\n",
              "      <td>s5</td>\n",
              "      <td>TV Show</td>\n",
              "      <td>Kota Factory</td>\n",
              "      <td>NaN</td>\n",
              "      <td>Mayur More, Jitendra Kumar, Ranjan Raj, Alam K...</td>\n",
              "      <td>India</td>\n",
              "      <td>2021-09-24</td>\n",
              "      <td>2021</td>\n",
              "      <td>TV-MA</td>\n",
              "      <td>2 Seasons</td>\n",
              "      <td>International TV Shows, Romantic TV Shows, TV ...</td>\n",
              "      <td>In a city of coaching centers known to train I...</td>\n",
              "    </tr>\n",
              "  </tbody>\n",
              "</table>\n",
              "</div>\n",
              "      <button class=\"colab-df-convert\" onclick=\"convertToInteractive('df-3eb3e42d-a439-4a8e-9994-3963a3caf9ba')\"\n",
              "              title=\"Convert this dataframe to an interactive table.\"\n",
              "              style=\"display:none;\">\n",
              "        \n",
              "  <svg xmlns=\"http://www.w3.org/2000/svg\" height=\"24px\"viewBox=\"0 0 24 24\"\n",
              "       width=\"24px\">\n",
              "    <path d=\"M0 0h24v24H0V0z\" fill=\"none\"/>\n",
              "    <path d=\"M18.56 5.44l.94 2.06.94-2.06 2.06-.94-2.06-.94-.94-2.06-.94 2.06-2.06.94zm-11 1L8.5 8.5l.94-2.06 2.06-.94-2.06-.94L8.5 2.5l-.94 2.06-2.06.94zm10 10l.94 2.06.94-2.06 2.06-.94-2.06-.94-.94-2.06-.94 2.06-2.06.94z\"/><path d=\"M17.41 7.96l-1.37-1.37c-.4-.4-.92-.59-1.43-.59-.52 0-1.04.2-1.43.59L10.3 9.45l-7.72 7.72c-.78.78-.78 2.05 0 2.83L4 21.41c.39.39.9.59 1.41.59.51 0 1.02-.2 1.41-.59l7.78-7.78 2.81-2.81c.8-.78.8-2.07 0-2.86zM5.41 20L4 18.59l7.72-7.72 1.47 1.35L5.41 20z\"/>\n",
              "  </svg>\n",
              "      </button>\n",
              "      \n",
              "  <style>\n",
              "    .colab-df-container {\n",
              "      display:flex;\n",
              "      flex-wrap:wrap;\n",
              "      gap: 12px;\n",
              "    }\n",
              "\n",
              "    .colab-df-convert {\n",
              "      background-color: #E8F0FE;\n",
              "      border: none;\n",
              "      border-radius: 50%;\n",
              "      cursor: pointer;\n",
              "      display: none;\n",
              "      fill: #1967D2;\n",
              "      height: 32px;\n",
              "      padding: 0 0 0 0;\n",
              "      width: 32px;\n",
              "    }\n",
              "\n",
              "    .colab-df-convert:hover {\n",
              "      background-color: #E2EBFA;\n",
              "      box-shadow: 0px 1px 2px rgba(60, 64, 67, 0.3), 0px 1px 3px 1px rgba(60, 64, 67, 0.15);\n",
              "      fill: #174EA6;\n",
              "    }\n",
              "\n",
              "    [theme=dark] .colab-df-convert {\n",
              "      background-color: #3B4455;\n",
              "      fill: #D2E3FC;\n",
              "    }\n",
              "\n",
              "    [theme=dark] .colab-df-convert:hover {\n",
              "      background-color: #434B5C;\n",
              "      box-shadow: 0px 1px 3px 1px rgba(0, 0, 0, 0.15);\n",
              "      filter: drop-shadow(0px 1px 2px rgba(0, 0, 0, 0.3));\n",
              "      fill: #FFFFFF;\n",
              "    }\n",
              "  </style>\n",
              "\n",
              "      <script>\n",
              "        const buttonEl =\n",
              "          document.querySelector('#df-3eb3e42d-a439-4a8e-9994-3963a3caf9ba button.colab-df-convert');\n",
              "        buttonEl.style.display =\n",
              "          google.colab.kernel.accessAllowed ? 'block' : 'none';\n",
              "\n",
              "        async function convertToInteractive(key) {\n",
              "          const element = document.querySelector('#df-3eb3e42d-a439-4a8e-9994-3963a3caf9ba');\n",
              "          const dataTable =\n",
              "            await google.colab.kernel.invokeFunction('convertToInteractive',\n",
              "                                                     [key], {});\n",
              "          if (!dataTable) return;\n",
              "\n",
              "          const docLinkHtml = 'Like what you see? Visit the ' +\n",
              "            '<a target=\"_blank\" href=https://colab.research.google.com/notebooks/data_table.ipynb>data table notebook</a>'\n",
              "            + ' to learn more about interactive tables.';\n",
              "          element.innerHTML = '';\n",
              "          dataTable['output_type'] = 'display_data';\n",
              "          await google.colab.output.renderOutput(dataTable, element);\n",
              "          const docLink = document.createElement('div');\n",
              "          docLink.innerHTML = docLinkHtml;\n",
              "          element.appendChild(docLink);\n",
              "        }\n",
              "      </script>\n",
              "    </div>\n",
              "  </div>\n",
              "  "
            ]
          },
          "metadata": {},
          "execution_count": 53
        }
      ],
      "source": [
        "url_netflix='https://raw.githubusercontent.com/al34n1x/DataScience/master/100.Examen/2022/netflix_titles.csv'\n",
        "df_raw = pd.read_csv(url_netflix, sep=',',skiprows=23, parse_dates=['date_added'])\n",
        "df_raw.head()"
      ]
    },
    {
      "cell_type": "markdown",
      "metadata": {
        "id": "3FJW88WN-cL0"
      },
      "source": [
        "---\n",
        "## Insertado de datos\n"
      ]
    },
    {
      "cell_type": "markdown",
      "metadata": {
        "id": "TwiHSo8Rda58"
      },
      "source": [
        "Creamos un diccionario con 10 entradas en el mismo formato que el dataframe"
      ]
    },
    {
      "cell_type": "code",
      "execution_count": null,
      "metadata": {
        "id": "lqD4EvAfaJh4"
      },
      "outputs": [],
      "source": [
        "new_dic = {'cast': {\n",
        "  0: 'CROMBERG JAVIER EUGENIO, CRUZ PINEDA FABIAN, GARCIA CAROLINA, GIULIANO AUGUSTO, INZA ROBERTO, URRACO EZEQUIEL',\n",
        "  1: 'CROMBERG JAVIER EUGENIO, CRUZ PINEDA FABIAN, GARCIA CAROLINA, GIULIANO AUGUSTO, INZA ROBERTO, URRACO EZEQUIEL',\n",
        "  2: 'CROMBERG JAVIER EUGENIO, CRUZ PINEDA FABIAN, GARCIA CAROLINA, GIULIANO AUGUSTO, INZA ROBERTO, URRACO EZEQUIEL', \n",
        "  3: 'CROMBERG JAVIER EUGENIO, CRUZ PINEDA FABIAN, GARCIA CAROLINA, GIULIANO AUGUSTO, INZA ROBERTO, URRACO EZEQUIEL', \n",
        "  4: 'CROMBERG JAVIER EUGENIO, CRUZ PINEDA FABIAN, GARCIA CAROLINA, GIULIANO AUGUSTO, INZA ROBERTO, URRACO EZEQUIEL', \n",
        "  5: 'CROMBERG JAVIER EUGENIO, CRUZ PINEDA FABIAN, GARCIA CAROLINA, GIULIANO AUGUSTO, INZA ROBERTO, URRACO EZEQUIEL', \n",
        "  6: 'CROMBERG JAVIER EUGENIO, CRUZ PINEDA FABIAN, GARCIA CAROLINA, GIULIANO AUGUSTO, INZA ROBERTO, URRACO EZEQUIEL',\n",
        "  7: 'CROMBERG JAVIER EUGENIO, CRUZ PINEDA FABIAN, GARCIA CAROLINA, GIULIANO AUGUSTO, INZA ROBERTO, URRACO EZEQUIEL',\n",
        "  8: 'CROMBERG JAVIER EUGENIO, CRUZ PINEDA FABIAN, GARCIA CAROLINA, GIULIANO AUGUSTO, INZA ROBERTO, URRACO EZEQUIEL',\n",
        "  9: 'CROMBERG JAVIER EUGENIO, CRUZ PINEDA FABIAN, GARCIA CAROLINA, GIULIANO AUGUSTO, INZA ROBERTO, URRACO EZEQUIEL'\n",
        "  },\n",
        " 'country': {\n",
        "  0: 'United States',\n",
        "  1: 'United States, Ghana, Burkina Faso, United Kingdom, Germany, Ethiopia',\n",
        "  2: 'United States, Ghana, Burkina Faso, United Kingdom, Germany, Ethiopia',\n",
        "  3: 'United States, Ghana, Burkina Faso, United Kingdom, Germany, Ethiopia',\n",
        "  4: 'India',\n",
        "  5: 'United States, Ghana, Burkina Faso, United Kingdom, Germany, Ethiopia',\n",
        "  6: 'United States, Ghana, Burkina Faso, United Kingdom, Germany, Ethiopia',\n",
        "  7: 'United States, Ghana, Burkina Faso, United Kingdom, Germany, Ethiopia',\n",
        "  8: 'United Kingdom',\n",
        "  9: 'United States'},\n",
        " 'date_added': {\n",
        "  0: pd.Timestamp('2022-05-06 00:00:00'),\n",
        "  1: pd.Timestamp('2022-05-06 00:00:00'),\n",
        "  2: pd.Timestamp('2022-05-06 00:00:00'),\n",
        "  3: pd.Timestamp('2022-05-06 00:00:00'),\n",
        "  4: pd.Timestamp('2022-05-06 00:00:00'),\n",
        "  5: pd.Timestamp('2022-05-06 00:00:00'),\n",
        "  6: pd.Timestamp('2022-05-06 00:00:00'),\n",
        "  7: pd.Timestamp('2022-05-06 00:00:00'),\n",
        "  8: pd.Timestamp('2022-05-06 00:00:00'),\n",
        "  9: pd.Timestamp('2022-05-06 00:00:00')},\n",
        " 'director': {\n",
        "  0: 'CROMBERG JAVIER EUGENIO, CRUZ PINEDA FABIAN, GARCIA CAROLINA, GIULIANO AUGUSTO, INZA ROBERTO, URRACO EZEQUIEL',\n",
        "  1: 'CROMBERG JAVIER EUGENIO, CRUZ PINEDA FABIAN, GARCIA CAROLINA, GIULIANO AUGUSTO, INZA ROBERTO, URRACO EZEQUIEL',\n",
        "  2: 'CROMBERG JAVIER EUGENIO, CRUZ PINEDA FABIAN, GARCIA CAROLINA, GIULIANO AUGUSTO, INZA ROBERTO, URRACO EZEQUIEL', \n",
        "  3: 'CROMBERG JAVIER EUGENIO, CRUZ PINEDA FABIAN, GARCIA CAROLINA, GIULIANO AUGUSTO, INZA ROBERTO, URRACO EZEQUIEL', \n",
        "  4: 'CROMBERG JAVIER EUGENIO, CRUZ PINEDA FABIAN, GARCIA CAROLINA, GIULIANO AUGUSTO, INZA ROBERTO, URRACO EZEQUIEL', \n",
        "  5: 'CROMBERG JAVIER EUGENIO, CRUZ PINEDA FABIAN, GARCIA CAROLINA, GIULIANO AUGUSTO, INZA ROBERTO, URRACO EZEQUIEL', \n",
        "  6: 'CROMBERG JAVIER EUGENIO, CRUZ PINEDA FABIAN, GARCIA CAROLINA, GIULIANO AUGUSTO, INZA ROBERTO, URRACO EZEQUIEL',\n",
        "  7: 'CROMBERG JAVIER EUGENIO, CRUZ PINEDA FABIAN, GARCIA CAROLINA, GIULIANO AUGUSTO, INZA ROBERTO, URRACO EZEQUIEL',\n",
        "  8: 'CROMBERG JAVIER EUGENIO, CRUZ PINEDA FABIAN, GARCIA CAROLINA, GIULIANO AUGUSTO, INZA ROBERTO, URRACO EZEQUIEL',\n",
        "  9: 'CROMBERG JAVIER EUGENIO, CRUZ PINEDA FABIAN, GARCIA CAROLINA, GIULIANO AUGUSTO, INZA ROBERTO, URRACO EZEQUIEL'\n",
        "  },\n",
        " 'duration': {0: '90 min',\n",
        "  1: '2 Seasons',\n",
        "  2: '1 Season',\n",
        "  3: '1 Season',\n",
        "  4: '2 Seasons',\n",
        "  5: '1 Season',\n",
        "  6: '91 min',\n",
        "  7: '125 min',\n",
        "  8: '9 Seasons',\n",
        "  9: '104 min'},\n",
        " 'listed_in': {0: 'Documentaries',\n",
        "  1: 'International TV Shows, TV Dramas, TV Mysteries',\n",
        "  2: 'Crime TV Shows, International TV Shows, TV Action & Adventure',\n",
        "  3: 'Docuseries, Reality TV',\n",
        "  4: 'International TV Shows, Romantic TV Shows, TV Comedies',\n",
        "  5: 'TV Dramas, TV Horror, TV Mysteries',\n",
        "  6: 'Children & Family Movies',\n",
        "  7: 'Dramas, Independent Movies, International Movies',\n",
        "  8: 'British TV Shows, Reality TV',\n",
        "  9: 'Comedies, Dramas'},\n",
        " 'rating': {0: 'PG-13',\n",
        "  1: 'TV-MA',\n",
        "  2: 'TV-MA',\n",
        "  3: 'TV-MA',\n",
        "  4: 'TV-MA',\n",
        "  5: 'TV-MA',\n",
        "  6: 'PG',\n",
        "  7: 'TV-MA',\n",
        "  8: 'TV-14',\n",
        "  9: 'PG-13'},\n",
        " 'release_year': {0: 2020,\n",
        "  1: 2021,\n",
        "  2: 2021,\n",
        "  3: 2021,\n",
        "  4: 2021,\n",
        "  5: 2021,\n",
        "  6: 2021,\n",
        "  7: 1993,\n",
        "  8: 2021,\n",
        "  9: 2021},\n",
        " 'show_id': { # de esta forma las rows nuevas siempre van a tener un id correcto\n",
        "  0: 's' + str(len(df_raw)+1),\n",
        "  1: 's' + str(len(df_raw)+2),\n",
        "  2: 's' + str(len(df_raw)+3),\n",
        "  3: 's' + str(len(df_raw)+4),\n",
        "  4: 's' + str(len(df_raw)+5),\n",
        "  5: 's' + str(len(df_raw)+6),\n",
        "  6: 's' + str(len(df_raw)+7),\n",
        "  7: 's' + str(len(df_raw)+8),\n",
        "  8: 's' + str(len(df_raw)+9),\n",
        "  9: 's' + str(len(df_raw)+10)},\n",
        " 'title': {         \n",
        "  0: 'Star Wars - The Revenge of the Jedi',\n",
        "  1: 'Tremors 8 - For some reason we keep making this',\n",
        "  2: 'Evil Dead - Remaster Remake Redux',\n",
        "  3: 'Blade Runner 2050 - Foggier Than Ever',\n",
        "  4: 'Mandy 2',\n",
        "  5: 'Hereditary Reloaded',\n",
        "  6: 'The Thing - We did it again!',\n",
        "  7: 'The Shining - Attack of the Clones',\n",
        "  8: 'Citizen Kane - Mas rapido mas furioso',\n",
        "  9: 'Dr. Strange or: How I Learned to Stop Worrying and Love the Bomb'},\n",
        " 'type': {0: 'Movie',\n",
        "  1: 'TV Show',\n",
        "  2: 'TV Show',\n",
        "  3: 'TV Show',\n",
        "  4: 'TV Show',\n",
        "  5: 'TV Show',\n",
        "  6: 'Movie',\n",
        "  7: 'Movie',\n",
        "  8: 'TV Show',\n",
        "  9: 'Movie'}}"
      ]
    },
    {
      "cell_type": "markdown",
      "metadata": {
        "id": "ttjeLyhed11D"
      },
      "source": [
        "Convertimos cada row del diccionario a una series de pandas para poder crear un dataframe nuevo y concatenamos ese dataframe con `df_raw` para añadir las nuevas entries"
      ]
    },
    {
      "cell_type": "code",
      "execution_count": null,
      "metadata": {
        "id": "lgbLRMLjcZdF"
      },
      "outputs": [],
      "source": [
        "df_raw = pd.concat([df_raw,pd.DataFrame(dict([ (k,pd.Series(v)) for k,v in new_dic.items() ]))])"
      ]
    },
    {
      "cell_type": "code",
      "execution_count": null,
      "metadata": {
        "id": "W8E5Z178fjSP"
      },
      "outputs": [],
      "source": [
        "df_raw = df_raw.reset_index(drop=True) # reseteamos los indices para  que se reflejen los nuevos entries"
      ]
    },
    {
      "cell_type": "code",
      "execution_count": null,
      "metadata": {
        "colab": {
          "base_uri": "https://localhost:8080/",
          "height": 924
        },
        "id": "BdsJwAZ5aOLc",
        "outputId": "9084ba5e-c5c0-4f5d-cb8d-49fa4307d8d3"
      },
      "outputs": [
        {
          "output_type": "execute_result",
          "data": {
            "text/plain": [
              "     show_id     type                                              title  \\\n",
              "8806   s8807    Movie                                             Zubaan   \n",
              "8807   s8808    Movie                Star Wars - The Revenge of the Jedi   \n",
              "8808   s8809  TV Show    Tremors 8 - For some reason we keep making this   \n",
              "8809   s8810  TV Show                  Evil Dead - Remaster Remake Redux   \n",
              "8810   s8811  TV Show              Blade Runner 2050 - Foggier Than Ever   \n",
              "8811   s8812  TV Show                                            Mandy 2   \n",
              "8812   s8813  TV Show                                Hereditary Reloaded   \n",
              "8813   s8814    Movie                       The Thing - We did it again!   \n",
              "8814   s8815    Movie                 The Shining - Attack of the Clones   \n",
              "8815   s8816  TV Show              Citizen Kane - Mas rapido mas furioso   \n",
              "8816   s8817    Movie  Dr. Strange or: How I Learned to Stop Worrying...   \n",
              "\n",
              "                                               director  \\\n",
              "8806                                        Mozez Singh   \n",
              "8807  CROMBERG JAVIER EUGENIO, CRUZ PINEDA FABIAN, G...   \n",
              "8808  CROMBERG JAVIER EUGENIO, CRUZ PINEDA FABIAN, G...   \n",
              "8809  CROMBERG JAVIER EUGENIO, CRUZ PINEDA FABIAN, G...   \n",
              "8810  CROMBERG JAVIER EUGENIO, CRUZ PINEDA FABIAN, G...   \n",
              "8811  CROMBERG JAVIER EUGENIO, CRUZ PINEDA FABIAN, G...   \n",
              "8812  CROMBERG JAVIER EUGENIO, CRUZ PINEDA FABIAN, G...   \n",
              "8813  CROMBERG JAVIER EUGENIO, CRUZ PINEDA FABIAN, G...   \n",
              "8814  CROMBERG JAVIER EUGENIO, CRUZ PINEDA FABIAN, G...   \n",
              "8815  CROMBERG JAVIER EUGENIO, CRUZ PINEDA FABIAN, G...   \n",
              "8816  CROMBERG JAVIER EUGENIO, CRUZ PINEDA FABIAN, G...   \n",
              "\n",
              "                                                   cast  \\\n",
              "8806  Vicky Kaushal, Sarah-Jane Dias, Raaghav Chanan...   \n",
              "8807  CROMBERG JAVIER EUGENIO, CRUZ PINEDA FABIAN, G...   \n",
              "8808  CROMBERG JAVIER EUGENIO, CRUZ PINEDA FABIAN, G...   \n",
              "8809  CROMBERG JAVIER EUGENIO, CRUZ PINEDA FABIAN, G...   \n",
              "8810  CROMBERG JAVIER EUGENIO, CRUZ PINEDA FABIAN, G...   \n",
              "8811  CROMBERG JAVIER EUGENIO, CRUZ PINEDA FABIAN, G...   \n",
              "8812  CROMBERG JAVIER EUGENIO, CRUZ PINEDA FABIAN, G...   \n",
              "8813  CROMBERG JAVIER EUGENIO, CRUZ PINEDA FABIAN, G...   \n",
              "8814  CROMBERG JAVIER EUGENIO, CRUZ PINEDA FABIAN, G...   \n",
              "8815  CROMBERG JAVIER EUGENIO, CRUZ PINEDA FABIAN, G...   \n",
              "8816  CROMBERG JAVIER EUGENIO, CRUZ PINEDA FABIAN, G...   \n",
              "\n",
              "                                                country date_added  \\\n",
              "8806                                              India 2019-03-02   \n",
              "8807                                      United States 2022-05-06   \n",
              "8808  United States, Ghana, Burkina Faso, United Kin... 2022-05-06   \n",
              "8809  United States, Ghana, Burkina Faso, United Kin... 2022-05-06   \n",
              "8810  United States, Ghana, Burkina Faso, United Kin... 2022-05-06   \n",
              "8811                                              India 2022-05-06   \n",
              "8812  United States, Ghana, Burkina Faso, United Kin... 2022-05-06   \n",
              "8813  United States, Ghana, Burkina Faso, United Kin... 2022-05-06   \n",
              "8814  United States, Ghana, Burkina Faso, United Kin... 2022-05-06   \n",
              "8815                                     United Kingdom 2022-05-06   \n",
              "8816                                      United States 2022-05-06   \n",
              "\n",
              "      release_year rating   duration  \\\n",
              "8806          2015  TV-14    111 min   \n",
              "8807          2020  PG-13     90 min   \n",
              "8808          2021  TV-MA  2 Seasons   \n",
              "8809          2021  TV-MA   1 Season   \n",
              "8810          2021  TV-MA   1 Season   \n",
              "8811          2021  TV-MA  2 Seasons   \n",
              "8812          2021  TV-MA   1 Season   \n",
              "8813          2021     PG     91 min   \n",
              "8814          1993  TV-MA    125 min   \n",
              "8815          2021  TV-14  9 Seasons   \n",
              "8816          2021  PG-13    104 min   \n",
              "\n",
              "                                              listed_in  \\\n",
              "8806     Dramas, International Movies, Music & Musicals   \n",
              "8807                                      Documentaries   \n",
              "8808    International TV Shows, TV Dramas, TV Mysteries   \n",
              "8809  Crime TV Shows, International TV Shows, TV Act...   \n",
              "8810                             Docuseries, Reality TV   \n",
              "8811  International TV Shows, Romantic TV Shows, TV ...   \n",
              "8812                 TV Dramas, TV Horror, TV Mysteries   \n",
              "8813                           Children & Family Movies   \n",
              "8814   Dramas, Independent Movies, International Movies   \n",
              "8815                       British TV Shows, Reality TV   \n",
              "8816                                   Comedies, Dramas   \n",
              "\n",
              "                                            description  \n",
              "8806  A scrappy but poor boy worms his way into a ty...  \n",
              "8807                                                NaN  \n",
              "8808                                                NaN  \n",
              "8809                                                NaN  \n",
              "8810                                                NaN  \n",
              "8811                                                NaN  \n",
              "8812                                                NaN  \n",
              "8813                                                NaN  \n",
              "8814                                                NaN  \n",
              "8815                                                NaN  \n",
              "8816                                                NaN  "
            ],
            "text/html": [
              "\n",
              "  <div id=\"df-d076b960-2dd3-42d5-98dd-24596c3d72e1\">\n",
              "    <div class=\"colab-df-container\">\n",
              "      <div>\n",
              "<style scoped>\n",
              "    .dataframe tbody tr th:only-of-type {\n",
              "        vertical-align: middle;\n",
              "    }\n",
              "\n",
              "    .dataframe tbody tr th {\n",
              "        vertical-align: top;\n",
              "    }\n",
              "\n",
              "    .dataframe thead th {\n",
              "        text-align: right;\n",
              "    }\n",
              "</style>\n",
              "<table border=\"1\" class=\"dataframe\">\n",
              "  <thead>\n",
              "    <tr style=\"text-align: right;\">\n",
              "      <th></th>\n",
              "      <th>show_id</th>\n",
              "      <th>type</th>\n",
              "      <th>title</th>\n",
              "      <th>director</th>\n",
              "      <th>cast</th>\n",
              "      <th>country</th>\n",
              "      <th>date_added</th>\n",
              "      <th>release_year</th>\n",
              "      <th>rating</th>\n",
              "      <th>duration</th>\n",
              "      <th>listed_in</th>\n",
              "      <th>description</th>\n",
              "    </tr>\n",
              "  </thead>\n",
              "  <tbody>\n",
              "    <tr>\n",
              "      <th>8806</th>\n",
              "      <td>s8807</td>\n",
              "      <td>Movie</td>\n",
              "      <td>Zubaan</td>\n",
              "      <td>Mozez Singh</td>\n",
              "      <td>Vicky Kaushal, Sarah-Jane Dias, Raaghav Chanan...</td>\n",
              "      <td>India</td>\n",
              "      <td>2019-03-02</td>\n",
              "      <td>2015</td>\n",
              "      <td>TV-14</td>\n",
              "      <td>111 min</td>\n",
              "      <td>Dramas, International Movies, Music &amp; Musicals</td>\n",
              "      <td>A scrappy but poor boy worms his way into a ty...</td>\n",
              "    </tr>\n",
              "    <tr>\n",
              "      <th>8807</th>\n",
              "      <td>s8808</td>\n",
              "      <td>Movie</td>\n",
              "      <td>Star Wars - The Revenge of the Jedi</td>\n",
              "      <td>CROMBERG JAVIER EUGENIO, CRUZ PINEDA FABIAN, G...</td>\n",
              "      <td>CROMBERG JAVIER EUGENIO, CRUZ PINEDA FABIAN, G...</td>\n",
              "      <td>United States</td>\n",
              "      <td>2022-05-06</td>\n",
              "      <td>2020</td>\n",
              "      <td>PG-13</td>\n",
              "      <td>90 min</td>\n",
              "      <td>Documentaries</td>\n",
              "      <td>NaN</td>\n",
              "    </tr>\n",
              "    <tr>\n",
              "      <th>8808</th>\n",
              "      <td>s8809</td>\n",
              "      <td>TV Show</td>\n",
              "      <td>Tremors 8 - For some reason we keep making this</td>\n",
              "      <td>CROMBERG JAVIER EUGENIO, CRUZ PINEDA FABIAN, G...</td>\n",
              "      <td>CROMBERG JAVIER EUGENIO, CRUZ PINEDA FABIAN, G...</td>\n",
              "      <td>United States, Ghana, Burkina Faso, United Kin...</td>\n",
              "      <td>2022-05-06</td>\n",
              "      <td>2021</td>\n",
              "      <td>TV-MA</td>\n",
              "      <td>2 Seasons</td>\n",
              "      <td>International TV Shows, TV Dramas, TV Mysteries</td>\n",
              "      <td>NaN</td>\n",
              "    </tr>\n",
              "    <tr>\n",
              "      <th>8809</th>\n",
              "      <td>s8810</td>\n",
              "      <td>TV Show</td>\n",
              "      <td>Evil Dead - Remaster Remake Redux</td>\n",
              "      <td>CROMBERG JAVIER EUGENIO, CRUZ PINEDA FABIAN, G...</td>\n",
              "      <td>CROMBERG JAVIER EUGENIO, CRUZ PINEDA FABIAN, G...</td>\n",
              "      <td>United States, Ghana, Burkina Faso, United Kin...</td>\n",
              "      <td>2022-05-06</td>\n",
              "      <td>2021</td>\n",
              "      <td>TV-MA</td>\n",
              "      <td>1 Season</td>\n",
              "      <td>Crime TV Shows, International TV Shows, TV Act...</td>\n",
              "      <td>NaN</td>\n",
              "    </tr>\n",
              "    <tr>\n",
              "      <th>8810</th>\n",
              "      <td>s8811</td>\n",
              "      <td>TV Show</td>\n",
              "      <td>Blade Runner 2050 - Foggier Than Ever</td>\n",
              "      <td>CROMBERG JAVIER EUGENIO, CRUZ PINEDA FABIAN, G...</td>\n",
              "      <td>CROMBERG JAVIER EUGENIO, CRUZ PINEDA FABIAN, G...</td>\n",
              "      <td>United States, Ghana, Burkina Faso, United Kin...</td>\n",
              "      <td>2022-05-06</td>\n",
              "      <td>2021</td>\n",
              "      <td>TV-MA</td>\n",
              "      <td>1 Season</td>\n",
              "      <td>Docuseries, Reality TV</td>\n",
              "      <td>NaN</td>\n",
              "    </tr>\n",
              "    <tr>\n",
              "      <th>8811</th>\n",
              "      <td>s8812</td>\n",
              "      <td>TV Show</td>\n",
              "      <td>Mandy 2</td>\n",
              "      <td>CROMBERG JAVIER EUGENIO, CRUZ PINEDA FABIAN, G...</td>\n",
              "      <td>CROMBERG JAVIER EUGENIO, CRUZ PINEDA FABIAN, G...</td>\n",
              "      <td>India</td>\n",
              "      <td>2022-05-06</td>\n",
              "      <td>2021</td>\n",
              "      <td>TV-MA</td>\n",
              "      <td>2 Seasons</td>\n",
              "      <td>International TV Shows, Romantic TV Shows, TV ...</td>\n",
              "      <td>NaN</td>\n",
              "    </tr>\n",
              "    <tr>\n",
              "      <th>8812</th>\n",
              "      <td>s8813</td>\n",
              "      <td>TV Show</td>\n",
              "      <td>Hereditary Reloaded</td>\n",
              "      <td>CROMBERG JAVIER EUGENIO, CRUZ PINEDA FABIAN, G...</td>\n",
              "      <td>CROMBERG JAVIER EUGENIO, CRUZ PINEDA FABIAN, G...</td>\n",
              "      <td>United States, Ghana, Burkina Faso, United Kin...</td>\n",
              "      <td>2022-05-06</td>\n",
              "      <td>2021</td>\n",
              "      <td>TV-MA</td>\n",
              "      <td>1 Season</td>\n",
              "      <td>TV Dramas, TV Horror, TV Mysteries</td>\n",
              "      <td>NaN</td>\n",
              "    </tr>\n",
              "    <tr>\n",
              "      <th>8813</th>\n",
              "      <td>s8814</td>\n",
              "      <td>Movie</td>\n",
              "      <td>The Thing - We did it again!</td>\n",
              "      <td>CROMBERG JAVIER EUGENIO, CRUZ PINEDA FABIAN, G...</td>\n",
              "      <td>CROMBERG JAVIER EUGENIO, CRUZ PINEDA FABIAN, G...</td>\n",
              "      <td>United States, Ghana, Burkina Faso, United Kin...</td>\n",
              "      <td>2022-05-06</td>\n",
              "      <td>2021</td>\n",
              "      <td>PG</td>\n",
              "      <td>91 min</td>\n",
              "      <td>Children &amp; Family Movies</td>\n",
              "      <td>NaN</td>\n",
              "    </tr>\n",
              "    <tr>\n",
              "      <th>8814</th>\n",
              "      <td>s8815</td>\n",
              "      <td>Movie</td>\n",
              "      <td>The Shining - Attack of the Clones</td>\n",
              "      <td>CROMBERG JAVIER EUGENIO, CRUZ PINEDA FABIAN, G...</td>\n",
              "      <td>CROMBERG JAVIER EUGENIO, CRUZ PINEDA FABIAN, G...</td>\n",
              "      <td>United States, Ghana, Burkina Faso, United Kin...</td>\n",
              "      <td>2022-05-06</td>\n",
              "      <td>1993</td>\n",
              "      <td>TV-MA</td>\n",
              "      <td>125 min</td>\n",
              "      <td>Dramas, Independent Movies, International Movies</td>\n",
              "      <td>NaN</td>\n",
              "    </tr>\n",
              "    <tr>\n",
              "      <th>8815</th>\n",
              "      <td>s8816</td>\n",
              "      <td>TV Show</td>\n",
              "      <td>Citizen Kane - Mas rapido mas furioso</td>\n",
              "      <td>CROMBERG JAVIER EUGENIO, CRUZ PINEDA FABIAN, G...</td>\n",
              "      <td>CROMBERG JAVIER EUGENIO, CRUZ PINEDA FABIAN, G...</td>\n",
              "      <td>United Kingdom</td>\n",
              "      <td>2022-05-06</td>\n",
              "      <td>2021</td>\n",
              "      <td>TV-14</td>\n",
              "      <td>9 Seasons</td>\n",
              "      <td>British TV Shows, Reality TV</td>\n",
              "      <td>NaN</td>\n",
              "    </tr>\n",
              "    <tr>\n",
              "      <th>8816</th>\n",
              "      <td>s8817</td>\n",
              "      <td>Movie</td>\n",
              "      <td>Dr. Strange or: How I Learned to Stop Worrying...</td>\n",
              "      <td>CROMBERG JAVIER EUGENIO, CRUZ PINEDA FABIAN, G...</td>\n",
              "      <td>CROMBERG JAVIER EUGENIO, CRUZ PINEDA FABIAN, G...</td>\n",
              "      <td>United States</td>\n",
              "      <td>2022-05-06</td>\n",
              "      <td>2021</td>\n",
              "      <td>PG-13</td>\n",
              "      <td>104 min</td>\n",
              "      <td>Comedies, Dramas</td>\n",
              "      <td>NaN</td>\n",
              "    </tr>\n",
              "  </tbody>\n",
              "</table>\n",
              "</div>\n",
              "      <button class=\"colab-df-convert\" onclick=\"convertToInteractive('df-d076b960-2dd3-42d5-98dd-24596c3d72e1')\"\n",
              "              title=\"Convert this dataframe to an interactive table.\"\n",
              "              style=\"display:none;\">\n",
              "        \n",
              "  <svg xmlns=\"http://www.w3.org/2000/svg\" height=\"24px\"viewBox=\"0 0 24 24\"\n",
              "       width=\"24px\">\n",
              "    <path d=\"M0 0h24v24H0V0z\" fill=\"none\"/>\n",
              "    <path d=\"M18.56 5.44l.94 2.06.94-2.06 2.06-.94-2.06-.94-.94-2.06-.94 2.06-2.06.94zm-11 1L8.5 8.5l.94-2.06 2.06-.94-2.06-.94L8.5 2.5l-.94 2.06-2.06.94zm10 10l.94 2.06.94-2.06 2.06-.94-2.06-.94-.94-2.06-.94 2.06-2.06.94z\"/><path d=\"M17.41 7.96l-1.37-1.37c-.4-.4-.92-.59-1.43-.59-.52 0-1.04.2-1.43.59L10.3 9.45l-7.72 7.72c-.78.78-.78 2.05 0 2.83L4 21.41c.39.39.9.59 1.41.59.51 0 1.02-.2 1.41-.59l7.78-7.78 2.81-2.81c.8-.78.8-2.07 0-2.86zM5.41 20L4 18.59l7.72-7.72 1.47 1.35L5.41 20z\"/>\n",
              "  </svg>\n",
              "      </button>\n",
              "      \n",
              "  <style>\n",
              "    .colab-df-container {\n",
              "      display:flex;\n",
              "      flex-wrap:wrap;\n",
              "      gap: 12px;\n",
              "    }\n",
              "\n",
              "    .colab-df-convert {\n",
              "      background-color: #E8F0FE;\n",
              "      border: none;\n",
              "      border-radius: 50%;\n",
              "      cursor: pointer;\n",
              "      display: none;\n",
              "      fill: #1967D2;\n",
              "      height: 32px;\n",
              "      padding: 0 0 0 0;\n",
              "      width: 32px;\n",
              "    }\n",
              "\n",
              "    .colab-df-convert:hover {\n",
              "      background-color: #E2EBFA;\n",
              "      box-shadow: 0px 1px 2px rgba(60, 64, 67, 0.3), 0px 1px 3px 1px rgba(60, 64, 67, 0.15);\n",
              "      fill: #174EA6;\n",
              "    }\n",
              "\n",
              "    [theme=dark] .colab-df-convert {\n",
              "      background-color: #3B4455;\n",
              "      fill: #D2E3FC;\n",
              "    }\n",
              "\n",
              "    [theme=dark] .colab-df-convert:hover {\n",
              "      background-color: #434B5C;\n",
              "      box-shadow: 0px 1px 3px 1px rgba(0, 0, 0, 0.15);\n",
              "      filter: drop-shadow(0px 1px 2px rgba(0, 0, 0, 0.3));\n",
              "      fill: #FFFFFF;\n",
              "    }\n",
              "  </style>\n",
              "\n",
              "      <script>\n",
              "        const buttonEl =\n",
              "          document.querySelector('#df-d076b960-2dd3-42d5-98dd-24596c3d72e1 button.colab-df-convert');\n",
              "        buttonEl.style.display =\n",
              "          google.colab.kernel.accessAllowed ? 'block' : 'none';\n",
              "\n",
              "        async function convertToInteractive(key) {\n",
              "          const element = document.querySelector('#df-d076b960-2dd3-42d5-98dd-24596c3d72e1');\n",
              "          const dataTable =\n",
              "            await google.colab.kernel.invokeFunction('convertToInteractive',\n",
              "                                                     [key], {});\n",
              "          if (!dataTable) return;\n",
              "\n",
              "          const docLinkHtml = 'Like what you see? Visit the ' +\n",
              "            '<a target=\"_blank\" href=https://colab.research.google.com/notebooks/data_table.ipynb>data table notebook</a>'\n",
              "            + ' to learn more about interactive tables.';\n",
              "          element.innerHTML = '';\n",
              "          dataTable['output_type'] = 'display_data';\n",
              "          await google.colab.output.renderOutput(dataTable, element);\n",
              "          const docLink = document.createElement('div');\n",
              "          docLink.innerHTML = docLinkHtml;\n",
              "          element.appendChild(docLink);\n",
              "        }\n",
              "      </script>\n",
              "    </div>\n",
              "  </div>\n",
              "  "
            ]
          },
          "metadata": {},
          "execution_count": 57
        }
      ],
      "source": [
        "df_raw.tail(11)"
      ]
    },
    {
      "cell_type": "markdown",
      "metadata": {
        "id": "KAjjl-EDoYZ_"
      },
      "source": [
        "---\n",
        "## Limpieza de datos"
      ]
    },
    {
      "cell_type": "markdown",
      "metadata": {
        "id": "HkzlxL-sZj7_"
      },
      "source": [
        "#### 1. Descripción del Dataset"
      ]
    },
    {
      "cell_type": "markdown",
      "metadata": {
        "id": "59-plUp6ZoVa"
      },
      "source": [
        "El presente Dataset consta de 12 columnas:\n",
        "\n",
        "\n",
        "index | Nombre y Apellido | Non-Null Count | tipo\n",
        "--|-------------------|----|-----\n",
        " 0  | show_id  |  8807 non-null |  object        \n",
        " 1  | type     |  8807 non-null |  object        \n",
        " 2  | title    |  8807 non-null |  object        \n",
        " 3  | director  |  6173 non-null |  object        \n",
        " 4  | cast      |  7982 non-null |  object        \n",
        " 5  | country   |  7976 non-null |  object        \n",
        " 6  | date_added |  8797 non-null |  datetime64[ns]\n",
        " 7  | release_year |  8807 non-null |  int64         \n",
        " 8  | rating    |  8803 non-null |  object        \n",
        " 9  | duration  |  8804 non-null |  object        \n",
        " 10 | listed_in |  8807 non-null |  object        \n",
        " 11 | description |  8807 non-null |  object    \n",
        "\n",
        " Decsripción de los campos \n",
        "\n",
        "index | Nombre | Descripcion\n",
        "--|---------|--------------\n",
        "  0 | show_id | id de la fila\n",
        "  1 | type | tiene dos valores ('Movies' y 'TV Show') categoriza el producto en dos es decir si es una película o una serie de TV\n",
        "  2 | title | campo con el título de la película\n",
        "  3 | director | campo con el director de la película con tiene 2634 valores nulos\n",
        "  4 | cast | campo con los actores de la película, contiene 284 valores nulos        \n",
        "  5 | country | contiene los paises (en un máximo de tres) en los que fue estrenada la películo o serie de TV. Contiene 831 valores nulos\n",
        "  6 | date_added | importada en formato `datetime64` contiene 10 valores nulos\n",
        "  7 | release_year | año de producción del prodcuto         \n",
        "  8 | rating | es la calificación recomendada para el público seleccionado (como seria apta para todo público, etc). Contien 4 valores nulos\n",
        "  9 | duration | las películas estan en minutos y las series de TV en temporadas ('Seasons')\n",
        "  10 |listed_in | tiene hasta tres palabras claves para los géneros. No contiene valores nulos        \n",
        "  11 | description | es un campo de texto con una descripción mínima del producto. No contiene campos nulos."
      ]
    },
    {
      "cell_type": "markdown",
      "metadata": {
        "id": "wbIa-QbBsm-m"
      },
      "source": [
        "#### 2. Identificación de los NaN\n",
        "- Creamos una copia del df \n",
        "- Identificamos los campos con mayor cantidad de NaN"
      ]
    },
    {
      "cell_type": "code",
      "execution_count": null,
      "metadata": {
        "colab": {
          "base_uri": "https://localhost:8080/"
        },
        "id": "dY-5wgxMBrtD",
        "outputId": "67550529-04f5-4457-d59e-47617ef6587b"
      },
      "outputs": [
        {
          "output_type": "execute_result",
          "data": {
            "text/plain": [
              "show_id            0\n",
              "type               0\n",
              "title              0\n",
              "director        2634\n",
              "cast             825\n",
              "country          831\n",
              "date_added        10\n",
              "release_year       0\n",
              "rating             4\n",
              "duration           3\n",
              "listed_in          0\n",
              "description       10\n",
              "dtype: int64"
            ]
          },
          "metadata": {},
          "execution_count": 58
        }
      ],
      "source": [
        "df_raw2 = df_raw\n",
        "df_raw2.isna().sum()"
      ]
    },
    {
      "cell_type": "markdown",
      "metadata": {
        "id": "2Njv98dBs54e"
      },
      "source": [
        "###### a. En los campos `country`, `cast`, `director` reemplazamos los valores NaN con una cadena 'No Data', al ser un dato categórico decidimos reemplazarlo con un string que nos permita evaluarlo al momento de realizar las visualizaciones."
      ]
    },
    {
      "cell_type": "code",
      "execution_count": null,
      "metadata": {
        "id": "QVo5i8_4HKVM"
      },
      "outputs": [],
      "source": [
        "df_raw2['country'].replace(np.nan, 'No Data',inplace  = True)\n",
        "df_raw2['cast'].replace(np.nan, 'No Data',inplace  = True)\n",
        "df_raw2['director'].replace(np.nan, 'No Data',inplace  = True)"
      ]
    },
    {
      "cell_type": "markdown",
      "metadata": {
        "id": "7tLucEsNeVMm"
      },
      "source": [
        "###### b. Tratamiento de NaN del campo `duration`\n",
        "\n",
        "Identificamos tres datos faltantes en la columna `duration`, los cuales  figuran en el campo `rating` como el tiempo en 'min' de tres películas. Presentamos una lista de valores únicos del campo `rating` en donde se ven tres valores en 'min' y otro nan.\n"
      ]
    },
    {
      "cell_type": "code",
      "execution_count": null,
      "metadata": {
        "colab": {
          "base_uri": "https://localhost:8080/"
        },
        "id": "KmbWJ3wEeiK7",
        "outputId": "8f27551c-2c05-4954-e42d-f5819a84cca6"
      },
      "outputs": [
        {
          "output_type": "execute_result",
          "data": {
            "text/plain": [
              "array(['PG-13', 'TV-MA', 'PG', 'TV-14', 'TV-PG', 'TV-Y', 'TV-Y7', 'R',\n",
              "       'TV-G', 'G', 'NC-17', '74 min', '84 min', '66 min', 'NR', nan,\n",
              "       'TV-Y7-FV', 'UR'], dtype=object)"
            ]
          },
          "metadata": {},
          "execution_count": 60
        }
      ],
      "source": [
        "df_raw2['rating'].unique()"
      ]
    },
    {
      "cell_type": "markdown",
      "metadata": {
        "id": "wUhViyB6g4i8"
      },
      "source": [
        "Visualizamos los registros a tratar"
      ]
    },
    {
      "cell_type": "code",
      "execution_count": null,
      "metadata": {
        "colab": {
          "base_uri": "https://localhost:8080/",
          "height": 143
        },
        "id": "mMgVqBQKeMfJ",
        "outputId": "eb5078b5-b447-4395-d969-0c9eb3657e9b"
      },
      "outputs": [
        {
          "output_type": "execute_result",
          "data": {
            "text/plain": [
              "      rating duration   type                                 title\n",
              "5541  74 min      NaN  Movie                       Louis C.K. 2017\n",
              "5794  84 min      NaN  Movie                 Louis C.K.: Hilarious\n",
              "5813  66 min      NaN  Movie  Louis C.K.: Live at the Comedy Store"
            ],
            "text/html": [
              "\n",
              "  <div id=\"df-115299db-b32c-40ca-b8be-338703fbcd2f\">\n",
              "    <div class=\"colab-df-container\">\n",
              "      <div>\n",
              "<style scoped>\n",
              "    .dataframe tbody tr th:only-of-type {\n",
              "        vertical-align: middle;\n",
              "    }\n",
              "\n",
              "    .dataframe tbody tr th {\n",
              "        vertical-align: top;\n",
              "    }\n",
              "\n",
              "    .dataframe thead th {\n",
              "        text-align: right;\n",
              "    }\n",
              "</style>\n",
              "<table border=\"1\" class=\"dataframe\">\n",
              "  <thead>\n",
              "    <tr style=\"text-align: right;\">\n",
              "      <th></th>\n",
              "      <th>rating</th>\n",
              "      <th>duration</th>\n",
              "      <th>type</th>\n",
              "      <th>title</th>\n",
              "    </tr>\n",
              "  </thead>\n",
              "  <tbody>\n",
              "    <tr>\n",
              "      <th>5541</th>\n",
              "      <td>74 min</td>\n",
              "      <td>NaN</td>\n",
              "      <td>Movie</td>\n",
              "      <td>Louis C.K. 2017</td>\n",
              "    </tr>\n",
              "    <tr>\n",
              "      <th>5794</th>\n",
              "      <td>84 min</td>\n",
              "      <td>NaN</td>\n",
              "      <td>Movie</td>\n",
              "      <td>Louis C.K.: Hilarious</td>\n",
              "    </tr>\n",
              "    <tr>\n",
              "      <th>5813</th>\n",
              "      <td>66 min</td>\n",
              "      <td>NaN</td>\n",
              "      <td>Movie</td>\n",
              "      <td>Louis C.K.: Live at the Comedy Store</td>\n",
              "    </tr>\n",
              "  </tbody>\n",
              "</table>\n",
              "</div>\n",
              "      <button class=\"colab-df-convert\" onclick=\"convertToInteractive('df-115299db-b32c-40ca-b8be-338703fbcd2f')\"\n",
              "              title=\"Convert this dataframe to an interactive table.\"\n",
              "              style=\"display:none;\">\n",
              "        \n",
              "  <svg xmlns=\"http://www.w3.org/2000/svg\" height=\"24px\"viewBox=\"0 0 24 24\"\n",
              "       width=\"24px\">\n",
              "    <path d=\"M0 0h24v24H0V0z\" fill=\"none\"/>\n",
              "    <path d=\"M18.56 5.44l.94 2.06.94-2.06 2.06-.94-2.06-.94-.94-2.06-.94 2.06-2.06.94zm-11 1L8.5 8.5l.94-2.06 2.06-.94-2.06-.94L8.5 2.5l-.94 2.06-2.06.94zm10 10l.94 2.06.94-2.06 2.06-.94-2.06-.94-.94-2.06-.94 2.06-2.06.94z\"/><path d=\"M17.41 7.96l-1.37-1.37c-.4-.4-.92-.59-1.43-.59-.52 0-1.04.2-1.43.59L10.3 9.45l-7.72 7.72c-.78.78-.78 2.05 0 2.83L4 21.41c.39.39.9.59 1.41.59.51 0 1.02-.2 1.41-.59l7.78-7.78 2.81-2.81c.8-.78.8-2.07 0-2.86zM5.41 20L4 18.59l7.72-7.72 1.47 1.35L5.41 20z\"/>\n",
              "  </svg>\n",
              "      </button>\n",
              "      \n",
              "  <style>\n",
              "    .colab-df-container {\n",
              "      display:flex;\n",
              "      flex-wrap:wrap;\n",
              "      gap: 12px;\n",
              "    }\n",
              "\n",
              "    .colab-df-convert {\n",
              "      background-color: #E8F0FE;\n",
              "      border: none;\n",
              "      border-radius: 50%;\n",
              "      cursor: pointer;\n",
              "      display: none;\n",
              "      fill: #1967D2;\n",
              "      height: 32px;\n",
              "      padding: 0 0 0 0;\n",
              "      width: 32px;\n",
              "    }\n",
              "\n",
              "    .colab-df-convert:hover {\n",
              "      background-color: #E2EBFA;\n",
              "      box-shadow: 0px 1px 2px rgba(60, 64, 67, 0.3), 0px 1px 3px 1px rgba(60, 64, 67, 0.15);\n",
              "      fill: #174EA6;\n",
              "    }\n",
              "\n",
              "    [theme=dark] .colab-df-convert {\n",
              "      background-color: #3B4455;\n",
              "      fill: #D2E3FC;\n",
              "    }\n",
              "\n",
              "    [theme=dark] .colab-df-convert:hover {\n",
              "      background-color: #434B5C;\n",
              "      box-shadow: 0px 1px 3px 1px rgba(0, 0, 0, 0.15);\n",
              "      filter: drop-shadow(0px 1px 2px rgba(0, 0, 0, 0.3));\n",
              "      fill: #FFFFFF;\n",
              "    }\n",
              "  </style>\n",
              "\n",
              "      <script>\n",
              "        const buttonEl =\n",
              "          document.querySelector('#df-115299db-b32c-40ca-b8be-338703fbcd2f button.colab-df-convert');\n",
              "        buttonEl.style.display =\n",
              "          google.colab.kernel.accessAllowed ? 'block' : 'none';\n",
              "\n",
              "        async function convertToInteractive(key) {\n",
              "          const element = document.querySelector('#df-115299db-b32c-40ca-b8be-338703fbcd2f');\n",
              "          const dataTable =\n",
              "            await google.colab.kernel.invokeFunction('convertToInteractive',\n",
              "                                                     [key], {});\n",
              "          if (!dataTable) return;\n",
              "\n",
              "          const docLinkHtml = 'Like what you see? Visit the ' +\n",
              "            '<a target=\"_blank\" href=https://colab.research.google.com/notebooks/data_table.ipynb>data table notebook</a>'\n",
              "            + ' to learn more about interactive tables.';\n",
              "          element.innerHTML = '';\n",
              "          dataTable['output_type'] = 'display_data';\n",
              "          await google.colab.output.renderOutput(dataTable, element);\n",
              "          const docLink = document.createElement('div');\n",
              "          docLink.innerHTML = docLinkHtml;\n",
              "          element.appendChild(docLink);\n",
              "        }\n",
              "      </script>\n",
              "    </div>\n",
              "  </div>\n",
              "  "
            ]
          },
          "metadata": {},
          "execution_count": 61
        }
      ],
      "source": [
        "df_raw2[['rating', 'duration', 'type', 'title']][(df_raw2['rating'] == '66 min') | (df_raw2['rating'] == '74 min') | (df_raw2['rating'] == '84 min')]"
      ]
    },
    {
      "cell_type": "markdown",
      "metadata": {
        "id": "FsgdGyEahDp0"
      },
      "source": [
        "Recorremos el campo rating en la búsqueda del string 'min' y lo reemplazamos en la columna `duration`"
      ]
    },
    {
      "cell_type": "code",
      "execution_count": null,
      "metadata": {
        "id": "WjWf6xqZfSrX"
      },
      "outputs": [],
      "source": [
        "for i in df_raw2['rating']:\n",
        "  if 'min' in str(i):\n",
        "    df_raw2[\"duration\"] = np.where(df_raw2[\"rating\"] == i, i, df_raw2['duration'])"
      ]
    },
    {
      "cell_type": "markdown",
      "metadata": {
        "id": "ZZijSBUKhLd8"
      },
      "source": [
        "Confirmamos el cambio en los mencionados registros y en el box siguiente que no haya modificado el df\n"
      ]
    },
    {
      "cell_type": "code",
      "execution_count": null,
      "metadata": {
        "colab": {
          "base_uri": "https://localhost:8080/",
          "height": 143
        },
        "id": "jiUsHyI_fc-8",
        "outputId": "fc19b9ea-bf0b-4810-c635-e05d6ca5a608"
      },
      "outputs": [
        {
          "output_type": "execute_result",
          "data": {
            "text/plain": [
              "      rating duration   type                                 title\n",
              "5541  74 min   74 min  Movie                       Louis C.K. 2017\n",
              "5794  84 min   84 min  Movie                 Louis C.K.: Hilarious\n",
              "5813  66 min   66 min  Movie  Louis C.K.: Live at the Comedy Store"
            ],
            "text/html": [
              "\n",
              "  <div id=\"df-d9506e68-b12c-4a9f-998a-eac51ae3f82a\">\n",
              "    <div class=\"colab-df-container\">\n",
              "      <div>\n",
              "<style scoped>\n",
              "    .dataframe tbody tr th:only-of-type {\n",
              "        vertical-align: middle;\n",
              "    }\n",
              "\n",
              "    .dataframe tbody tr th {\n",
              "        vertical-align: top;\n",
              "    }\n",
              "\n",
              "    .dataframe thead th {\n",
              "        text-align: right;\n",
              "    }\n",
              "</style>\n",
              "<table border=\"1\" class=\"dataframe\">\n",
              "  <thead>\n",
              "    <tr style=\"text-align: right;\">\n",
              "      <th></th>\n",
              "      <th>rating</th>\n",
              "      <th>duration</th>\n",
              "      <th>type</th>\n",
              "      <th>title</th>\n",
              "    </tr>\n",
              "  </thead>\n",
              "  <tbody>\n",
              "    <tr>\n",
              "      <th>5541</th>\n",
              "      <td>74 min</td>\n",
              "      <td>74 min</td>\n",
              "      <td>Movie</td>\n",
              "      <td>Louis C.K. 2017</td>\n",
              "    </tr>\n",
              "    <tr>\n",
              "      <th>5794</th>\n",
              "      <td>84 min</td>\n",
              "      <td>84 min</td>\n",
              "      <td>Movie</td>\n",
              "      <td>Louis C.K.: Hilarious</td>\n",
              "    </tr>\n",
              "    <tr>\n",
              "      <th>5813</th>\n",
              "      <td>66 min</td>\n",
              "      <td>66 min</td>\n",
              "      <td>Movie</td>\n",
              "      <td>Louis C.K.: Live at the Comedy Store</td>\n",
              "    </tr>\n",
              "  </tbody>\n",
              "</table>\n",
              "</div>\n",
              "      <button class=\"colab-df-convert\" onclick=\"convertToInteractive('df-d9506e68-b12c-4a9f-998a-eac51ae3f82a')\"\n",
              "              title=\"Convert this dataframe to an interactive table.\"\n",
              "              style=\"display:none;\">\n",
              "        \n",
              "  <svg xmlns=\"http://www.w3.org/2000/svg\" height=\"24px\"viewBox=\"0 0 24 24\"\n",
              "       width=\"24px\">\n",
              "    <path d=\"M0 0h24v24H0V0z\" fill=\"none\"/>\n",
              "    <path d=\"M18.56 5.44l.94 2.06.94-2.06 2.06-.94-2.06-.94-.94-2.06-.94 2.06-2.06.94zm-11 1L8.5 8.5l.94-2.06 2.06-.94-2.06-.94L8.5 2.5l-.94 2.06-2.06.94zm10 10l.94 2.06.94-2.06 2.06-.94-2.06-.94-.94-2.06-.94 2.06-2.06.94z\"/><path d=\"M17.41 7.96l-1.37-1.37c-.4-.4-.92-.59-1.43-.59-.52 0-1.04.2-1.43.59L10.3 9.45l-7.72 7.72c-.78.78-.78 2.05 0 2.83L4 21.41c.39.39.9.59 1.41.59.51 0 1.02-.2 1.41-.59l7.78-7.78 2.81-2.81c.8-.78.8-2.07 0-2.86zM5.41 20L4 18.59l7.72-7.72 1.47 1.35L5.41 20z\"/>\n",
              "  </svg>\n",
              "      </button>\n",
              "      \n",
              "  <style>\n",
              "    .colab-df-container {\n",
              "      display:flex;\n",
              "      flex-wrap:wrap;\n",
              "      gap: 12px;\n",
              "    }\n",
              "\n",
              "    .colab-df-convert {\n",
              "      background-color: #E8F0FE;\n",
              "      border: none;\n",
              "      border-radius: 50%;\n",
              "      cursor: pointer;\n",
              "      display: none;\n",
              "      fill: #1967D2;\n",
              "      height: 32px;\n",
              "      padding: 0 0 0 0;\n",
              "      width: 32px;\n",
              "    }\n",
              "\n",
              "    .colab-df-convert:hover {\n",
              "      background-color: #E2EBFA;\n",
              "      box-shadow: 0px 1px 2px rgba(60, 64, 67, 0.3), 0px 1px 3px 1px rgba(60, 64, 67, 0.15);\n",
              "      fill: #174EA6;\n",
              "    }\n",
              "\n",
              "    [theme=dark] .colab-df-convert {\n",
              "      background-color: #3B4455;\n",
              "      fill: #D2E3FC;\n",
              "    }\n",
              "\n",
              "    [theme=dark] .colab-df-convert:hover {\n",
              "      background-color: #434B5C;\n",
              "      box-shadow: 0px 1px 3px 1px rgba(0, 0, 0, 0.15);\n",
              "      filter: drop-shadow(0px 1px 2px rgba(0, 0, 0, 0.3));\n",
              "      fill: #FFFFFF;\n",
              "    }\n",
              "  </style>\n",
              "\n",
              "      <script>\n",
              "        const buttonEl =\n",
              "          document.querySelector('#df-d9506e68-b12c-4a9f-998a-eac51ae3f82a button.colab-df-convert');\n",
              "        buttonEl.style.display =\n",
              "          google.colab.kernel.accessAllowed ? 'block' : 'none';\n",
              "\n",
              "        async function convertToInteractive(key) {\n",
              "          const element = document.querySelector('#df-d9506e68-b12c-4a9f-998a-eac51ae3f82a');\n",
              "          const dataTable =\n",
              "            await google.colab.kernel.invokeFunction('convertToInteractive',\n",
              "                                                     [key], {});\n",
              "          if (!dataTable) return;\n",
              "\n",
              "          const docLinkHtml = 'Like what you see? Visit the ' +\n",
              "            '<a target=\"_blank\" href=https://colab.research.google.com/notebooks/data_table.ipynb>data table notebook</a>'\n",
              "            + ' to learn more about interactive tables.';\n",
              "          element.innerHTML = '';\n",
              "          dataTable['output_type'] = 'display_data';\n",
              "          await google.colab.output.renderOutput(dataTable, element);\n",
              "          const docLink = document.createElement('div');\n",
              "          docLink.innerHTML = docLinkHtml;\n",
              "          element.appendChild(docLink);\n",
              "        }\n",
              "      </script>\n",
              "    </div>\n",
              "  </div>\n",
              "  "
            ]
          },
          "metadata": {},
          "execution_count": 63
        }
      ],
      "source": [
        "df_raw2[['rating', 'duration', 'type', 'title']][(df_raw2['rating'] == '66 min') | (df_raw2['rating'] == '74 min') | (df_raw2['rating'] == '84 min')]"
      ]
    },
    {
      "cell_type": "markdown",
      "metadata": {
        "id": "3wSyhilkhS2k"
      },
      "source": [
        "Confirmamos la ausencia de Nan en duration"
      ]
    },
    {
      "cell_type": "code",
      "execution_count": null,
      "metadata": {
        "colab": {
          "base_uri": "https://localhost:8080/"
        },
        "id": "GHZ0VeePgE2R",
        "outputId": "7552b89c-9564-4dbf-d2f4-81858f15b371"
      },
      "outputs": [
        {
          "output_type": "stream",
          "name": "stdout",
          "text": [
            "<class 'pandas.core.frame.DataFrame'>\n",
            "RangeIndex: 8817 entries, 0 to 8816\n",
            "Data columns (total 12 columns):\n",
            " #   Column        Non-Null Count  Dtype         \n",
            "---  ------        --------------  -----         \n",
            " 0   show_id       8817 non-null   object        \n",
            " 1   type          8817 non-null   object        \n",
            " 2   title         8817 non-null   object        \n",
            " 3   director      8817 non-null   object        \n",
            " 4   cast          8817 non-null   object        \n",
            " 5   country       8817 non-null   object        \n",
            " 6   date_added    8807 non-null   datetime64[ns]\n",
            " 7   release_year  8817 non-null   int64         \n",
            " 8   rating        8813 non-null   object        \n",
            " 9   duration      8817 non-null   object        \n",
            " 10  listed_in     8817 non-null   object        \n",
            " 11  description   8807 non-null   object        \n",
            "dtypes: datetime64[ns](1), int64(1), object(10)\n",
            "memory usage: 826.7+ KB\n"
          ]
        }
      ],
      "source": [
        "df_raw2.info()"
      ]
    },
    {
      "cell_type": "markdown",
      "metadata": {
        "id": "f5Gp7991hhjg"
      },
      "source": [
        "c. Limpiamos los datos del campo `rating` \n",
        "\n",
        "Primero modificamos los valores erróneos de `rating` a 'No Data'"
      ]
    },
    {
      "cell_type": "code",
      "execution_count": null,
      "metadata": {
        "id": "4vyhj_gjhn3y"
      },
      "outputs": [],
      "source": [
        "for i in df_raw2['rating']:\n",
        "  if 'min' in str(i):\n",
        "    df_raw2[\"rating\"] = np.where(df_raw2[\"rating\"] == i, 'No Data', df_raw2['rating'])"
      ]
    },
    {
      "cell_type": "markdown",
      "metadata": {
        "id": "JotbQx8hiHor"
      },
      "source": [
        "Luego tratamos los NaN de `rating` también a 'No Data' y mostramos una lista de valores únicos de control."
      ]
    },
    {
      "cell_type": "code",
      "execution_count": null,
      "metadata": {
        "id": "eQIJWy46iBcY"
      },
      "outputs": [],
      "source": [
        "df_raw2['rating'].replace(np.nan, 'No Data',inplace  = True)"
      ]
    },
    {
      "cell_type": "code",
      "execution_count": null,
      "metadata": {
        "colab": {
          "base_uri": "https://localhost:8080/"
        },
        "id": "HiCaUHZGh2lS",
        "outputId": "1362e45e-2276-41ed-b512-cb9f18fe46ca"
      },
      "outputs": [
        {
          "output_type": "execute_result",
          "data": {
            "text/plain": [
              "array(['PG-13', 'TV-MA', 'PG', 'TV-14', 'TV-PG', 'TV-Y', 'TV-Y7', 'R',\n",
              "       'TV-G', 'G', 'NC-17', 'No Data', 'NR', 'TV-Y7-FV', 'UR'],\n",
              "      dtype=object)"
            ]
          },
          "metadata": {},
          "execution_count": 67
        }
      ],
      "source": [
        "df_raw2['rating'].unique()"
      ]
    },
    {
      "cell_type": "markdown",
      "metadata": {
        "id": "p5Fyjk7Ci0d1"
      },
      "source": [
        "d. Al finalizar la limpieza de los datos vemos que se pudieron tratar todos los datos salvo la columna `date_added` con 10 registros NaN "
      ]
    },
    {
      "cell_type": "code",
      "execution_count": null,
      "metadata": {
        "colab": {
          "base_uri": "https://localhost:8080/"
        },
        "id": "PnmED4XIiw7R",
        "outputId": "5dba7f91-b734-4f8d-d18c-d063d45636cb"
      },
      "outputs": [
        {
          "output_type": "stream",
          "name": "stdout",
          "text": [
            "<class 'pandas.core.frame.DataFrame'>\n",
            "RangeIndex: 8817 entries, 0 to 8816\n",
            "Data columns (total 12 columns):\n",
            " #   Column        Non-Null Count  Dtype         \n",
            "---  ------        --------------  -----         \n",
            " 0   show_id       8817 non-null   object        \n",
            " 1   type          8817 non-null   object        \n",
            " 2   title         8817 non-null   object        \n",
            " 3   director      8817 non-null   object        \n",
            " 4   cast          8817 non-null   object        \n",
            " 5   country       8817 non-null   object        \n",
            " 6   date_added    8807 non-null   datetime64[ns]\n",
            " 7   release_year  8817 non-null   int64         \n",
            " 8   rating        8817 non-null   object        \n",
            " 9   duration      8817 non-null   object        \n",
            " 10  listed_in     8817 non-null   object        \n",
            " 11  description   8807 non-null   object        \n",
            "dtypes: datetime64[ns](1), int64(1), object(10)\n",
            "memory usage: 826.7+ KB\n"
          ]
        }
      ],
      "source": [
        "df_raw2.info()"
      ]
    },
    {
      "cell_type": "markdown",
      "metadata": {
        "id": "iTlGlApkX47X"
      },
      "source": [
        "\n",
        "#### 3. Identificamos varias Peliculas con más de una entrada en el dataset original\n",
        "\n",
        "\n",
        "Analizando la descripcion de las peliculas, encontramos varios registros duplicados y revisando los nombres de peliculas asociados, vemos que tienen el mismo nombre pero con una observacion incluida."
      ]
    },
    {
      "cell_type": "markdown",
      "metadata": {
        "id": "BRD8InboW7Os"
      },
      "source": [
        "Visualización de la cantidad de peliculas con la misma descripción en `description`. "
      ]
    },
    {
      "cell_type": "code",
      "execution_count": null,
      "metadata": {
        "colab": {
          "base_uri": "https://localhost:8080/",
          "height": 455
        },
        "id": "bvux6yjwzofW",
        "outputId": "12aec1d0-8a9c-464d-d0c0-d0c25ff465ad"
      },
      "outputs": [
        {
          "output_type": "execute_result",
          "data": {
            "text/plain": [
              "                                                    title\n",
              "description                                              \n",
              "Paranormal activity at a lush, abandoned proper...      4\n",
              "Multiple women report their husbands as missing...      3\n",
              "A surly septuagenarian gets another chance at h...      3\n",
              "Challenged to compose 100 songs before he can m...      3\n",
              "The Great Dog Demon beaqueathed one of the Thre...      2\n",
              "...                                                   ...\n",
              "Captain Atomic – once a superhero, now a sock p...      1\n",
              "Capt. Archer and his crew explore space and dis...      1\n",
              "Cameras following Bengaluru police on the job o...      1\n",
              "Cameras follow the banter and bonding between f...      1\n",
              "“Last Chance U” hits the hardwood in East Los A...      1\n",
              "\n",
              "[8775 rows x 1 columns]"
            ],
            "text/html": [
              "\n",
              "  <div id=\"df-d08a5d53-30bd-4e4d-99e5-d461688225f4\">\n",
              "    <div class=\"colab-df-container\">\n",
              "      <div>\n",
              "<style scoped>\n",
              "    .dataframe tbody tr th:only-of-type {\n",
              "        vertical-align: middle;\n",
              "    }\n",
              "\n",
              "    .dataframe tbody tr th {\n",
              "        vertical-align: top;\n",
              "    }\n",
              "\n",
              "    .dataframe thead th {\n",
              "        text-align: right;\n",
              "    }\n",
              "</style>\n",
              "<table border=\"1\" class=\"dataframe\">\n",
              "  <thead>\n",
              "    <tr style=\"text-align: right;\">\n",
              "      <th></th>\n",
              "      <th>title</th>\n",
              "    </tr>\n",
              "    <tr>\n",
              "      <th>description</th>\n",
              "      <th></th>\n",
              "    </tr>\n",
              "  </thead>\n",
              "  <tbody>\n",
              "    <tr>\n",
              "      <th>Paranormal activity at a lush, abandoned property alarms a group eager to redevelop the site, but the eerie events may not be as unearthly as they think.</th>\n",
              "      <td>4</td>\n",
              "    </tr>\n",
              "    <tr>\n",
              "      <th>Multiple women report their husbands as missing but when it appears they are looking for the same man, a police officer traces their cryptic connection.</th>\n",
              "      <td>3</td>\n",
              "    </tr>\n",
              "    <tr>\n",
              "      <th>A surly septuagenarian gets another chance at her 20s after having her photo snapped at a studio that magically takes 50 years off her life.</th>\n",
              "      <td>3</td>\n",
              "    </tr>\n",
              "    <tr>\n",
              "      <th>Challenged to compose 100 songs before he can marry the girl he loves, a tortured but passionate singer-songwriter embarks on a poignant musical journey.</th>\n",
              "      <td>3</td>\n",
              "    </tr>\n",
              "    <tr>\n",
              "      <th>The Great Dog Demon beaqueathed one of the Three Swords of the Fang to each of his two sons. Now the evil power of the third sword has been awakened.</th>\n",
              "      <td>2</td>\n",
              "    </tr>\n",
              "    <tr>\n",
              "      <th>...</th>\n",
              "      <td>...</td>\n",
              "    </tr>\n",
              "    <tr>\n",
              "      <th>Captain Atomic – once a superhero, now a sock puppet – can only activate his powers with the help of Joey, his new partner and biggest fan.</th>\n",
              "      <td>1</td>\n",
              "    </tr>\n",
              "    <tr>\n",
              "      <th>Capt. Archer and his crew explore space and discover human innovation-expanding technologies as they meet new alien races in this \"Star Trek\" prequel.</th>\n",
              "      <td>1</td>\n",
              "    </tr>\n",
              "    <tr>\n",
              "      <th>Cameras following Bengaluru police on the job offer a rare glimpse into the complex and challenging inner workings of four major crime investigations.</th>\n",
              "      <td>1</td>\n",
              "    </tr>\n",
              "    <tr>\n",
              "      <th>Cameras follow the banter and bonding between four fun-loving women from Bollywood’s inner circle as they juggle professions, family and friendship.</th>\n",
              "      <td>1</td>\n",
              "    </tr>\n",
              "    <tr>\n",
              "      <th>“Last Chance U” hits the hardwood in East Los Angeles as a coach with strong convictions leads young men who hope to fulfill major college potential.</th>\n",
              "      <td>1</td>\n",
              "    </tr>\n",
              "  </tbody>\n",
              "</table>\n",
              "<p>8775 rows × 1 columns</p>\n",
              "</div>\n",
              "      <button class=\"colab-df-convert\" onclick=\"convertToInteractive('df-d08a5d53-30bd-4e4d-99e5-d461688225f4')\"\n",
              "              title=\"Convert this dataframe to an interactive table.\"\n",
              "              style=\"display:none;\">\n",
              "        \n",
              "  <svg xmlns=\"http://www.w3.org/2000/svg\" height=\"24px\"viewBox=\"0 0 24 24\"\n",
              "       width=\"24px\">\n",
              "    <path d=\"M0 0h24v24H0V0z\" fill=\"none\"/>\n",
              "    <path d=\"M18.56 5.44l.94 2.06.94-2.06 2.06-.94-2.06-.94-.94-2.06-.94 2.06-2.06.94zm-11 1L8.5 8.5l.94-2.06 2.06-.94-2.06-.94L8.5 2.5l-.94 2.06-2.06.94zm10 10l.94 2.06.94-2.06 2.06-.94-2.06-.94-.94-2.06-.94 2.06-2.06.94z\"/><path d=\"M17.41 7.96l-1.37-1.37c-.4-.4-.92-.59-1.43-.59-.52 0-1.04.2-1.43.59L10.3 9.45l-7.72 7.72c-.78.78-.78 2.05 0 2.83L4 21.41c.39.39.9.59 1.41.59.51 0 1.02-.2 1.41-.59l7.78-7.78 2.81-2.81c.8-.78.8-2.07 0-2.86zM5.41 20L4 18.59l7.72-7.72 1.47 1.35L5.41 20z\"/>\n",
              "  </svg>\n",
              "      </button>\n",
              "      \n",
              "  <style>\n",
              "    .colab-df-container {\n",
              "      display:flex;\n",
              "      flex-wrap:wrap;\n",
              "      gap: 12px;\n",
              "    }\n",
              "\n",
              "    .colab-df-convert {\n",
              "      background-color: #E8F0FE;\n",
              "      border: none;\n",
              "      border-radius: 50%;\n",
              "      cursor: pointer;\n",
              "      display: none;\n",
              "      fill: #1967D2;\n",
              "      height: 32px;\n",
              "      padding: 0 0 0 0;\n",
              "      width: 32px;\n",
              "    }\n",
              "\n",
              "    .colab-df-convert:hover {\n",
              "      background-color: #E2EBFA;\n",
              "      box-shadow: 0px 1px 2px rgba(60, 64, 67, 0.3), 0px 1px 3px 1px rgba(60, 64, 67, 0.15);\n",
              "      fill: #174EA6;\n",
              "    }\n",
              "\n",
              "    [theme=dark] .colab-df-convert {\n",
              "      background-color: #3B4455;\n",
              "      fill: #D2E3FC;\n",
              "    }\n",
              "\n",
              "    [theme=dark] .colab-df-convert:hover {\n",
              "      background-color: #434B5C;\n",
              "      box-shadow: 0px 1px 3px 1px rgba(0, 0, 0, 0.15);\n",
              "      filter: drop-shadow(0px 1px 2px rgba(0, 0, 0, 0.3));\n",
              "      fill: #FFFFFF;\n",
              "    }\n",
              "  </style>\n",
              "\n",
              "      <script>\n",
              "        const buttonEl =\n",
              "          document.querySelector('#df-d08a5d53-30bd-4e4d-99e5-d461688225f4 button.colab-df-convert');\n",
              "        buttonEl.style.display =\n",
              "          google.colab.kernel.accessAllowed ? 'block' : 'none';\n",
              "\n",
              "        async function convertToInteractive(key) {\n",
              "          const element = document.querySelector('#df-d08a5d53-30bd-4e4d-99e5-d461688225f4');\n",
              "          const dataTable =\n",
              "            await google.colab.kernel.invokeFunction('convertToInteractive',\n",
              "                                                     [key], {});\n",
              "          if (!dataTable) return;\n",
              "\n",
              "          const docLinkHtml = 'Like what you see? Visit the ' +\n",
              "            '<a target=\"_blank\" href=https://colab.research.google.com/notebooks/data_table.ipynb>data table notebook</a>'\n",
              "            + ' to learn more about interactive tables.';\n",
              "          element.innerHTML = '';\n",
              "          dataTable['output_type'] = 'display_data';\n",
              "          await google.colab.output.renderOutput(dataTable, element);\n",
              "          const docLink = document.createElement('div');\n",
              "          docLink.innerHTML = docLinkHtml;\n",
              "          element.appendChild(docLink);\n",
              "        }\n",
              "      </script>\n",
              "    </div>\n",
              "  </div>\n",
              "  "
            ]
          },
          "metadata": {},
          "execution_count": 69
        }
      ],
      "source": [
        "df_raw_descr = df_raw[['description','title']].groupby('description').count()\n",
        "df_raw_descr2 = df_raw_descr.sort_values(by = ['title'], ascending=False)\n",
        "df_raw_descr2"
      ]
    },
    {
      "cell_type": "markdown",
      "metadata": {
        "id": "nKGlg0LpYRmF"
      },
      "source": [
        "Visualizamos las filas y observamos que los `títulos` y `show_id` son diferentes"
      ]
    },
    {
      "cell_type": "code",
      "execution_count": null,
      "metadata": {
        "colab": {
          "base_uri": "https://localhost:8080/",
          "height": 358
        },
        "id": "FM65po7SBk5N",
        "outputId": "66b8c380-7da5-499d-d81b-5941d9e6b9ea"
      },
      "outputs": [
        {
          "output_type": "execute_result",
          "data": {
            "text/plain": [
              "    show_id   type                title             director  \\\n",
              "236    s237  Movie              Boomika  Rathindran R Prasad   \n",
              "237    s238  Movie      Boomika (Hindi)  Rathindran R Prasad   \n",
              "238    s239  Movie  Boomika (Malayalam)  Rathindran R Prasad   \n",
              "239    s240  Movie     Boomika (Telugu)  Rathindran R Prasad   \n",
              "\n",
              "                                                  cast  country date_added  \\\n",
              "236  Aishwarya Rajesh, Vidhu, Surya Ganapathy, Madh...  No Data 2021-08-23   \n",
              "237  Aishwarya Rajesh, Vidhu, Surya Ganapathy, Madh...  No Data 2021-08-23   \n",
              "238  Aishwarya Rajesh, Vidhu, Surya Ganapathy, Madh...  No Data 2021-08-23   \n",
              "239  Aishwarya Rajesh, Vidhu, Surya Ganapathy, Madh...  No Data 2021-08-23   \n",
              "\n",
              "     release_year rating duration  \\\n",
              "236          2021  TV-14  122 min   \n",
              "237          2021  TV-14  122 min   \n",
              "238          2021  TV-14  122 min   \n",
              "239          2021  TV-14  122 min   \n",
              "\n",
              "                                          listed_in  \\\n",
              "236  Horror Movies, International Movies, Thrillers   \n",
              "237  Horror Movies, International Movies, Thrillers   \n",
              "238  Horror Movies, International Movies, Thrillers   \n",
              "239  Horror Movies, International Movies, Thrillers   \n",
              "\n",
              "                                           description  \n",
              "236  Paranormal activity at a lush, abandoned prope...  \n",
              "237  Paranormal activity at a lush, abandoned prope...  \n",
              "238  Paranormal activity at a lush, abandoned prope...  \n",
              "239  Paranormal activity at a lush, abandoned prope...  "
            ],
            "text/html": [
              "\n",
              "  <div id=\"df-b2614928-16e5-44fb-a04d-20bd59c9db9c\">\n",
              "    <div class=\"colab-df-container\">\n",
              "      <div>\n",
              "<style scoped>\n",
              "    .dataframe tbody tr th:only-of-type {\n",
              "        vertical-align: middle;\n",
              "    }\n",
              "\n",
              "    .dataframe tbody tr th {\n",
              "        vertical-align: top;\n",
              "    }\n",
              "\n",
              "    .dataframe thead th {\n",
              "        text-align: right;\n",
              "    }\n",
              "</style>\n",
              "<table border=\"1\" class=\"dataframe\">\n",
              "  <thead>\n",
              "    <tr style=\"text-align: right;\">\n",
              "      <th></th>\n",
              "      <th>show_id</th>\n",
              "      <th>type</th>\n",
              "      <th>title</th>\n",
              "      <th>director</th>\n",
              "      <th>cast</th>\n",
              "      <th>country</th>\n",
              "      <th>date_added</th>\n",
              "      <th>release_year</th>\n",
              "      <th>rating</th>\n",
              "      <th>duration</th>\n",
              "      <th>listed_in</th>\n",
              "      <th>description</th>\n",
              "    </tr>\n",
              "  </thead>\n",
              "  <tbody>\n",
              "    <tr>\n",
              "      <th>236</th>\n",
              "      <td>s237</td>\n",
              "      <td>Movie</td>\n",
              "      <td>Boomika</td>\n",
              "      <td>Rathindran R Prasad</td>\n",
              "      <td>Aishwarya Rajesh, Vidhu, Surya Ganapathy, Madh...</td>\n",
              "      <td>No Data</td>\n",
              "      <td>2021-08-23</td>\n",
              "      <td>2021</td>\n",
              "      <td>TV-14</td>\n",
              "      <td>122 min</td>\n",
              "      <td>Horror Movies, International Movies, Thrillers</td>\n",
              "      <td>Paranormal activity at a lush, abandoned prope...</td>\n",
              "    </tr>\n",
              "    <tr>\n",
              "      <th>237</th>\n",
              "      <td>s238</td>\n",
              "      <td>Movie</td>\n",
              "      <td>Boomika (Hindi)</td>\n",
              "      <td>Rathindran R Prasad</td>\n",
              "      <td>Aishwarya Rajesh, Vidhu, Surya Ganapathy, Madh...</td>\n",
              "      <td>No Data</td>\n",
              "      <td>2021-08-23</td>\n",
              "      <td>2021</td>\n",
              "      <td>TV-14</td>\n",
              "      <td>122 min</td>\n",
              "      <td>Horror Movies, International Movies, Thrillers</td>\n",
              "      <td>Paranormal activity at a lush, abandoned prope...</td>\n",
              "    </tr>\n",
              "    <tr>\n",
              "      <th>238</th>\n",
              "      <td>s239</td>\n",
              "      <td>Movie</td>\n",
              "      <td>Boomika (Malayalam)</td>\n",
              "      <td>Rathindran R Prasad</td>\n",
              "      <td>Aishwarya Rajesh, Vidhu, Surya Ganapathy, Madh...</td>\n",
              "      <td>No Data</td>\n",
              "      <td>2021-08-23</td>\n",
              "      <td>2021</td>\n",
              "      <td>TV-14</td>\n",
              "      <td>122 min</td>\n",
              "      <td>Horror Movies, International Movies, Thrillers</td>\n",
              "      <td>Paranormal activity at a lush, abandoned prope...</td>\n",
              "    </tr>\n",
              "    <tr>\n",
              "      <th>239</th>\n",
              "      <td>s240</td>\n",
              "      <td>Movie</td>\n",
              "      <td>Boomika (Telugu)</td>\n",
              "      <td>Rathindran R Prasad</td>\n",
              "      <td>Aishwarya Rajesh, Vidhu, Surya Ganapathy, Madh...</td>\n",
              "      <td>No Data</td>\n",
              "      <td>2021-08-23</td>\n",
              "      <td>2021</td>\n",
              "      <td>TV-14</td>\n",
              "      <td>122 min</td>\n",
              "      <td>Horror Movies, International Movies, Thrillers</td>\n",
              "      <td>Paranormal activity at a lush, abandoned prope...</td>\n",
              "    </tr>\n",
              "  </tbody>\n",
              "</table>\n",
              "</div>\n",
              "      <button class=\"colab-df-convert\" onclick=\"convertToInteractive('df-b2614928-16e5-44fb-a04d-20bd59c9db9c')\"\n",
              "              title=\"Convert this dataframe to an interactive table.\"\n",
              "              style=\"display:none;\">\n",
              "        \n",
              "  <svg xmlns=\"http://www.w3.org/2000/svg\" height=\"24px\"viewBox=\"0 0 24 24\"\n",
              "       width=\"24px\">\n",
              "    <path d=\"M0 0h24v24H0V0z\" fill=\"none\"/>\n",
              "    <path d=\"M18.56 5.44l.94 2.06.94-2.06 2.06-.94-2.06-.94-.94-2.06-.94 2.06-2.06.94zm-11 1L8.5 8.5l.94-2.06 2.06-.94-2.06-.94L8.5 2.5l-.94 2.06-2.06.94zm10 10l.94 2.06.94-2.06 2.06-.94-2.06-.94-.94-2.06-.94 2.06-2.06.94z\"/><path d=\"M17.41 7.96l-1.37-1.37c-.4-.4-.92-.59-1.43-.59-.52 0-1.04.2-1.43.59L10.3 9.45l-7.72 7.72c-.78.78-.78 2.05 0 2.83L4 21.41c.39.39.9.59 1.41.59.51 0 1.02-.2 1.41-.59l7.78-7.78 2.81-2.81c.8-.78.8-2.07 0-2.86zM5.41 20L4 18.59l7.72-7.72 1.47 1.35L5.41 20z\"/>\n",
              "  </svg>\n",
              "      </button>\n",
              "      \n",
              "  <style>\n",
              "    .colab-df-container {\n",
              "      display:flex;\n",
              "      flex-wrap:wrap;\n",
              "      gap: 12px;\n",
              "    }\n",
              "\n",
              "    .colab-df-convert {\n",
              "      background-color: #E8F0FE;\n",
              "      border: none;\n",
              "      border-radius: 50%;\n",
              "      cursor: pointer;\n",
              "      display: none;\n",
              "      fill: #1967D2;\n",
              "      height: 32px;\n",
              "      padding: 0 0 0 0;\n",
              "      width: 32px;\n",
              "    }\n",
              "\n",
              "    .colab-df-convert:hover {\n",
              "      background-color: #E2EBFA;\n",
              "      box-shadow: 0px 1px 2px rgba(60, 64, 67, 0.3), 0px 1px 3px 1px rgba(60, 64, 67, 0.15);\n",
              "      fill: #174EA6;\n",
              "    }\n",
              "\n",
              "    [theme=dark] .colab-df-convert {\n",
              "      background-color: #3B4455;\n",
              "      fill: #D2E3FC;\n",
              "    }\n",
              "\n",
              "    [theme=dark] .colab-df-convert:hover {\n",
              "      background-color: #434B5C;\n",
              "      box-shadow: 0px 1px 3px 1px rgba(0, 0, 0, 0.15);\n",
              "      filter: drop-shadow(0px 1px 2px rgba(0, 0, 0, 0.3));\n",
              "      fill: #FFFFFF;\n",
              "    }\n",
              "  </style>\n",
              "\n",
              "      <script>\n",
              "        const buttonEl =\n",
              "          document.querySelector('#df-b2614928-16e5-44fb-a04d-20bd59c9db9c button.colab-df-convert');\n",
              "        buttonEl.style.display =\n",
              "          google.colab.kernel.accessAllowed ? 'block' : 'none';\n",
              "\n",
              "        async function convertToInteractive(key) {\n",
              "          const element = document.querySelector('#df-b2614928-16e5-44fb-a04d-20bd59c9db9c');\n",
              "          const dataTable =\n",
              "            await google.colab.kernel.invokeFunction('convertToInteractive',\n",
              "                                                     [key], {});\n",
              "          if (!dataTable) return;\n",
              "\n",
              "          const docLinkHtml = 'Like what you see? Visit the ' +\n",
              "            '<a target=\"_blank\" href=https://colab.research.google.com/notebooks/data_table.ipynb>data table notebook</a>'\n",
              "            + ' to learn more about interactive tables.';\n",
              "          element.innerHTML = '';\n",
              "          dataTable['output_type'] = 'display_data';\n",
              "          await google.colab.output.renderOutput(dataTable, element);\n",
              "          const docLink = document.createElement('div');\n",
              "          docLink.innerHTML = docLinkHtml;\n",
              "          element.appendChild(docLink);\n",
              "        }\n",
              "      </script>\n",
              "    </div>\n",
              "  </div>\n",
              "  "
            ]
          },
          "metadata": {},
          "execution_count": 70
        }
      ],
      "source": [
        "df_raw_descr3 = df_raw.query('description==\"Paranormal activity at a lush, abandoned property alarms a group eager to redevelop the site, but the eerie events may not be as unearthly as they think.\"')\n",
        "df_raw_descr3"
      ]
    },
    {
      "cell_type": "markdown",
      "metadata": {
        "id": "AFVhj5X1Ylwr"
      },
      "source": [
        "Observación: Haciendo una investigación en la web vimos que corresponde a distintas versiones en idiomas diferentes y que al tener distinto código de `show_id` se conservaron los registros."
      ]
    },
    {
      "cell_type": "markdown",
      "metadata": {
        "id": "A_RfQNINQ6ru"
      },
      "source": [
        "---\n",
        "## Transformación de Datos"
      ]
    },
    {
      "cell_type": "markdown",
      "metadata": {
        "id": "GK9-GW3eJVfn"
      },
      "source": [
        "#### 1. Tratamiento de las columnas con varios elementos\n",
        "\n",
        "Los siguientes campos tienen varios elementos contenidos en el mismo. \n",
        "- `director`\n",
        "- `cast`\n",
        "- `country` \n",
        "- `listed_in`\n",
        "\n",
        "Creamos una función genérica `split_unpivot()` en la que pasando como argumentos el 'df' y el 'campo' a dividir la función devuelve un dataframe.  \n",
        "\n",
        "A partir de `df_raw2` que contiene el df con los NaN corregidos se crea un nuevo df con una fila para cada valor de la palabra clave contenida por ejemplo en `listed_in` con lo cual si una pelicula tenía un genero al final tendria una sola fila en el nuevo df, y si tenia tres pasará a estar tres veces ingresada en el nuevo df.\n",
        "\n",
        "Con el método `groupby`se pueden identifica las peliculas por su `show_id`\n",
        "\n"
      ]
    },
    {
      "cell_type": "code",
      "execution_count": null,
      "metadata": {
        "id": "zMx-uBOpljbb"
      },
      "outputs": [],
      "source": [
        "def split_unpivot(df, campo): \n",
        "  df_filtro = pd.DataFrame()\n",
        "                                                         # Recorremos los indices de df_raw2 y pasamos toda la fila a una variable row\n",
        "  for num_row in range(len(df)):\n",
        "    row = pd.DataFrame(df.iloc[num_row,:].to_dict(), index=[num_row])\n",
        "    cpo = (row[campo][num_row]).split(', ')           # Transformamos el contenido de la columna listed_in de string a una lista con el metodo split\n",
        "    for c in cpo:\n",
        "      row[campo] = c                                   # Recorremos la columna listed_in almacenada en genero \n",
        "      if (len(df_filtro) == 0):\n",
        "        df_filtro = row\n",
        "        df_filtro.head()\n",
        "      else:\n",
        "        df_filtro = df_filtro.append(pd.DataFrame(row))   # Agregamos a un nuevo df por cada valor en listed_in una fila con todos los valores de ese producto\n",
        "  return df_filtro"
      ]
    },
    {
      "cell_type": "code",
      "execution_count": null,
      "metadata": {
        "id": "XAXYw5KKiapG"
      },
      "outputs": [],
      "source": [
        "df_genero = split_unpivot(df_raw2, 'listed_in')\n"
      ]
    },
    {
      "cell_type": "markdown",
      "metadata": {
        "id": "PeqNixgpbO1S"
      },
      "source": [
        " y haciendo un `.head`  vemos que la primer película tiene sólo un registro mientras que la segunda tiene tres filas con distinto genéro único en `listed_in`."
      ]
    },
    {
      "cell_type": "code",
      "execution_count": null,
      "metadata": {
        "colab": {
          "base_uri": "https://localhost:8080/",
          "height": 337
        },
        "id": "s_GSlCV5nao9",
        "outputId": "d54b94ea-576f-4128-a6ea-15072e594d3e"
      },
      "outputs": [
        {
          "output_type": "execute_result",
          "data": {
            "text/plain": [
              "  show_id     type                 title         director  \\\n",
              "0      s1    Movie  Dick Johnson Is Dead  Kirsten Johnson   \n",
              "1      s2  TV Show         Blood & Water          No Data   \n",
              "1      s2  TV Show         Blood & Water          No Data   \n",
              "1      s2  TV Show         Blood & Water          No Data   \n",
              "2      s3  TV Show             Ganglands  Julien Leclercq   \n",
              "\n",
              "                                                cast        country  \\\n",
              "0                                            No Data  United States   \n",
              "1  Ama Qamata, Khosi Ngema, Gail Mabalane, Thaban...   South Africa   \n",
              "1  Ama Qamata, Khosi Ngema, Gail Mabalane, Thaban...   South Africa   \n",
              "1  Ama Qamata, Khosi Ngema, Gail Mabalane, Thaban...   South Africa   \n",
              "2  Sami Bouajila, Tracy Gotoas, Samuel Jouy, Nabi...        No Data   \n",
              "\n",
              "  date_added  release_year rating   duration               listed_in  \\\n",
              "0 2021-09-25          2020  PG-13     90 min           Documentaries   \n",
              "1 2021-09-24          2021  TV-MA  2 Seasons  International TV Shows   \n",
              "1 2021-09-24          2021  TV-MA  2 Seasons               TV Dramas   \n",
              "1 2021-09-24          2021  TV-MA  2 Seasons            TV Mysteries   \n",
              "2 2021-09-24          2021  TV-MA   1 Season          Crime TV Shows   \n",
              "\n",
              "                                         description  \n",
              "0  As her father nears the end of his life, filmm...  \n",
              "1  After crossing paths at a party, a Cape Town t...  \n",
              "1  After crossing paths at a party, a Cape Town t...  \n",
              "1  After crossing paths at a party, a Cape Town t...  \n",
              "2  To protect his family from a powerful drug lor...  "
            ],
            "text/html": [
              "\n",
              "  <div id=\"df-f8fd97ca-cf43-4014-aa6f-2ca4565a0629\">\n",
              "    <div class=\"colab-df-container\">\n",
              "      <div>\n",
              "<style scoped>\n",
              "    .dataframe tbody tr th:only-of-type {\n",
              "        vertical-align: middle;\n",
              "    }\n",
              "\n",
              "    .dataframe tbody tr th {\n",
              "        vertical-align: top;\n",
              "    }\n",
              "\n",
              "    .dataframe thead th {\n",
              "        text-align: right;\n",
              "    }\n",
              "</style>\n",
              "<table border=\"1\" class=\"dataframe\">\n",
              "  <thead>\n",
              "    <tr style=\"text-align: right;\">\n",
              "      <th></th>\n",
              "      <th>show_id</th>\n",
              "      <th>type</th>\n",
              "      <th>title</th>\n",
              "      <th>director</th>\n",
              "      <th>cast</th>\n",
              "      <th>country</th>\n",
              "      <th>date_added</th>\n",
              "      <th>release_year</th>\n",
              "      <th>rating</th>\n",
              "      <th>duration</th>\n",
              "      <th>listed_in</th>\n",
              "      <th>description</th>\n",
              "    </tr>\n",
              "  </thead>\n",
              "  <tbody>\n",
              "    <tr>\n",
              "      <th>0</th>\n",
              "      <td>s1</td>\n",
              "      <td>Movie</td>\n",
              "      <td>Dick Johnson Is Dead</td>\n",
              "      <td>Kirsten Johnson</td>\n",
              "      <td>No Data</td>\n",
              "      <td>United States</td>\n",
              "      <td>2021-09-25</td>\n",
              "      <td>2020</td>\n",
              "      <td>PG-13</td>\n",
              "      <td>90 min</td>\n",
              "      <td>Documentaries</td>\n",
              "      <td>As her father nears the end of his life, filmm...</td>\n",
              "    </tr>\n",
              "    <tr>\n",
              "      <th>1</th>\n",
              "      <td>s2</td>\n",
              "      <td>TV Show</td>\n",
              "      <td>Blood &amp; Water</td>\n",
              "      <td>No Data</td>\n",
              "      <td>Ama Qamata, Khosi Ngema, Gail Mabalane, Thaban...</td>\n",
              "      <td>South Africa</td>\n",
              "      <td>2021-09-24</td>\n",
              "      <td>2021</td>\n",
              "      <td>TV-MA</td>\n",
              "      <td>2 Seasons</td>\n",
              "      <td>International TV Shows</td>\n",
              "      <td>After crossing paths at a party, a Cape Town t...</td>\n",
              "    </tr>\n",
              "    <tr>\n",
              "      <th>1</th>\n",
              "      <td>s2</td>\n",
              "      <td>TV Show</td>\n",
              "      <td>Blood &amp; Water</td>\n",
              "      <td>No Data</td>\n",
              "      <td>Ama Qamata, Khosi Ngema, Gail Mabalane, Thaban...</td>\n",
              "      <td>South Africa</td>\n",
              "      <td>2021-09-24</td>\n",
              "      <td>2021</td>\n",
              "      <td>TV-MA</td>\n",
              "      <td>2 Seasons</td>\n",
              "      <td>TV Dramas</td>\n",
              "      <td>After crossing paths at a party, a Cape Town t...</td>\n",
              "    </tr>\n",
              "    <tr>\n",
              "      <th>1</th>\n",
              "      <td>s2</td>\n",
              "      <td>TV Show</td>\n",
              "      <td>Blood &amp; Water</td>\n",
              "      <td>No Data</td>\n",
              "      <td>Ama Qamata, Khosi Ngema, Gail Mabalane, Thaban...</td>\n",
              "      <td>South Africa</td>\n",
              "      <td>2021-09-24</td>\n",
              "      <td>2021</td>\n",
              "      <td>TV-MA</td>\n",
              "      <td>2 Seasons</td>\n",
              "      <td>TV Mysteries</td>\n",
              "      <td>After crossing paths at a party, a Cape Town t...</td>\n",
              "    </tr>\n",
              "    <tr>\n",
              "      <th>2</th>\n",
              "      <td>s3</td>\n",
              "      <td>TV Show</td>\n",
              "      <td>Ganglands</td>\n",
              "      <td>Julien Leclercq</td>\n",
              "      <td>Sami Bouajila, Tracy Gotoas, Samuel Jouy, Nabi...</td>\n",
              "      <td>No Data</td>\n",
              "      <td>2021-09-24</td>\n",
              "      <td>2021</td>\n",
              "      <td>TV-MA</td>\n",
              "      <td>1 Season</td>\n",
              "      <td>Crime TV Shows</td>\n",
              "      <td>To protect his family from a powerful drug lor...</td>\n",
              "    </tr>\n",
              "  </tbody>\n",
              "</table>\n",
              "</div>\n",
              "      <button class=\"colab-df-convert\" onclick=\"convertToInteractive('df-f8fd97ca-cf43-4014-aa6f-2ca4565a0629')\"\n",
              "              title=\"Convert this dataframe to an interactive table.\"\n",
              "              style=\"display:none;\">\n",
              "        \n",
              "  <svg xmlns=\"http://www.w3.org/2000/svg\" height=\"24px\"viewBox=\"0 0 24 24\"\n",
              "       width=\"24px\">\n",
              "    <path d=\"M0 0h24v24H0V0z\" fill=\"none\"/>\n",
              "    <path d=\"M18.56 5.44l.94 2.06.94-2.06 2.06-.94-2.06-.94-.94-2.06-.94 2.06-2.06.94zm-11 1L8.5 8.5l.94-2.06 2.06-.94-2.06-.94L8.5 2.5l-.94 2.06-2.06.94zm10 10l.94 2.06.94-2.06 2.06-.94-2.06-.94-.94-2.06-.94 2.06-2.06.94z\"/><path d=\"M17.41 7.96l-1.37-1.37c-.4-.4-.92-.59-1.43-.59-.52 0-1.04.2-1.43.59L10.3 9.45l-7.72 7.72c-.78.78-.78 2.05 0 2.83L4 21.41c.39.39.9.59 1.41.59.51 0 1.02-.2 1.41-.59l7.78-7.78 2.81-2.81c.8-.78.8-2.07 0-2.86zM5.41 20L4 18.59l7.72-7.72 1.47 1.35L5.41 20z\"/>\n",
              "  </svg>\n",
              "      </button>\n",
              "      \n",
              "  <style>\n",
              "    .colab-df-container {\n",
              "      display:flex;\n",
              "      flex-wrap:wrap;\n",
              "      gap: 12px;\n",
              "    }\n",
              "\n",
              "    .colab-df-convert {\n",
              "      background-color: #E8F0FE;\n",
              "      border: none;\n",
              "      border-radius: 50%;\n",
              "      cursor: pointer;\n",
              "      display: none;\n",
              "      fill: #1967D2;\n",
              "      height: 32px;\n",
              "      padding: 0 0 0 0;\n",
              "      width: 32px;\n",
              "    }\n",
              "\n",
              "    .colab-df-convert:hover {\n",
              "      background-color: #E2EBFA;\n",
              "      box-shadow: 0px 1px 2px rgba(60, 64, 67, 0.3), 0px 1px 3px 1px rgba(60, 64, 67, 0.15);\n",
              "      fill: #174EA6;\n",
              "    }\n",
              "\n",
              "    [theme=dark] .colab-df-convert {\n",
              "      background-color: #3B4455;\n",
              "      fill: #D2E3FC;\n",
              "    }\n",
              "\n",
              "    [theme=dark] .colab-df-convert:hover {\n",
              "      background-color: #434B5C;\n",
              "      box-shadow: 0px 1px 3px 1px rgba(0, 0, 0, 0.15);\n",
              "      filter: drop-shadow(0px 1px 2px rgba(0, 0, 0, 0.3));\n",
              "      fill: #FFFFFF;\n",
              "    }\n",
              "  </style>\n",
              "\n",
              "      <script>\n",
              "        const buttonEl =\n",
              "          document.querySelector('#df-f8fd97ca-cf43-4014-aa6f-2ca4565a0629 button.colab-df-convert');\n",
              "        buttonEl.style.display =\n",
              "          google.colab.kernel.accessAllowed ? 'block' : 'none';\n",
              "\n",
              "        async function convertToInteractive(key) {\n",
              "          const element = document.querySelector('#df-f8fd97ca-cf43-4014-aa6f-2ca4565a0629');\n",
              "          const dataTable =\n",
              "            await google.colab.kernel.invokeFunction('convertToInteractive',\n",
              "                                                     [key], {});\n",
              "          if (!dataTable) return;\n",
              "\n",
              "          const docLinkHtml = 'Like what you see? Visit the ' +\n",
              "            '<a target=\"_blank\" href=https://colab.research.google.com/notebooks/data_table.ipynb>data table notebook</a>'\n",
              "            + ' to learn more about interactive tables.';\n",
              "          element.innerHTML = '';\n",
              "          dataTable['output_type'] = 'display_data';\n",
              "          await google.colab.output.renderOutput(dataTable, element);\n",
              "          const docLink = document.createElement('div');\n",
              "          docLink.innerHTML = docLinkHtml;\n",
              "          element.appendChild(docLink);\n",
              "        }\n",
              "      </script>\n",
              "    </div>\n",
              "  </div>\n",
              "  "
            ]
          },
          "metadata": {},
          "execution_count": 73
        }
      ],
      "source": [
        "df_genero.head()"
      ]
    },
    {
      "cell_type": "markdown",
      "metadata": {
        "id": "ZhPgEitUb6Gd"
      },
      "source": [
        "El resultado de esta función `split_unpivot()` se pasa a un df temporal y sirve para cuando se desea trabajar con los datos divididos de la columna `listed_in`, `country`, etc."
      ]
    },
    {
      "cell_type": "markdown",
      "metadata": {
        "id": "erVzimcbdZXW"
      },
      "source": [
        "#### 2. Creamos un df para películas  "
      ]
    },
    {
      "cell_type": "code",
      "execution_count": null,
      "metadata": {
        "colab": {
          "base_uri": "https://localhost:8080/"
        },
        "id": "LkWGadjMHFrZ",
        "outputId": "656416df-af9d-44f6-9b8f-377babfaf34c"
      },
      "outputs": [
        {
          "output_type": "execute_result",
          "data": {
            "text/plain": [
              "0       Movie\n",
              "6       Movie\n",
              "7       Movie\n",
              "9       Movie\n",
              "12      Movie\n",
              "        ...  \n",
              "8806    Movie\n",
              "8807    Movie\n",
              "8813    Movie\n",
              "8814    Movie\n",
              "8816    Movie\n",
              "Name: type, Length: 6135, dtype: object"
            ]
          },
          "metadata": {},
          "execution_count": 74
        }
      ],
      "source": [
        "df_movies = df_raw2[df_raw2['type'] == 'Movie']\n",
        "df_movies['type']"
      ]
    },
    {
      "cell_type": "markdown",
      "metadata": {
        "id": "SS2gQev9dc3B"
      },
      "source": [
        "Dado que la columna `duration` contien un string con '66 min' por ejemplo, se aplicó el método split apar quedarnos con el valor numérico."
      ]
    },
    {
      "cell_type": "code",
      "execution_count": null,
      "metadata": {
        "colab": {
          "base_uri": "https://localhost:8080/"
        },
        "id": "cC9cfGHUHclf",
        "outputId": "42439f98-1d80-4e08-a49c-dc307c82aca7"
      },
      "outputs": [
        {
          "output_type": "stream",
          "name": "stderr",
          "text": [
            "/usr/local/lib/python3.7/dist-packages/ipykernel_launcher.py:1: SettingWithCopyWarning: \n",
            "A value is trying to be set on a copy of a slice from a DataFrame.\n",
            "Try using .loc[row_indexer,col_indexer] = value instead\n",
            "\n",
            "See the caveats in the documentation: https://pandas.pydata.org/pandas-docs/stable/user_guide/indexing.html#returning-a-view-versus-a-copy\n",
            "  \"\"\"Entry point for launching an IPython kernel.\n"
          ]
        }
      ],
      "source": [
        "df_movies['duration'] = df_movies['duration'].str.strip(\" min\")"
      ]
    },
    {
      "cell_type": "markdown",
      "metadata": {
        "id": "eGZYFeXSd-0x"
      },
      "source": [
        "Lo pasamos a `int` en una columna nueva llamada `duration_min` para que quedara claro que el valor corresponde a minutos.\n",
        "\n",
        "Confirmamos que no hay valores NaN en la columna `duration` del `df_series`"
      ]
    },
    {
      "cell_type": "code",
      "execution_count": null,
      "metadata": {
        "colab": {
          "base_uri": "https://localhost:8080/"
        },
        "id": "nHOsI6Oh7DDX",
        "outputId": "7ace5f8b-41d2-4c70-fb23-1076134e6542"
      },
      "outputs": [
        {
          "output_type": "stream",
          "name": "stdout",
          "text": [
            "<class 'pandas.core.frame.DataFrame'>\n",
            "Int64Index: 6135 entries, 0 to 8816\n",
            "Data columns (total 12 columns):\n",
            " #   Column        Non-Null Count  Dtype         \n",
            "---  ------        --------------  -----         \n",
            " 0   show_id       6135 non-null   object        \n",
            " 1   type          6135 non-null   object        \n",
            " 2   title         6135 non-null   object        \n",
            " 3   director      6135 non-null   object        \n",
            " 4   cast          6135 non-null   object        \n",
            " 5   country       6135 non-null   object        \n",
            " 6   date_added    6135 non-null   datetime64[ns]\n",
            " 7   release_year  6135 non-null   int64         \n",
            " 8   rating        6135 non-null   object        \n",
            " 9   listed_in     6135 non-null   object        \n",
            " 10  description   6131 non-null   object        \n",
            " 11  duration_min  6135 non-null   int64         \n",
            "dtypes: datetime64[ns](1), int64(2), object(9)\n",
            "memory usage: 623.1+ KB\n"
          ]
        },
        {
          "output_type": "stream",
          "name": "stderr",
          "text": [
            "/usr/local/lib/python3.7/dist-packages/ipykernel_launcher.py:1: SettingWithCopyWarning: \n",
            "A value is trying to be set on a copy of a slice from a DataFrame.\n",
            "Try using .loc[row_indexer,col_indexer] = value instead\n",
            "\n",
            "See the caveats in the documentation: https://pandas.pydata.org/pandas-docs/stable/user_guide/indexing.html#returning-a-view-versus-a-copy\n",
            "  \"\"\"Entry point for launching an IPython kernel.\n"
          ]
        }
      ],
      "source": [
        "df_movies['duration_min'] = df_movies['duration'].astype(int) # Lo paamos a entero\n",
        "df_movies = df_movies.drop('duration', axis =1)               # borramos la columna 'duration' y nos quedamos con 'duration_min'\n",
        "df_movies.info()"
      ]
    },
    {
      "cell_type": "markdown",
      "metadata": {
        "id": "osWddHeremgn"
      },
      "source": [
        "Creamos un `df_movies_g` para trabajar aplicando la función `split_unpivot()` con los géneros de las películas."
      ]
    },
    {
      "cell_type": "code",
      "execution_count": null,
      "metadata": {
        "id": "vrrhdq9DnCHi"
      },
      "outputs": [],
      "source": [
        "df_movies_g = split_unpivot(df_movies, 'listed_in')"
      ]
    },
    {
      "cell_type": "markdown",
      "metadata": {
        "id": "3qxRkeNxf5iB"
      },
      "source": [
        "#### 4. Creamos un df para series de TV\n"
      ]
    },
    {
      "cell_type": "code",
      "execution_count": null,
      "metadata": {
        "colab": {
          "base_uri": "https://localhost:8080/"
        },
        "id": "5ZuMBB1_Kdp_",
        "outputId": "c6e0fc26-5a3c-4c9a-bc4e-6188c489f6b0"
      },
      "outputs": [
        {
          "output_type": "execute_result",
          "data": {
            "text/plain": [
              "1    TV Show\n",
              "2    TV Show\n",
              "3    TV Show\n",
              "4    TV Show\n",
              "5    TV Show\n",
              "Name: type, dtype: object"
            ]
          },
          "metadata": {},
          "execution_count": 78
        }
      ],
      "source": [
        "df_series = df_raw2[df_raw2['type'] == 'TV Show']\n",
        "df_series['type'].head()"
      ]
    },
    {
      "cell_type": "markdown",
      "metadata": {
        "id": "MRnVM1i1e9mp"
      },
      "source": [
        "Vemos que el campo `duration` contiene un valor numerico y una cadena para describir la temporada"
      ]
    },
    {
      "cell_type": "code",
      "execution_count": null,
      "metadata": {
        "colab": {
          "base_uri": "https://localhost:8080/"
        },
        "id": "tUhBjUP4Pcs3",
        "outputId": "4c34ebf2-aa03-465b-b1ad-228a255a327a"
      },
      "outputs": [
        {
          "output_type": "execute_result",
          "data": {
            "text/plain": [
              "1 Season      1796\n",
              "2 Seasons      427\n",
              "3 Seasons      199\n",
              "4 Seasons       95\n",
              "5 Seasons       65\n",
              "6 Seasons       33\n",
              "7 Seasons       23\n",
              "8 Seasons       17\n",
              "9 Seasons       10\n",
              "10 Seasons       7\n",
              "13 Seasons       3\n",
              "15 Seasons       2\n",
              "12 Seasons       2\n",
              "11 Seasons       2\n",
              "17 Seasons       1\n",
              "Name: duration, dtype: int64"
            ]
          },
          "metadata": {},
          "execution_count": 79
        }
      ],
      "source": [
        "df_series['duration'].value_counts()"
      ]
    },
    {
      "cell_type": "markdown",
      "metadata": {
        "id": "6p_U0xnRgRjS"
      },
      "source": [
        "Transformamos dicho contenido usando el método `split` para quedarnos sólo con el valor numérico"
      ]
    },
    {
      "cell_type": "code",
      "execution_count": null,
      "metadata": {
        "colab": {
          "base_uri": "https://localhost:8080/"
        },
        "id": "0sRu8G8cP3VV",
        "outputId": "1e31014d-fa6c-4cdf-9241-3a21ccaca8c1"
      },
      "outputs": [
        {
          "output_type": "stream",
          "name": "stderr",
          "text": [
            "/usr/local/lib/python3.7/dist-packages/ipykernel_launcher.py:1: SettingWithCopyWarning: \n",
            "A value is trying to be set on a copy of a slice from a DataFrame.\n",
            "Try using .loc[row_indexer,col_indexer] = value instead\n",
            "\n",
            "See the caveats in the documentation: https://pandas.pydata.org/pandas-docs/stable/user_guide/indexing.html#returning-a-view-versus-a-copy\n",
            "  \"\"\"Entry point for launching an IPython kernel.\n",
            "/usr/local/lib/python3.7/dist-packages/ipykernel_launcher.py:2: SettingWithCopyWarning: \n",
            "A value is trying to be set on a copy of a slice from a DataFrame.\n",
            "Try using .loc[row_indexer,col_indexer] = value instead\n",
            "\n",
            "See the caveats in the documentation: https://pandas.pydata.org/pandas-docs/stable/user_guide/indexing.html#returning-a-view-versus-a-copy\n",
            "  \n"
          ]
        },
        {
          "output_type": "execute_result",
          "data": {
            "text/plain": [
              "1    2\n",
              "2    1\n",
              "3    1\n",
              "4    2\n",
              "5    1\n",
              "Name: duration, dtype: int64"
            ]
          },
          "metadata": {},
          "execution_count": 80
        }
      ],
      "source": [
        "df_series['duration'] = df_series['duration'].str.strip(\" Season*\")\n",
        "df_series['duration'] = df_series['duration'].astype(int)\n",
        "df_series['duration'].head()"
      ]
    },
    {
      "cell_type": "markdown",
      "metadata": {
        "id": "L8tDvmt6gnb6"
      },
      "source": [
        "Confirmamos que no hay valores NaN en la columna `duration` del `df_series`"
      ]
    },
    {
      "cell_type": "code",
      "execution_count": null,
      "metadata": {
        "colab": {
          "base_uri": "https://localhost:8080/"
        },
        "id": "YEa6ebhiREUi",
        "outputId": "c49fd45f-a38e-4fb1-a63f-b451834ffdee"
      },
      "outputs": [
        {
          "output_type": "stream",
          "name": "stdout",
          "text": [
            "<class 'pandas.core.frame.DataFrame'>\n",
            "Int64Index: 2682 entries, 1 to 8815\n",
            "Data columns (total 12 columns):\n",
            " #   Column        Non-Null Count  Dtype         \n",
            "---  ------        --------------  -----         \n",
            " 0   show_id       2682 non-null   object        \n",
            " 1   type          2682 non-null   object        \n",
            " 2   title         2682 non-null   object        \n",
            " 3   director      2682 non-null   object        \n",
            " 4   cast          2682 non-null   object        \n",
            " 5   country       2682 non-null   object        \n",
            " 6   date_added    2672 non-null   datetime64[ns]\n",
            " 7   release_year  2682 non-null   int64         \n",
            " 8   rating        2682 non-null   object        \n",
            " 9   duration      2682 non-null   int64         \n",
            " 10  listed_in     2682 non-null   object        \n",
            " 11  description   2676 non-null   object        \n",
            "dtypes: datetime64[ns](1), int64(2), object(9)\n",
            "memory usage: 272.4+ KB\n"
          ]
        }
      ],
      "source": [
        "df_series.info()"
      ]
    },
    {
      "cell_type": "markdown",
      "metadata": {
        "id": "2qhQrehLf42S"
      },
      "source": [
        "Creamos un `df_series_g` para trabajar aplicando la función `split_unpivot()` con los géneros de las series."
      ]
    },
    {
      "cell_type": "code",
      "execution_count": null,
      "metadata": {
        "id": "S7_yIaN3opSB"
      },
      "outputs": [],
      "source": [
        "df_series_g = split_unpivot(df_series, 'listed_in')"
      ]
    },
    {
      "cell_type": "markdown",
      "metadata": {
        "id": "mojtJzQTngJZ"
      },
      "source": [
        "\n",
        "---\n",
        "# Análisis y Visualizaciones\n",
        "\n",
        ">[1. Tabla según el tipo de producto](#scrollTo=Jforgg4Irt5i)\n",
        "\n",
        ">[2. Evaluación de géneros en el dataset](#scrollTo=YbFaCAEdlv8U)\n",
        "\n",
        ">[3. Evaluación del total de peliculas y series en el dataset a lo largo de lo años](#scrollTo=zHlIT1AJmzUT)\n",
        "\n",
        ">[4. Evaluación del total de peliculas y series en el dataset según el año de producción del producto](#scrollTo=CKNBZCdqsHoR)\n",
        "\n",
        ">[5. Duración de peliculas por genero](#scrollTo=K36GIDerqsmC)\n",
        "\n",
        ">[6. Géneros mas representativos en lo últimos 5 años](#scrollTo=5f6owHKoJTIC)\n",
        "\n"
      ]
    },
    {
      "cell_type": "markdown",
      "metadata": {
        "id": "Jforgg4Irt5i"
      },
      "source": [
        "#### 1. Tabla según el tipo de producto\n",
        "\n",
        "Armamos la tabla de datos para la figura de barras.\n",
        "\n",
        "[A conclusión](#scrollTo=q7ppUWSYpA7A)"
      ]
    },
    {
      "cell_type": "code",
      "execution_count": null,
      "metadata": {
        "colab": {
          "base_uri": "https://localhost:8080/"
        },
        "id": "2lLbuLkyrnJf",
        "outputId": "f40867d5-3852-40ee-ac9a-e63ed2ccd8c8"
      },
      "outputs": [
        {
          "output_type": "execute_result",
          "data": {
            "text/plain": [
              "type\n",
              "Movie      6135\n",
              "TV Show    2682\n",
              "Name: title, dtype: int64"
            ]
          },
          "metadata": {},
          "execution_count": 83
        }
      ],
      "source": [
        "tabla_tipo = df_raw2[['type', 'title']].groupby('type').count()\n",
        "tabla_tipo['title']"
      ]
    },
    {
      "cell_type": "code",
      "execution_count": null,
      "metadata": {
        "colab": {
          "base_uri": "https://localhost:8080/",
          "height": 447
        },
        "id": "iqLhMy1mryua",
        "outputId": "b15c03ab-c9ae-4363-853f-1765fddd7860"
      },
      "outputs": [
        {
          "output_type": "display_data",
          "data": {
            "text/plain": [
              "<Figure size 720x504 with 1 Axes>"
            ],
            "image/png": "[encoded data removed]"
          },
          "metadata": {
            "needs_background": "light"
          }
        }
      ],
      "source": [
        "fig = plt.figure(figsize=(10, 7))\n",
        "y = tabla_tipo['title']\n",
        "x = tabla_tipo.index\n",
        "plt.bar(x, y, color=[\"m\", 'c'])\n",
        "plt.title(\"Productos según el Tipo de Producto\", size=16)\n",
        "plt.ylabel(\"Cantidad de productos\", size=12)\n",
        "plt.show()"
      ]
    },
    {
      "cell_type": "markdown",
      "metadata": {
        "id": "i85BNm3cmO8N"
      },
      "source": [
        "Comentario: En el catálogo, predominan las películas en relación con las series de TV."
      ]
    },
    {
      "cell_type": "markdown",
      "metadata": {
        "id": "YbFaCAEdlv8U"
      },
      "source": [
        "#### 2. Evaluación de géneros  en el dataset\n",
        "\n",
        "Generamos un gráfico para ver la distribución de frecuencias en los géneros disponibles dentro del catálogo de Netflix usando el dataset.\n",
        "\n",
        "[A conclusión](#scrollTo=q7ppUWSYpA7A)"
      ]
    },
    {
      "cell_type": "code",
      "execution_count": null,
      "metadata": {
        "colab": {
          "base_uri": "https://localhost:8080/",
          "height": 625
        },
        "id": "ayjhTjMLgDaD",
        "outputId": "74ca69d5-33ad-4087-d0d8-e705f632ac7a"
      },
      "outputs": [
        {
          "output_type": "execute_result",
          "data": {
            "text/plain": [
              "<matplotlib.axes._subplots.AxesSubplot at 0x7f7c7a274c50>"
            ]
          },
          "metadata": {},
          "execution_count": 85
        },
        {
          "output_type": "display_data",
          "data": {
            "text/plain": [
              "<Figure size 864x504 with 1 Axes>"
            ],
            "image/png": "[encoded data removed]"
          },
          "metadata": {
            "needs_background": "light"
          }
        }
      ],
      "source": [
        "frec_gen = (df_genero[['listed_in', 'title']].groupby('listed_in').count()).sort_values(['title'],ascending=True)\n",
        "frec_gen.plot(kind='bar', title='Frecuencia de generos en el catalogo', ylabel='Cantidad', xlabel='Generos', color=\"r\", figsize=(12, 7))"
      ]
    },
    {
      "cell_type": "markdown",
      "metadata": {
        "id": "6falrsXHr1JK"
      },
      "source": [
        "Comentario: En el gráfico se puede observar la predominancia de los géneros “International Movies”, “Dramas” y “Comedies”, por lo contrario también podemos ver que “Classic & Cult TV” es el género con menos producciones."
      ]
    },
    {
      "cell_type": "markdown",
      "metadata": {
        "id": "X1yzMXw_DFEA"
      },
      "source": [
        "a. Series (`TV Show`) por genero"
      ]
    },
    {
      "cell_type": "code",
      "execution_count": null,
      "metadata": {
        "colab": {
          "base_uri": "https://localhost:8080/",
          "height": 770
        },
        "id": "kiDt6kVCDLJm",
        "outputId": "449dd6ad-7b08-4042-f1f6-41bbf66c20c0"
      },
      "outputs": [
        {
          "output_type": "execute_result",
          "data": {
            "text/plain": [
              "                              title\n",
              "listed_in                          \n",
              "International TV Shows         1354\n",
              "TV Dramas                       765\n",
              "TV Comedies                     582\n",
              "Crime TV Shows                  471\n",
              "Kids' TV                        451\n",
              "Docuseries                      396\n",
              "Romantic TV Shows               371\n",
              "Reality TV                      257\n",
              "British TV Shows                254\n",
              "Anime Series                    176\n",
              "Spanish-Language TV Shows       174\n",
              "TV Action & Adventure           169\n",
              "Korean TV Shows                 151\n",
              "TV Mysteries                    100\n",
              "Science & Nature TV              92\n",
              "TV Sci-Fi & Fantasy              84\n",
              "TV Horror                        76\n",
              "Teen TV Shows                    69\n",
              "TV Thrillers                     57\n",
              "Stand-Up Comedy & Talk Shows     56\n",
              "Classic & Cult TV                28\n",
              "TV Shows                         16"
            ],
            "text/html": [
              "\n",
              "  <div id=\"df-964b19d3-48b1-4df7-a200-eb7ba8814c34\">\n",
              "    <div class=\"colab-df-container\">\n",
              "      <div>\n",
              "<style scoped>\n",
              "    .dataframe tbody tr th:only-of-type {\n",
              "        vertical-align: middle;\n",
              "    }\n",
              "\n",
              "    .dataframe tbody tr th {\n",
              "        vertical-align: top;\n",
              "    }\n",
              "\n",
              "    .dataframe thead th {\n",
              "        text-align: right;\n",
              "    }\n",
              "</style>\n",
              "<table border=\"1\" class=\"dataframe\">\n",
              "  <thead>\n",
              "    <tr style=\"text-align: right;\">\n",
              "      <th></th>\n",
              "      <th>title</th>\n",
              "    </tr>\n",
              "    <tr>\n",
              "      <th>listed_in</th>\n",
              "      <th></th>\n",
              "    </tr>\n",
              "  </thead>\n",
              "  <tbody>\n",
              "    <tr>\n",
              "      <th>International TV Shows</th>\n",
              "      <td>1354</td>\n",
              "    </tr>\n",
              "    <tr>\n",
              "      <th>TV Dramas</th>\n",
              "      <td>765</td>\n",
              "    </tr>\n",
              "    <tr>\n",
              "      <th>TV Comedies</th>\n",
              "      <td>582</td>\n",
              "    </tr>\n",
              "    <tr>\n",
              "      <th>Crime TV Shows</th>\n",
              "      <td>471</td>\n",
              "    </tr>\n",
              "    <tr>\n",
              "      <th>Kids' TV</th>\n",
              "      <td>451</td>\n",
              "    </tr>\n",
              "    <tr>\n",
              "      <th>Docuseries</th>\n",
              "      <td>396</td>\n",
              "    </tr>\n",
              "    <tr>\n",
              "      <th>Romantic TV Shows</th>\n",
              "      <td>371</td>\n",
              "    </tr>\n",
              "    <tr>\n",
              "      <th>Reality TV</th>\n",
              "      <td>257</td>\n",
              "    </tr>\n",
              "    <tr>\n",
              "      <th>British TV Shows</th>\n",
              "      <td>254</td>\n",
              "    </tr>\n",
              "    <tr>\n",
              "      <th>Anime Series</th>\n",
              "      <td>176</td>\n",
              "    </tr>\n",
              "    <tr>\n",
              "      <th>Spanish-Language TV Shows</th>\n",
              "      <td>174</td>\n",
              "    </tr>\n",
              "    <tr>\n",
              "      <th>TV Action &amp; Adventure</th>\n",
              "      <td>169</td>\n",
              "    </tr>\n",
              "    <tr>\n",
              "      <th>Korean TV Shows</th>\n",
              "      <td>151</td>\n",
              "    </tr>\n",
              "    <tr>\n",
              "      <th>TV Mysteries</th>\n",
              "      <td>100</td>\n",
              "    </tr>\n",
              "    <tr>\n",
              "      <th>Science &amp; Nature TV</th>\n",
              "      <td>92</td>\n",
              "    </tr>\n",
              "    <tr>\n",
              "      <th>TV Sci-Fi &amp; Fantasy</th>\n",
              "      <td>84</td>\n",
              "    </tr>\n",
              "    <tr>\n",
              "      <th>TV Horror</th>\n",
              "      <td>76</td>\n",
              "    </tr>\n",
              "    <tr>\n",
              "      <th>Teen TV Shows</th>\n",
              "      <td>69</td>\n",
              "    </tr>\n",
              "    <tr>\n",
              "      <th>TV Thrillers</th>\n",
              "      <td>57</td>\n",
              "    </tr>\n",
              "    <tr>\n",
              "      <th>Stand-Up Comedy &amp; Talk Shows</th>\n",
              "      <td>56</td>\n",
              "    </tr>\n",
              "    <tr>\n",
              "      <th>Classic &amp; Cult TV</th>\n",
              "      <td>28</td>\n",
              "    </tr>\n",
              "    <tr>\n",
              "      <th>TV Shows</th>\n",
              "      <td>16</td>\n",
              "    </tr>\n",
              "  </tbody>\n",
              "</table>\n",
              "</div>\n",
              "      <button class=\"colab-df-convert\" onclick=\"convertToInteractive('df-964b19d3-48b1-4df7-a200-eb7ba8814c34')\"\n",
              "              title=\"Convert this dataframe to an interactive table.\"\n",
              "              style=\"display:none;\">\n",
              "        \n",
              "  <svg xmlns=\"http://www.w3.org/2000/svg\" height=\"24px\"viewBox=\"0 0 24 24\"\n",
              "       width=\"24px\">\n",
              "    <path d=\"M0 0h24v24H0V0z\" fill=\"none\"/>\n",
              "    <path d=\"M18.56 5.44l.94 2.06.94-2.06 2.06-.94-2.06-.94-.94-2.06-.94 2.06-2.06.94zm-11 1L8.5 8.5l.94-2.06 2.06-.94-2.06-.94L8.5 2.5l-.94 2.06-2.06.94zm10 10l.94 2.06.94-2.06 2.06-.94-2.06-.94-.94-2.06-.94 2.06-2.06.94z\"/><path d=\"M17.41 7.96l-1.37-1.37c-.4-.4-.92-.59-1.43-.59-.52 0-1.04.2-1.43.59L10.3 9.45l-7.72 7.72c-.78.78-.78 2.05 0 2.83L4 21.41c.39.39.9.59 1.41.59.51 0 1.02-.2 1.41-.59l7.78-7.78 2.81-2.81c.8-.78.8-2.07 0-2.86zM5.41 20L4 18.59l7.72-7.72 1.47 1.35L5.41 20z\"/>\n",
              "  </svg>\n",
              "      </button>\n",
              "      \n",
              "  <style>\n",
              "    .colab-df-container {\n",
              "      display:flex;\n",
              "      flex-wrap:wrap;\n",
              "      gap: 12px;\n",
              "    }\n",
              "\n",
              "    .colab-df-convert {\n",
              "      background-color: #E8F0FE;\n",
              "      border: none;\n",
              "      border-radius: 50%;\n",
              "      cursor: pointer;\n",
              "      display: none;\n",
              "      fill: #1967D2;\n",
              "      height: 32px;\n",
              "      padding: 0 0 0 0;\n",
              "      width: 32px;\n",
              "    }\n",
              "\n",
              "    .colab-df-convert:hover {\n",
              "      background-color: #E2EBFA;\n",
              "      box-shadow: 0px 1px 2px rgba(60, 64, 67, 0.3), 0px 1px 3px 1px rgba(60, 64, 67, 0.15);\n",
              "      fill: #174EA6;\n",
              "    }\n",
              "\n",
              "    [theme=dark] .colab-df-convert {\n",
              "      background-color: #3B4455;\n",
              "      fill: #D2E3FC;\n",
              "    }\n",
              "\n",
              "    [theme=dark] .colab-df-convert:hover {\n",
              "      background-color: #434B5C;\n",
              "      box-shadow: 0px 1px 3px 1px rgba(0, 0, 0, 0.15);\n",
              "      filter: drop-shadow(0px 1px 2px rgba(0, 0, 0, 0.3));\n",
              "      fill: #FFFFFF;\n",
              "    }\n",
              "  </style>\n",
              "\n",
              "      <script>\n",
              "        const buttonEl =\n",
              "          document.querySelector('#df-964b19d3-48b1-4df7-a200-eb7ba8814c34 button.colab-df-convert');\n",
              "        buttonEl.style.display =\n",
              "          google.colab.kernel.accessAllowed ? 'block' : 'none';\n",
              "\n",
              "        async function convertToInteractive(key) {\n",
              "          const element = document.querySelector('#df-964b19d3-48b1-4df7-a200-eb7ba8814c34');\n",
              "          const dataTable =\n",
              "            await google.colab.kernel.invokeFunction('convertToInteractive',\n",
              "                                                     [key], {});\n",
              "          if (!dataTable) return;\n",
              "\n",
              "          const docLinkHtml = 'Like what you see? Visit the ' +\n",
              "            '<a target=\"_blank\" href=https://colab.research.google.com/notebooks/data_table.ipynb>data table notebook</a>'\n",
              "            + ' to learn more about interactive tables.';\n",
              "          element.innerHTML = '';\n",
              "          dataTable['output_type'] = 'display_data';\n",
              "          await google.colab.output.renderOutput(dataTable, element);\n",
              "          const docLink = document.createElement('div');\n",
              "          docLink.innerHTML = docLinkHtml;\n",
              "          element.appendChild(docLink);\n",
              "        }\n",
              "      </script>\n",
              "    </div>\n",
              "  </div>\n",
              "  "
            ]
          },
          "metadata": {},
          "execution_count": 86
        }
      ],
      "source": [
        "tabla_genero_s = df_genero[df_genero['type'] == 'TV Show']\n",
        "tabla_genero_s = tabla_genero_s[['listed_in', 'title']].groupby('listed_in').count()\n",
        "tabla_genero_s = tabla_genero_s.sort_values(['title'],ascending=False)\n",
        "tabla_genero_s"
      ]
    },
    {
      "cell_type": "markdown",
      "metadata": {
        "id": "pnC-AkHkDm3p"
      },
      "source": [
        "b. Peliculas (`Movies`) por Género"
      ]
    },
    {
      "cell_type": "code",
      "execution_count": null,
      "metadata": {
        "colab": {
          "base_uri": "https://localhost:8080/",
          "height": 708
        },
        "id": "CVpS6btYDT4-",
        "outputId": "43b803d7-1712-4e5c-de77-8810a8f73702"
      },
      "outputs": [
        {
          "output_type": "execute_result",
          "data": {
            "text/plain": [
              "                          title\n",
              "listed_in                      \n",
              "International Movies       2753\n",
              "Dramas                     2429\n",
              "Comedies                   1675\n",
              "Documentaries               870\n",
              "Action & Adventure          859\n",
              "Independent Movies          757\n",
              "Children & Family Movies    642\n",
              "Romantic Movies             616\n",
              "Thrillers                   577\n",
              "Music & Musicals            375\n",
              "Horror Movies               357\n",
              "Stand-Up Comedy             343\n",
              "Sci-Fi & Fantasy            243\n",
              "Sports Movies               219\n",
              "Classic Movies              116\n",
              "LGBTQ Movies                102\n",
              "Cult Movies                  71\n",
              "Anime Features               71\n",
              "Faith & Spirituality         65\n",
              "Movies                       57"
            ],
            "text/html": [
              "\n",
              "  <div id=\"df-0340a9e1-e620-431c-bd3a-cde5607852e0\">\n",
              "    <div class=\"colab-df-container\">\n",
              "      <div>\n",
              "<style scoped>\n",
              "    .dataframe tbody tr th:only-of-type {\n",
              "        vertical-align: middle;\n",
              "    }\n",
              "\n",
              "    .dataframe tbody tr th {\n",
              "        vertical-align: top;\n",
              "    }\n",
              "\n",
              "    .dataframe thead th {\n",
              "        text-align: right;\n",
              "    }\n",
              "</style>\n",
              "<table border=\"1\" class=\"dataframe\">\n",
              "  <thead>\n",
              "    <tr style=\"text-align: right;\">\n",
              "      <th></th>\n",
              "      <th>title</th>\n",
              "    </tr>\n",
              "    <tr>\n",
              "      <th>listed_in</th>\n",
              "      <th></th>\n",
              "    </tr>\n",
              "  </thead>\n",
              "  <tbody>\n",
              "    <tr>\n",
              "      <th>International Movies</th>\n",
              "      <td>2753</td>\n",
              "    </tr>\n",
              "    <tr>\n",
              "      <th>Dramas</th>\n",
              "      <td>2429</td>\n",
              "    </tr>\n",
              "    <tr>\n",
              "      <th>Comedies</th>\n",
              "      <td>1675</td>\n",
              "    </tr>\n",
              "    <tr>\n",
              "      <th>Documentaries</th>\n",
              "      <td>870</td>\n",
              "    </tr>\n",
              "    <tr>\n",
              "      <th>Action &amp; Adventure</th>\n",
              "      <td>859</td>\n",
              "    </tr>\n",
              "    <tr>\n",
              "      <th>Independent Movies</th>\n",
              "      <td>757</td>\n",
              "    </tr>\n",
              "    <tr>\n",
              "      <th>Children &amp; Family Movies</th>\n",
              "      <td>642</td>\n",
              "    </tr>\n",
              "    <tr>\n",
              "      <th>Romantic Movies</th>\n",
              "      <td>616</td>\n",
              "    </tr>\n",
              "    <tr>\n",
              "      <th>Thrillers</th>\n",
              "      <td>577</td>\n",
              "    </tr>\n",
              "    <tr>\n",
              "      <th>Music &amp; Musicals</th>\n",
              "      <td>375</td>\n",
              "    </tr>\n",
              "    <tr>\n",
              "      <th>Horror Movies</th>\n",
              "      <td>357</td>\n",
              "    </tr>\n",
              "    <tr>\n",
              "      <th>Stand-Up Comedy</th>\n",
              "      <td>343</td>\n",
              "    </tr>\n",
              "    <tr>\n",
              "      <th>Sci-Fi &amp; Fantasy</th>\n",
              "      <td>243</td>\n",
              "    </tr>\n",
              "    <tr>\n",
              "      <th>Sports Movies</th>\n",
              "      <td>219</td>\n",
              "    </tr>\n",
              "    <tr>\n",
              "      <th>Classic Movies</th>\n",
              "      <td>116</td>\n",
              "    </tr>\n",
              "    <tr>\n",
              "      <th>LGBTQ Movies</th>\n",
              "      <td>102</td>\n",
              "    </tr>\n",
              "    <tr>\n",
              "      <th>Cult Movies</th>\n",
              "      <td>71</td>\n",
              "    </tr>\n",
              "    <tr>\n",
              "      <th>Anime Features</th>\n",
              "      <td>71</td>\n",
              "    </tr>\n",
              "    <tr>\n",
              "      <th>Faith &amp; Spirituality</th>\n",
              "      <td>65</td>\n",
              "    </tr>\n",
              "    <tr>\n",
              "      <th>Movies</th>\n",
              "      <td>57</td>\n",
              "    </tr>\n",
              "  </tbody>\n",
              "</table>\n",
              "</div>\n",
              "      <button class=\"colab-df-convert\" onclick=\"convertToInteractive('df-0340a9e1-e620-431c-bd3a-cde5607852e0')\"\n",
              "              title=\"Convert this dataframe to an interactive table.\"\n",
              "              style=\"display:none;\">\n",
              "        \n",
              "  <svg xmlns=\"http://www.w3.org/2000/svg\" height=\"24px\"viewBox=\"0 0 24 24\"\n",
              "       width=\"24px\">\n",
              "    <path d=\"M0 0h24v24H0V0z\" fill=\"none\"/>\n",
              "    <path d=\"M18.56 5.44l.94 2.06.94-2.06 2.06-.94-2.06-.94-.94-2.06-.94 2.06-2.06.94zm-11 1L8.5 8.5l.94-2.06 2.06-.94-2.06-.94L8.5 2.5l-.94 2.06-2.06.94zm10 10l.94 2.06.94-2.06 2.06-.94-2.06-.94-.94-2.06-.94 2.06-2.06.94z\"/><path d=\"M17.41 7.96l-1.37-1.37c-.4-.4-.92-.59-1.43-.59-.52 0-1.04.2-1.43.59L10.3 9.45l-7.72 7.72c-.78.78-.78 2.05 0 2.83L4 21.41c.39.39.9.59 1.41.59.51 0 1.02-.2 1.41-.59l7.78-7.78 2.81-2.81c.8-.78.8-2.07 0-2.86zM5.41 20L4 18.59l7.72-7.72 1.47 1.35L5.41 20z\"/>\n",
              "  </svg>\n",
              "      </button>\n",
              "      \n",
              "  <style>\n",
              "    .colab-df-container {\n",
              "      display:flex;\n",
              "      flex-wrap:wrap;\n",
              "      gap: 12px;\n",
              "    }\n",
              "\n",
              "    .colab-df-convert {\n",
              "      background-color: #E8F0FE;\n",
              "      border: none;\n",
              "      border-radius: 50%;\n",
              "      cursor: pointer;\n",
              "      display: none;\n",
              "      fill: #1967D2;\n",
              "      height: 32px;\n",
              "      padding: 0 0 0 0;\n",
              "      width: 32px;\n",
              "    }\n",
              "\n",
              "    .colab-df-convert:hover {\n",
              "      background-color: #E2EBFA;\n",
              "      box-shadow: 0px 1px 2px rgba(60, 64, 67, 0.3), 0px 1px 3px 1px rgba(60, 64, 67, 0.15);\n",
              "      fill: #174EA6;\n",
              "    }\n",
              "\n",
              "    [theme=dark] .colab-df-convert {\n",
              "      background-color: #3B4455;\n",
              "      fill: #D2E3FC;\n",
              "    }\n",
              "\n",
              "    [theme=dark] .colab-df-convert:hover {\n",
              "      background-color: #434B5C;\n",
              "      box-shadow: 0px 1px 3px 1px rgba(0, 0, 0, 0.15);\n",
              "      filter: drop-shadow(0px 1px 2px rgba(0, 0, 0, 0.3));\n",
              "      fill: #FFFFFF;\n",
              "    }\n",
              "  </style>\n",
              "\n",
              "      <script>\n",
              "        const buttonEl =\n",
              "          document.querySelector('#df-0340a9e1-e620-431c-bd3a-cde5607852e0 button.colab-df-convert');\n",
              "        buttonEl.style.display =\n",
              "          google.colab.kernel.accessAllowed ? 'block' : 'none';\n",
              "\n",
              "        async function convertToInteractive(key) {\n",
              "          const element = document.querySelector('#df-0340a9e1-e620-431c-bd3a-cde5607852e0');\n",
              "          const dataTable =\n",
              "            await google.colab.kernel.invokeFunction('convertToInteractive',\n",
              "                                                     [key], {});\n",
              "          if (!dataTable) return;\n",
              "\n",
              "          const docLinkHtml = 'Like what you see? Visit the ' +\n",
              "            '<a target=\"_blank\" href=https://colab.research.google.com/notebooks/data_table.ipynb>data table notebook</a>'\n",
              "            + ' to learn more about interactive tables.';\n",
              "          element.innerHTML = '';\n",
              "          dataTable['output_type'] = 'display_data';\n",
              "          await google.colab.output.renderOutput(dataTable, element);\n",
              "          const docLink = document.createElement('div');\n",
              "          docLink.innerHTML = docLinkHtml;\n",
              "          element.appendChild(docLink);\n",
              "        }\n",
              "      </script>\n",
              "    </div>\n",
              "  </div>\n",
              "  "
            ]
          },
          "metadata": {},
          "execution_count": 87
        }
      ],
      "source": [
        "tabla_genero_p = df_genero[df_genero['type'] == 'Movie']\n",
        "tabla_genero_p = tabla_genero_p[['listed_in', 'title']].groupby('listed_in').count()\n",
        "tabla_genero_p = tabla_genero_p.sort_values(['title'],ascending=False)\n",
        "tabla_genero_p"
      ]
    },
    {
      "cell_type": "code",
      "execution_count": null,
      "metadata": {
        "colab": {
          "base_uri": "https://localhost:8080/",
          "height": 763
        },
        "id": "QSLkH_Kd1GdC",
        "outputId": "e9d1efd4-cb5a-4f8d-b566-9ee46cd45cdb"
      },
      "outputs": [
        {
          "output_type": "execute_result",
          "data": {
            "text/plain": [
              "Text(0.5, 0.98, 'Productos Por Géneros')"
            ]
          },
          "metadata": {},
          "execution_count": 88
        },
        {
          "output_type": "display_data",
          "data": {
            "text/plain": [
              "<Figure size 1080x720 with 2 Axes>"
            ],
            "image/png": "[encoded data removed]"
          },
          "metadata": {
            "needs_background": "light"
          }
        }
      ],
      "source": [
        "fig = plt.figure(figsize=(10, 5), constrained_layout=True)\n",
        "spec = fig.add_gridspec(ncols=2, nrows=1)\n",
        "plt.tight_layout()\n",
        "\n",
        "ax0 = fig.add_subplot(spec[0, 0])\n",
        "tabla_genero_p.plot(kind='bar', title='Películas', ylabel='Cantidad',\n",
        "         figsize=(15, 10), color ='m', xlabel = ' ' , ax = ax0)\n",
        "plt.legend(loc='upper left')\n",
        "\n",
        "ax1 = fig.add_subplot(spec[0, 1])\n",
        "tabla_genero_s.plot(kind='bar', title='Series', ylabel='Cantidad',\n",
        "         figsize=(15, 10), color ='c', xlabel = ' ' , ax = ax1)\n",
        "plt.legend(loc='upper left')\n",
        "\n",
        "fig.suptitle('Productos Por Géneros', size = 16)"
      ]
    },
    {
      "cell_type": "markdown",
      "metadata": {
        "id": "zHlIT1AJmzUT"
      },
      "source": [
        "#### 3. Evaluación del total de peliculas y series en el dataset a lo largo de lo años\n",
        "\n",
        "\n",
        "\n",
        "[A conclusión](#scrollTo=q7ppUWSYpA7A)"
      ]
    },
    {
      "cell_type": "markdown",
      "metadata": {
        "id": "6SYEIfebn0DA"
      },
      "source": [
        "Focalizamos el análisis en los últimos 5 años (principalmente para ver evolución con la pandemia) usando la función `separar_año()`\n",
        "\n",
        "Presentamos la curva de títulos por año global y su caída a posteriori del 2019"
      ]
    },
    {
      "cell_type": "code",
      "execution_count": null,
      "metadata": {
        "id": "i1v0UYRUjE0y"
      },
      "outputs": [],
      "source": [
        "def separar_año(inicio, fin, df):\n",
        "  mask = (df[\"date_added\"] <= (fin)) & (df[\"date_added\"] >= (inicio))\n",
        "  df_raw_año = df[mask]\n",
        "  return df_raw_año"
      ]
    },
    {
      "cell_type": "code",
      "execution_count": null,
      "metadata": {
        "colab": {
          "base_uri": "https://localhost:8080/",
          "height": 446
        },
        "id": "30YUDfhvfmOF",
        "outputId": "550359b2-62bd-4e88-94dd-d4991f5b57b1"
      },
      "outputs": [
        {
          "output_type": "display_data",
          "data": {
            "text/plain": [
              "<Figure size 720x504 with 1 Axes>"
            ],
            "image/png": "[encoded data removed]"
          },
          "metadata": {
            "needs_background": "light"
          }
        }
      ],
      "source": [
        "fig = plt.figure(figsize=(10, 7))\n",
        "y = ((separar_año(\"2017-01-01\",\"2017-12-31\", df_raw2)[\"title\"].count()), (separar_año(\"2018-01-01\",\"2018-12-31\", df_raw2)[\"title\"].count()), (separar_año(\"2019-01-01\",\"2019-12-31\", df_raw2)[\"title\"].count()), (separar_año(\"2020-01-01\",\"2020-12-31\", df_raw2)[\"title\"].count()), (separar_año(\"2021-01-01\",\"2021-12-31\", df_raw2)[\"title\"].count()))\n",
        "x = (2017, 2018 , 2019, 2020, 2021)\n",
        "plt.plot(x, y, marker=\"o\", markersize=7, color=\"r\")\n",
        "plt.title(\"Progreso de adiciones\", size=16)\n",
        "plt.ylabel(\"Cantidad de adiciones\", size=12)\n",
        "plt.show()"
      ]
    },
    {
      "cell_type": "markdown",
      "metadata": {
        "id": "jn6LklxZCOjm"
      },
      "source": [
        "Evaluamos la evolución anual discrimando por películas y series.\n",
        "\n",
        "Creamos una columna que contenga el año de la columna `date_added`"
      ]
    },
    {
      "cell_type": "code",
      "execution_count": null,
      "metadata": {
        "colab": {
          "base_uri": "https://localhost:8080/"
        },
        "id": "U8V4DoMyklqK",
        "outputId": "1dde27c0-dec9-45ba-b9a4-84f495179f3b"
      },
      "outputs": [
        {
          "output_type": "execute_result",
          "data": {
            "text/plain": [
              "0       2021.0\n",
              "1       2021.0\n",
              "2       2021.0\n",
              "3       2021.0\n",
              "4       2021.0\n",
              "         ...  \n",
              "8812    2022.0\n",
              "8813    2022.0\n",
              "8814    2022.0\n",
              "8815    2022.0\n",
              "8816    2022.0\n",
              "Name: anio, Length: 8817, dtype: float64"
            ]
          },
          "metadata": {},
          "execution_count": 91
        }
      ],
      "source": [
        "df_raw2['anio'] = pd.DatetimeIndex(df_raw2['date_added']).year\n",
        "year = df_raw2['anio']\n",
        "year"
      ]
    },
    {
      "cell_type": "markdown",
      "metadata": {
        "id": "gC2cWo7-nYOI"
      },
      "source": [
        "Armamos la tabla para las películas"
      ]
    },
    {
      "cell_type": "code",
      "execution_count": null,
      "metadata": {
        "colab": {
          "base_uri": "https://localhost:8080/",
          "height": 551
        },
        "id": "LROHkUXuko6w",
        "outputId": "a316d6ea-a3c7-455b-bc47-b3005b82a970"
      },
      "outputs": [
        {
          "output_type": "execute_result",
          "data": {
            "text/plain": [
              "        title\n",
              "anio         \n",
              "2022.0      4\n",
              "2021.0    993\n",
              "2020.0   1284\n",
              "2019.0   1424\n",
              "2018.0   1237\n",
              "2017.0    839\n",
              "2016.0    253\n",
              "2015.0     56\n",
              "2014.0     19\n",
              "2013.0      6\n",
              "2012.0      3\n",
              "2011.0     13\n",
              "2010.0      1\n",
              "2009.0      2\n",
              "2008.0      1"
            ],
            "text/html": [
              "\n",
              "  <div id=\"df-91cf3f16-b87b-41d9-9acd-a10f0a00725f\">\n",
              "    <div class=\"colab-df-container\">\n",
              "      <div>\n",
              "<style scoped>\n",
              "    .dataframe tbody tr th:only-of-type {\n",
              "        vertical-align: middle;\n",
              "    }\n",
              "\n",
              "    .dataframe tbody tr th {\n",
              "        vertical-align: top;\n",
              "    }\n",
              "\n",
              "    .dataframe thead th {\n",
              "        text-align: right;\n",
              "    }\n",
              "</style>\n",
              "<table border=\"1\" class=\"dataframe\">\n",
              "  <thead>\n",
              "    <tr style=\"text-align: right;\">\n",
              "      <th></th>\n",
              "      <th>title</th>\n",
              "    </tr>\n",
              "    <tr>\n",
              "      <th>anio</th>\n",
              "      <th></th>\n",
              "    </tr>\n",
              "  </thead>\n",
              "  <tbody>\n",
              "    <tr>\n",
              "      <th>2022.0</th>\n",
              "      <td>4</td>\n",
              "    </tr>\n",
              "    <tr>\n",
              "      <th>2021.0</th>\n",
              "      <td>993</td>\n",
              "    </tr>\n",
              "    <tr>\n",
              "      <th>2020.0</th>\n",
              "      <td>1284</td>\n",
              "    </tr>\n",
              "    <tr>\n",
              "      <th>2019.0</th>\n",
              "      <td>1424</td>\n",
              "    </tr>\n",
              "    <tr>\n",
              "      <th>2018.0</th>\n",
              "      <td>1237</td>\n",
              "    </tr>\n",
              "    <tr>\n",
              "      <th>2017.0</th>\n",
              "      <td>839</td>\n",
              "    </tr>\n",
              "    <tr>\n",
              "      <th>2016.0</th>\n",
              "      <td>253</td>\n",
              "    </tr>\n",
              "    <tr>\n",
              "      <th>2015.0</th>\n",
              "      <td>56</td>\n",
              "    </tr>\n",
              "    <tr>\n",
              "      <th>2014.0</th>\n",
              "      <td>19</td>\n",
              "    </tr>\n",
              "    <tr>\n",
              "      <th>2013.0</th>\n",
              "      <td>6</td>\n",
              "    </tr>\n",
              "    <tr>\n",
              "      <th>2012.0</th>\n",
              "      <td>3</td>\n",
              "    </tr>\n",
              "    <tr>\n",
              "      <th>2011.0</th>\n",
              "      <td>13</td>\n",
              "    </tr>\n",
              "    <tr>\n",
              "      <th>2010.0</th>\n",
              "      <td>1</td>\n",
              "    </tr>\n",
              "    <tr>\n",
              "      <th>2009.0</th>\n",
              "      <td>2</td>\n",
              "    </tr>\n",
              "    <tr>\n",
              "      <th>2008.0</th>\n",
              "      <td>1</td>\n",
              "    </tr>\n",
              "  </tbody>\n",
              "</table>\n",
              "</div>\n",
              "      <button class=\"colab-df-convert\" onclick=\"convertToInteractive('df-91cf3f16-b87b-41d9-9acd-a10f0a00725f')\"\n",
              "              title=\"Convert this dataframe to an interactive table.\"\n",
              "              style=\"display:none;\">\n",
              "        \n",
              "  <svg xmlns=\"http://www.w3.org/2000/svg\" height=\"24px\"viewBox=\"0 0 24 24\"\n",
              "       width=\"24px\">\n",
              "    <path d=\"M0 0h24v24H0V0z\" fill=\"none\"/>\n",
              "    <path d=\"M18.56 5.44l.94 2.06.94-2.06 2.06-.94-2.06-.94-.94-2.06-.94 2.06-2.06.94zm-11 1L8.5 8.5l.94-2.06 2.06-.94-2.06-.94L8.5 2.5l-.94 2.06-2.06.94zm10 10l.94 2.06.94-2.06 2.06-.94-2.06-.94-.94-2.06-.94 2.06-2.06.94z\"/><path d=\"M17.41 7.96l-1.37-1.37c-.4-.4-.92-.59-1.43-.59-.52 0-1.04.2-1.43.59L10.3 9.45l-7.72 7.72c-.78.78-.78 2.05 0 2.83L4 21.41c.39.39.9.59 1.41.59.51 0 1.02-.2 1.41-.59l7.78-7.78 2.81-2.81c.8-.78.8-2.07 0-2.86zM5.41 20L4 18.59l7.72-7.72 1.47 1.35L5.41 20z\"/>\n",
              "  </svg>\n",
              "      </button>\n",
              "      \n",
              "  <style>\n",
              "    .colab-df-container {\n",
              "      display:flex;\n",
              "      flex-wrap:wrap;\n",
              "      gap: 12px;\n",
              "    }\n",
              "\n",
              "    .colab-df-convert {\n",
              "      background-color: #E8F0FE;\n",
              "      border: none;\n",
              "      border-radius: 50%;\n",
              "      cursor: pointer;\n",
              "      display: none;\n",
              "      fill: #1967D2;\n",
              "      height: 32px;\n",
              "      padding: 0 0 0 0;\n",
              "      width: 32px;\n",
              "    }\n",
              "\n",
              "    .colab-df-convert:hover {\n",
              "      background-color: #E2EBFA;\n",
              "      box-shadow: 0px 1px 2px rgba(60, 64, 67, 0.3), 0px 1px 3px 1px rgba(60, 64, 67, 0.15);\n",
              "      fill: #174EA6;\n",
              "    }\n",
              "\n",
              "    [theme=dark] .colab-df-convert {\n",
              "      background-color: #3B4455;\n",
              "      fill: #D2E3FC;\n",
              "    }\n",
              "\n",
              "    [theme=dark] .colab-df-convert:hover {\n",
              "      background-color: #434B5C;\n",
              "      box-shadow: 0px 1px 3px 1px rgba(0, 0, 0, 0.15);\n",
              "      filter: drop-shadow(0px 1px 2px rgba(0, 0, 0, 0.3));\n",
              "      fill: #FFFFFF;\n",
              "    }\n",
              "  </style>\n",
              "\n",
              "      <script>\n",
              "        const buttonEl =\n",
              "          document.querySelector('#df-91cf3f16-b87b-41d9-9acd-a10f0a00725f button.colab-df-convert');\n",
              "        buttonEl.style.display =\n",
              "          google.colab.kernel.accessAllowed ? 'block' : 'none';\n",
              "\n",
              "        async function convertToInteractive(key) {\n",
              "          const element = document.querySelector('#df-91cf3f16-b87b-41d9-9acd-a10f0a00725f');\n",
              "          const dataTable =\n",
              "            await google.colab.kernel.invokeFunction('convertToInteractive',\n",
              "                                                     [key], {});\n",
              "          if (!dataTable) return;\n",
              "\n",
              "          const docLinkHtml = 'Like what you see? Visit the ' +\n",
              "            '<a target=\"_blank\" href=https://colab.research.google.com/notebooks/data_table.ipynb>data table notebook</a>'\n",
              "            + ' to learn more about interactive tables.';\n",
              "          element.innerHTML = '';\n",
              "          dataTable['output_type'] = 'display_data';\n",
              "          await google.colab.output.renderOutput(dataTable, element);\n",
              "          const docLink = document.createElement('div');\n",
              "          docLink.innerHTML = docLinkHtml;\n",
              "          element.appendChild(docLink);\n",
              "        }\n",
              "      </script>\n",
              "    </div>\n",
              "  </div>\n",
              "  "
            ]
          },
          "metadata": {},
          "execution_count": 92
        }
      ],
      "source": [
        "tabla_anio_m = df_raw2[df_raw2['type'] == 'Movie']\n",
        "tabla_anio_m = tabla_anio_m[['anio', 'title']].groupby('anio').count()\n",
        "tabla_anio_m = tabla_anio_m.sort_values(['anio'],ascending=False)\n",
        "tabla_anio_m"
      ]
    },
    {
      "cell_type": "markdown",
      "metadata": {
        "id": "4lMgqoTvndBp"
      },
      "source": [
        "Armamos la tabla para las series"
      ]
    },
    {
      "cell_type": "code",
      "execution_count": null,
      "metadata": {
        "colab": {
          "base_uri": "https://localhost:8080/",
          "height": 426
        },
        "id": "N-sxFGN2kr8E",
        "outputId": "fea367e3-a6f1-4db9-f3e3-730822978ce0"
      },
      "outputs": [
        {
          "output_type": "execute_result",
          "data": {
            "text/plain": [
              "        title\n",
              "anio         \n",
              "2022.0      6\n",
              "2021.0    505\n",
              "2020.0    595\n",
              "2019.0    592\n",
              "2018.0    412\n",
              "2017.0    349\n",
              "2016.0    176\n",
              "2015.0     26\n",
              "2014.0      5\n",
              "2013.0      5\n",
              "2008.0      1"
            ],
            "text/html": [
              "\n",
              "  <div id=\"df-66585a9b-0039-49a1-b3e2-e97d5178cf0a\">\n",
              "    <div class=\"colab-df-container\">\n",
              "      <div>\n",
              "<style scoped>\n",
              "    .dataframe tbody tr th:only-of-type {\n",
              "        vertical-align: middle;\n",
              "    }\n",
              "\n",
              "    .dataframe tbody tr th {\n",
              "        vertical-align: top;\n",
              "    }\n",
              "\n",
              "    .dataframe thead th {\n",
              "        text-align: right;\n",
              "    }\n",
              "</style>\n",
              "<table border=\"1\" class=\"dataframe\">\n",
              "  <thead>\n",
              "    <tr style=\"text-align: right;\">\n",
              "      <th></th>\n",
              "      <th>title</th>\n",
              "    </tr>\n",
              "    <tr>\n",
              "      <th>anio</th>\n",
              "      <th></th>\n",
              "    </tr>\n",
              "  </thead>\n",
              "  <tbody>\n",
              "    <tr>\n",
              "      <th>2022.0</th>\n",
              "      <td>6</td>\n",
              "    </tr>\n",
              "    <tr>\n",
              "      <th>2021.0</th>\n",
              "      <td>505</td>\n",
              "    </tr>\n",
              "    <tr>\n",
              "      <th>2020.0</th>\n",
              "      <td>595</td>\n",
              "    </tr>\n",
              "    <tr>\n",
              "      <th>2019.0</th>\n",
              "      <td>592</td>\n",
              "    </tr>\n",
              "    <tr>\n",
              "      <th>2018.0</th>\n",
              "      <td>412</td>\n",
              "    </tr>\n",
              "    <tr>\n",
              "      <th>2017.0</th>\n",
              "      <td>349</td>\n",
              "    </tr>\n",
              "    <tr>\n",
              "      <th>2016.0</th>\n",
              "      <td>176</td>\n",
              "    </tr>\n",
              "    <tr>\n",
              "      <th>2015.0</th>\n",
              "      <td>26</td>\n",
              "    </tr>\n",
              "    <tr>\n",
              "      <th>2014.0</th>\n",
              "      <td>5</td>\n",
              "    </tr>\n",
              "    <tr>\n",
              "      <th>2013.0</th>\n",
              "      <td>5</td>\n",
              "    </tr>\n",
              "    <tr>\n",
              "      <th>2008.0</th>\n",
              "      <td>1</td>\n",
              "    </tr>\n",
              "  </tbody>\n",
              "</table>\n",
              "</div>\n",
              "      <button class=\"colab-df-convert\" onclick=\"convertToInteractive('df-66585a9b-0039-49a1-b3e2-e97d5178cf0a')\"\n",
              "              title=\"Convert this dataframe to an interactive table.\"\n",
              "              style=\"display:none;\">\n",
              "        \n",
              "  <svg xmlns=\"http://www.w3.org/2000/svg\" height=\"24px\"viewBox=\"0 0 24 24\"\n",
              "       width=\"24px\">\n",
              "    <path d=\"M0 0h24v24H0V0z\" fill=\"none\"/>\n",
              "    <path d=\"M18.56 5.44l.94 2.06.94-2.06 2.06-.94-2.06-.94-.94-2.06-.94 2.06-2.06.94zm-11 1L8.5 8.5l.94-2.06 2.06-.94-2.06-.94L8.5 2.5l-.94 2.06-2.06.94zm10 10l.94 2.06.94-2.06 2.06-.94-2.06-.94-.94-2.06-.94 2.06-2.06.94z\"/><path d=\"M17.41 7.96l-1.37-1.37c-.4-.4-.92-.59-1.43-.59-.52 0-1.04.2-1.43.59L10.3 9.45l-7.72 7.72c-.78.78-.78 2.05 0 2.83L4 21.41c.39.39.9.59 1.41.59.51 0 1.02-.2 1.41-.59l7.78-7.78 2.81-2.81c.8-.78.8-2.07 0-2.86zM5.41 20L4 18.59l7.72-7.72 1.47 1.35L5.41 20z\"/>\n",
              "  </svg>\n",
              "      </button>\n",
              "      \n",
              "  <style>\n",
              "    .colab-df-container {\n",
              "      display:flex;\n",
              "      flex-wrap:wrap;\n",
              "      gap: 12px;\n",
              "    }\n",
              "\n",
              "    .colab-df-convert {\n",
              "      background-color: #E8F0FE;\n",
              "      border: none;\n",
              "      border-radius: 50%;\n",
              "      cursor: pointer;\n",
              "      display: none;\n",
              "      fill: #1967D2;\n",
              "      height: 32px;\n",
              "      padding: 0 0 0 0;\n",
              "      width: 32px;\n",
              "    }\n",
              "\n",
              "    .colab-df-convert:hover {\n",
              "      background-color: #E2EBFA;\n",
              "      box-shadow: 0px 1px 2px rgba(60, 64, 67, 0.3), 0px 1px 3px 1px rgba(60, 64, 67, 0.15);\n",
              "      fill: #174EA6;\n",
              "    }\n",
              "\n",
              "    [theme=dark] .colab-df-convert {\n",
              "      background-color: #3B4455;\n",
              "      fill: #D2E3FC;\n",
              "    }\n",
              "\n",
              "    [theme=dark] .colab-df-convert:hover {\n",
              "      background-color: #434B5C;\n",
              "      box-shadow: 0px 1px 3px 1px rgba(0, 0, 0, 0.15);\n",
              "      filter: drop-shadow(0px 1px 2px rgba(0, 0, 0, 0.3));\n",
              "      fill: #FFFFFF;\n",
              "    }\n",
              "  </style>\n",
              "\n",
              "      <script>\n",
              "        const buttonEl =\n",
              "          document.querySelector('#df-66585a9b-0039-49a1-b3e2-e97d5178cf0a button.colab-df-convert');\n",
              "        buttonEl.style.display =\n",
              "          google.colab.kernel.accessAllowed ? 'block' : 'none';\n",
              "\n",
              "        async function convertToInteractive(key) {\n",
              "          const element = document.querySelector('#df-66585a9b-0039-49a1-b3e2-e97d5178cf0a');\n",
              "          const dataTable =\n",
              "            await google.colab.kernel.invokeFunction('convertToInteractive',\n",
              "                                                     [key], {});\n",
              "          if (!dataTable) return;\n",
              "\n",
              "          const docLinkHtml = 'Like what you see? Visit the ' +\n",
              "            '<a target=\"_blank\" href=https://colab.research.google.com/notebooks/data_table.ipynb>data table notebook</a>'\n",
              "            + ' to learn more about interactive tables.';\n",
              "          element.innerHTML = '';\n",
              "          dataTable['output_type'] = 'display_data';\n",
              "          await google.colab.output.renderOutput(dataTable, element);\n",
              "          const docLink = document.createElement('div');\n",
              "          docLink.innerHTML = docLinkHtml;\n",
              "          element.appendChild(docLink);\n",
              "        }\n",
              "      </script>\n",
              "    </div>\n",
              "  </div>\n",
              "  "
            ]
          },
          "metadata": {},
          "execution_count": 93
        }
      ],
      "source": [
        "tabla_anio_s = df_raw2[df_raw2['type'] == 'TV Show']\n",
        "tabla_anio_s = tabla_anio_s[['anio', 'title']].groupby('anio').count()\n",
        "tabla_anio_s = tabla_anio_s.sort_values(['anio'],ascending=False)\n",
        "tabla_anio_s"
      ]
    },
    {
      "cell_type": "code",
      "execution_count": null,
      "metadata": {
        "colab": {
          "base_uri": "https://localhost:8080/",
          "height": 447
        },
        "id": "YkdFqjMNkvAt",
        "outputId": "202c1cdf-5ea8-42ca-9d6e-4ccbdfac09b3"
      },
      "outputs": [
        {
          "output_type": "display_data",
          "data": {
            "text/plain": [
              "<Figure size 720x504 with 1 Axes>"
            ],
            "image/png": "[encoded data removed]"
          },
          "metadata": {
            "needs_background": "light"
          }
        }
      ],
      "source": [
        "fig = plt.figure(figsize=(10, 7))\n",
        "\n",
        "x1 = tabla_anio_m.index\n",
        "x2 = tabla_anio_s.index\n",
        "y1 = tabla_anio_m['title']\n",
        "y2 = tabla_anio_s['title']\n",
        "\n",
        "plt.plot(x1, y1, 'r', x2, y2, 'b')\n",
        "plt.xlim(2010, 2022)\n",
        "plt.ylim(0, 1500)\n",
        "plt.ylabel('Cantidad')\n",
        "plt.legend(['Movies', 'TV Show'], loc = 'upper left')\n",
        "plt.title('Evolución del Catálogo Por Años', size = 16)\n",
        "\n",
        "\n",
        "plt.show()"
      ]
    },
    {
      "cell_type": "markdown",
      "metadata": {
        "id": "CKNBZCdqsHoR"
      },
      "source": [
        "#### 4. Evaluación del total de peliculas y series en el dataset según el año de producción del producto (`release_year`)\n",
        "\n",
        "[A conclusión](#scrollTo=q7ppUWSYpA7A)"
      ]
    },
    {
      "cell_type": "code",
      "execution_count": null,
      "metadata": {
        "colab": {
          "base_uri": "https://localhost:8080/"
        },
        "id": "4w_BVWPmsKTN",
        "outputId": "8c88cf3b-2cac-4d0a-8aa0-757f44743eee"
      },
      "outputs": [
        {
          "output_type": "execute_result",
          "data": {
            "text/plain": [
              "release_year\n",
              "1925       1\n",
              "1942       2\n",
              "1943       3\n",
              "1944       3\n",
              "1945       4\n",
              "        ... \n",
              "2017    1032\n",
              "2018    1147\n",
              "2019    1030\n",
              "2020     954\n",
              "2021     600\n",
              "Name: title, Length: 74, dtype: int64"
            ]
          },
          "metadata": {},
          "execution_count": 95
        }
      ],
      "source": [
        "tabla_anio_prod = df_raw2[['release_year', 'title']].groupby('release_year').count()\n",
        "tabla_anio_prod['title']"
      ]
    },
    {
      "cell_type": "code",
      "execution_count": null,
      "metadata": {
        "colab": {
          "base_uri": "https://localhost:8080/",
          "height": 446
        },
        "id": "ql-rzcr-sK6-",
        "outputId": "1733dac4-43ce-4ca6-ef15-f61d63ecc3de"
      },
      "outputs": [
        {
          "output_type": "display_data",
          "data": {
            "text/plain": [
              "<Figure size 720x504 with 1 Axes>"
            ],
            "image/png": "[encoded data removed]"
          },
          "metadata": {
            "needs_background": "light"
          }
        }
      ],
      "source": [
        "fig = plt.figure(figsize=(10, 7))\n",
        "y = tabla_anio_prod['title']\n",
        "x = tabla_anio_prod.index\n",
        "plt.plot(x, y, marker=\"o\", markersize=7, color=\"g\")\n",
        "plt.title(\"Año de Producción\", size=16)\n",
        "plt.ylabel(\"Cantidad de producciones\", size=12)\n",
        "plt.show()"
      ]
    },
    {
      "cell_type": "markdown",
      "metadata": {
        "id": "z7jaQ72potqI"
      },
      "source": [
        "Comentario: Se visualiza un pico en el año 2019 con un pronunciado descenso coincidente con la el inicio de la pandemia COVID-19."
      ]
    },
    {
      "cell_type": "markdown",
      "metadata": {
        "id": "K36GIDerqsmC"
      },
      "source": [
        "#### 5. Duración de peliculas por genero\n",
        "\n",
        "\n",
        "[A conclusión](#scrollTo=q7ppUWSYpA7A)\n"
      ]
    },
    {
      "cell_type": "markdown",
      "metadata": {
        "id": "hv8mgUL0pSGc"
      },
      "source": [
        "Trabajamos con el df generado con la función`spilt_unpivot()`"
      ]
    },
    {
      "cell_type": "code",
      "execution_count": null,
      "metadata": {
        "colab": {
          "base_uri": "https://localhost:8080/",
          "height": 406
        },
        "id": "BZI94bwf4iKb",
        "outputId": "06233370-cded-4fe7-de1a-ef62163e07d8"
      },
      "outputs": [
        {
          "output_type": "execute_result",
          "data": {
            "text/plain": [
              "  show_id   type                             title  \\\n",
              "0      s1  Movie              Dick Johnson Is Dead   \n",
              "1      s7  Movie  My Little Pony: A New Generation   \n",
              "2      s8  Movie                           Sankofa   \n",
              "2      s8  Movie                           Sankofa   \n",
              "2      s8  Movie                           Sankofa   \n",
              "\n",
              "                        director  \\\n",
              "0                Kirsten Johnson   \n",
              "1  Robert Cullen, José Luis Ucha   \n",
              "2                   Haile Gerima   \n",
              "2                   Haile Gerima   \n",
              "2                   Haile Gerima   \n",
              "\n",
              "                                                cast  \\\n",
              "0                                            No Data   \n",
              "1  Vanessa Hudgens, Kimiko Glenn, James Marsden, ...   \n",
              "2  Kofi Ghanaba, Oyafunmike Ogunlano, Alexandra D...   \n",
              "2  Kofi Ghanaba, Oyafunmike Ogunlano, Alexandra D...   \n",
              "2  Kofi Ghanaba, Oyafunmike Ogunlano, Alexandra D...   \n",
              "\n",
              "                                             country date_added  release_year  \\\n",
              "0                                      United States 2021-09-25          2020   \n",
              "1                                            No Data 2021-09-24          2021   \n",
              "2  United States, Ghana, Burkina Faso, United Kin... 2021-09-24          1993   \n",
              "2  United States, Ghana, Burkina Faso, United Kin... 2021-09-24          1993   \n",
              "2  United States, Ghana, Burkina Faso, United Kin... 2021-09-24          1993   \n",
              "\n",
              "  rating                 listed_in  \\\n",
              "0  PG-13             Documentaries   \n",
              "1     PG  Children & Family Movies   \n",
              "2  TV-MA                    Dramas   \n",
              "2  TV-MA        Independent Movies   \n",
              "2  TV-MA      International Movies   \n",
              "\n",
              "                                         description  duration_min  \n",
              "0  As her father nears the end of his life, filmm...            90  \n",
              "1  Equestria's divided. But a bright-eyed hero be...            91  \n",
              "2  On a photo shoot in Ghana, an American model s...           125  \n",
              "2  On a photo shoot in Ghana, an American model s...           125  \n",
              "2  On a photo shoot in Ghana, an American model s...           125  "
            ],
            "text/html": [
              "\n",
              "  <div id=\"df-f7eb8c91-e6e5-43bb-b27f-9da76db8b2c1\">\n",
              "    <div class=\"colab-df-container\">\n",
              "      <div>\n",
              "<style scoped>\n",
              "    .dataframe tbody tr th:only-of-type {\n",
              "        vertical-align: middle;\n",
              "    }\n",
              "\n",
              "    .dataframe tbody tr th {\n",
              "        vertical-align: top;\n",
              "    }\n",
              "\n",
              "    .dataframe thead th {\n",
              "        text-align: right;\n",
              "    }\n",
              "</style>\n",
              "<table border=\"1\" class=\"dataframe\">\n",
              "  <thead>\n",
              "    <tr style=\"text-align: right;\">\n",
              "      <th></th>\n",
              "      <th>show_id</th>\n",
              "      <th>type</th>\n",
              "      <th>title</th>\n",
              "      <th>director</th>\n",
              "      <th>cast</th>\n",
              "      <th>country</th>\n",
              "      <th>date_added</th>\n",
              "      <th>release_year</th>\n",
              "      <th>rating</th>\n",
              "      <th>listed_in</th>\n",
              "      <th>description</th>\n",
              "      <th>duration_min</th>\n",
              "    </tr>\n",
              "  </thead>\n",
              "  <tbody>\n",
              "    <tr>\n",
              "      <th>0</th>\n",
              "      <td>s1</td>\n",
              "      <td>Movie</td>\n",
              "      <td>Dick Johnson Is Dead</td>\n",
              "      <td>Kirsten Johnson</td>\n",
              "      <td>No Data</td>\n",
              "      <td>United States</td>\n",
              "      <td>2021-09-25</td>\n",
              "      <td>2020</td>\n",
              "      <td>PG-13</td>\n",
              "      <td>Documentaries</td>\n",
              "      <td>As her father nears the end of his life, filmm...</td>\n",
              "      <td>90</td>\n",
              "    </tr>\n",
              "    <tr>\n",
              "      <th>1</th>\n",
              "      <td>s7</td>\n",
              "      <td>Movie</td>\n",
              "      <td>My Little Pony: A New Generation</td>\n",
              "      <td>Robert Cullen, José Luis Ucha</td>\n",
              "      <td>Vanessa Hudgens, Kimiko Glenn, James Marsden, ...</td>\n",
              "      <td>No Data</td>\n",
              "      <td>2021-09-24</td>\n",
              "      <td>2021</td>\n",
              "      <td>PG</td>\n",
              "      <td>Children &amp; Family Movies</td>\n",
              "      <td>Equestria's divided. But a bright-eyed hero be...</td>\n",
              "      <td>91</td>\n",
              "    </tr>\n",
              "    <tr>\n",
              "      <th>2</th>\n",
              "      <td>s8</td>\n",
              "      <td>Movie</td>\n",
              "      <td>Sankofa</td>\n",
              "      <td>Haile Gerima</td>\n",
              "      <td>Kofi Ghanaba, Oyafunmike Ogunlano, Alexandra D...</td>\n",
              "      <td>United States, Ghana, Burkina Faso, United Kin...</td>\n",
              "      <td>2021-09-24</td>\n",
              "      <td>1993</td>\n",
              "      <td>TV-MA</td>\n",
              "      <td>Dramas</td>\n",
              "      <td>On a photo shoot in Ghana, an American model s...</td>\n",
              "      <td>125</td>\n",
              "    </tr>\n",
              "    <tr>\n",
              "      <th>2</th>\n",
              "      <td>s8</td>\n",
              "      <td>Movie</td>\n",
              "      <td>Sankofa</td>\n",
              "      <td>Haile Gerima</td>\n",
              "      <td>Kofi Ghanaba, Oyafunmike Ogunlano, Alexandra D...</td>\n",
              "      <td>United States, Ghana, Burkina Faso, United Kin...</td>\n",
              "      <td>2021-09-24</td>\n",
              "      <td>1993</td>\n",
              "      <td>TV-MA</td>\n",
              "      <td>Independent Movies</td>\n",
              "      <td>On a photo shoot in Ghana, an American model s...</td>\n",
              "      <td>125</td>\n",
              "    </tr>\n",
              "    <tr>\n",
              "      <th>2</th>\n",
              "      <td>s8</td>\n",
              "      <td>Movie</td>\n",
              "      <td>Sankofa</td>\n",
              "      <td>Haile Gerima</td>\n",
              "      <td>Kofi Ghanaba, Oyafunmike Ogunlano, Alexandra D...</td>\n",
              "      <td>United States, Ghana, Burkina Faso, United Kin...</td>\n",
              "      <td>2021-09-24</td>\n",
              "      <td>1993</td>\n",
              "      <td>TV-MA</td>\n",
              "      <td>International Movies</td>\n",
              "      <td>On a photo shoot in Ghana, an American model s...</td>\n",
              "      <td>125</td>\n",
              "    </tr>\n",
              "  </tbody>\n",
              "</table>\n",
              "</div>\n",
              "      <button class=\"colab-df-convert\" onclick=\"convertToInteractive('df-f7eb8c91-e6e5-43bb-b27f-9da76db8b2c1')\"\n",
              "              title=\"Convert this dataframe to an interactive table.\"\n",
              "              style=\"display:none;\">\n",
              "        \n",
              "  <svg xmlns=\"http://www.w3.org/2000/svg\" height=\"24px\"viewBox=\"0 0 24 24\"\n",
              "       width=\"24px\">\n",
              "    <path d=\"M0 0h24v24H0V0z\" fill=\"none\"/>\n",
              "    <path d=\"M18.56 5.44l.94 2.06.94-2.06 2.06-.94-2.06-.94-.94-2.06-.94 2.06-2.06.94zm-11 1L8.5 8.5l.94-2.06 2.06-.94-2.06-.94L8.5 2.5l-.94 2.06-2.06.94zm10 10l.94 2.06.94-2.06 2.06-.94-2.06-.94-.94-2.06-.94 2.06-2.06.94z\"/><path d=\"M17.41 7.96l-1.37-1.37c-.4-.4-.92-.59-1.43-.59-.52 0-1.04.2-1.43.59L10.3 9.45l-7.72 7.72c-.78.78-.78 2.05 0 2.83L4 21.41c.39.39.9.59 1.41.59.51 0 1.02-.2 1.41-.59l7.78-7.78 2.81-2.81c.8-.78.8-2.07 0-2.86zM5.41 20L4 18.59l7.72-7.72 1.47 1.35L5.41 20z\"/>\n",
              "  </svg>\n",
              "      </button>\n",
              "      \n",
              "  <style>\n",
              "    .colab-df-container {\n",
              "      display:flex;\n",
              "      flex-wrap:wrap;\n",
              "      gap: 12px;\n",
              "    }\n",
              "\n",
              "    .colab-df-convert {\n",
              "      background-color: #E8F0FE;\n",
              "      border: none;\n",
              "      border-radius: 50%;\n",
              "      cursor: pointer;\n",
              "      display: none;\n",
              "      fill: #1967D2;\n",
              "      height: 32px;\n",
              "      padding: 0 0 0 0;\n",
              "      width: 32px;\n",
              "    }\n",
              "\n",
              "    .colab-df-convert:hover {\n",
              "      background-color: #E2EBFA;\n",
              "      box-shadow: 0px 1px 2px rgba(60, 64, 67, 0.3), 0px 1px 3px 1px rgba(60, 64, 67, 0.15);\n",
              "      fill: #174EA6;\n",
              "    }\n",
              "\n",
              "    [theme=dark] .colab-df-convert {\n",
              "      background-color: #3B4455;\n",
              "      fill: #D2E3FC;\n",
              "    }\n",
              "\n",
              "    [theme=dark] .colab-df-convert:hover {\n",
              "      background-color: #434B5C;\n",
              "      box-shadow: 0px 1px 3px 1px rgba(0, 0, 0, 0.15);\n",
              "      filter: drop-shadow(0px 1px 2px rgba(0, 0, 0, 0.3));\n",
              "      fill: #FFFFFF;\n",
              "    }\n",
              "  </style>\n",
              "\n",
              "      <script>\n",
              "        const buttonEl =\n",
              "          document.querySelector('#df-f7eb8c91-e6e5-43bb-b27f-9da76db8b2c1 button.colab-df-convert');\n",
              "        buttonEl.style.display =\n",
              "          google.colab.kernel.accessAllowed ? 'block' : 'none';\n",
              "\n",
              "        async function convertToInteractive(key) {\n",
              "          const element = document.querySelector('#df-f7eb8c91-e6e5-43bb-b27f-9da76db8b2c1');\n",
              "          const dataTable =\n",
              "            await google.colab.kernel.invokeFunction('convertToInteractive',\n",
              "                                                     [key], {});\n",
              "          if (!dataTable) return;\n",
              "\n",
              "          const docLinkHtml = 'Like what you see? Visit the ' +\n",
              "            '<a target=\"_blank\" href=https://colab.research.google.com/notebooks/data_table.ipynb>data table notebook</a>'\n",
              "            + ' to learn more about interactive tables.';\n",
              "          element.innerHTML = '';\n",
              "          dataTable['output_type'] = 'display_data';\n",
              "          await google.colab.output.renderOutput(dataTable, element);\n",
              "          const docLink = document.createElement('div');\n",
              "          docLink.innerHTML = docLinkHtml;\n",
              "          element.appendChild(docLink);\n",
              "        }\n",
              "      </script>\n",
              "    </div>\n",
              "  </div>\n",
              "  "
            ]
          },
          "metadata": {},
          "execution_count": 97
        }
      ],
      "source": [
        "df_movies_g.head() # este df es el resultado de split_unpivot()"
      ]
    },
    {
      "cell_type": "markdown",
      "metadata": {
        "id": "FTAm_7xypf7C"
      },
      "source": [
        "Tabulamos los resultados y generamos el gráfico de barras"
      ]
    },
    {
      "cell_type": "code",
      "execution_count": null,
      "metadata": {
        "id": "E18sIyT_4lo7"
      },
      "outputs": [],
      "source": [
        "out = df_movies_g[['listed_in','duration_min']].groupby('listed_in').mean()\n",
        "out = out.sort_values(by='duration_min', ascending= False)"
      ]
    },
    {
      "cell_type": "code",
      "execution_count": null,
      "metadata": {
        "colab": {
          "base_uri": "https://localhost:8080/",
          "height": 708
        },
        "id": "x2ZRJsAM5sSp",
        "outputId": "9c241393-c810-47fa-bd6e-8b3fd3411c4c"
      },
      "outputs": [
        {
          "output_type": "execute_result",
          "data": {
            "text/plain": [
              "                          duration_min\n",
              "listed_in                             \n",
              "Classic Movies              118.646552\n",
              "Action & Adventure          113.515716\n",
              "Dramas                      113.052285\n",
              "Romantic Movies             110.573052\n",
              "International Movies        110.355249\n",
              "Thrillers                   107.166378\n",
              "Music & Musicals            106.125333\n",
              "Sci-Fi & Fantasy            106.016461\n",
              "Faith & Spirituality        105.584615\n",
              "Cult Movies                 104.521127\n",
              "Comedies                    103.876418\n",
              "Independent Movies          101.083223\n",
              "Horror Movies                98.445378\n",
              "Sports Movies                94.698630\n",
              "LGBTQ Movies                 94.294118\n",
              "Anime Features               92.943662\n",
              "Documentaries                81.640230\n",
              "Children & Family Movies     79.953271\n",
              "Stand-Up Comedy              67.326531\n",
              "Movies                       47.017544"
            ],
            "text/html": [
              "\n",
              "  <div id=\"df-d87b2a43-8372-4554-964d-4eeee0f8bb19\">\n",
              "    <div class=\"colab-df-container\">\n",
              "      <div>\n",
              "<style scoped>\n",
              "    .dataframe tbody tr th:only-of-type {\n",
              "        vertical-align: middle;\n",
              "    }\n",
              "\n",
              "    .dataframe tbody tr th {\n",
              "        vertical-align: top;\n",
              "    }\n",
              "\n",
              "    .dataframe thead th {\n",
              "        text-align: right;\n",
              "    }\n",
              "</style>\n",
              "<table border=\"1\" class=\"dataframe\">\n",
              "  <thead>\n",
              "    <tr style=\"text-align: right;\">\n",
              "      <th></th>\n",
              "      <th>duration_min</th>\n",
              "    </tr>\n",
              "    <tr>\n",
              "      <th>listed_in</th>\n",
              "      <th></th>\n",
              "    </tr>\n",
              "  </thead>\n",
              "  <tbody>\n",
              "    <tr>\n",
              "      <th>Classic Movies</th>\n",
              "      <td>118.646552</td>\n",
              "    </tr>\n",
              "    <tr>\n",
              "      <th>Action &amp; Adventure</th>\n",
              "      <td>113.515716</td>\n",
              "    </tr>\n",
              "    <tr>\n",
              "      <th>Dramas</th>\n",
              "      <td>113.052285</td>\n",
              "    </tr>\n",
              "    <tr>\n",
              "      <th>Romantic Movies</th>\n",
              "      <td>110.573052</td>\n",
              "    </tr>\n",
              "    <tr>\n",
              "      <th>International Movies</th>\n",
              "      <td>110.355249</td>\n",
              "    </tr>\n",
              "    <tr>\n",
              "      <th>Thrillers</th>\n",
              "      <td>107.166378</td>\n",
              "    </tr>\n",
              "    <tr>\n",
              "      <th>Music &amp; Musicals</th>\n",
              "      <td>106.125333</td>\n",
              "    </tr>\n",
              "    <tr>\n",
              "      <th>Sci-Fi &amp; Fantasy</th>\n",
              "      <td>106.016461</td>\n",
              "    </tr>\n",
              "    <tr>\n",
              "      <th>Faith &amp; Spirituality</th>\n",
              "      <td>105.584615</td>\n",
              "    </tr>\n",
              "    <tr>\n",
              "      <th>Cult Movies</th>\n",
              "      <td>104.521127</td>\n",
              "    </tr>\n",
              "    <tr>\n",
              "      <th>Comedies</th>\n",
              "      <td>103.876418</td>\n",
              "    </tr>\n",
              "    <tr>\n",
              "      <th>Independent Movies</th>\n",
              "      <td>101.083223</td>\n",
              "    </tr>\n",
              "    <tr>\n",
              "      <th>Horror Movies</th>\n",
              "      <td>98.445378</td>\n",
              "    </tr>\n",
              "    <tr>\n",
              "      <th>Sports Movies</th>\n",
              "      <td>94.698630</td>\n",
              "    </tr>\n",
              "    <tr>\n",
              "      <th>LGBTQ Movies</th>\n",
              "      <td>94.294118</td>\n",
              "    </tr>\n",
              "    <tr>\n",
              "      <th>Anime Features</th>\n",
              "      <td>92.943662</td>\n",
              "    </tr>\n",
              "    <tr>\n",
              "      <th>Documentaries</th>\n",
              "      <td>81.640230</td>\n",
              "    </tr>\n",
              "    <tr>\n",
              "      <th>Children &amp; Family Movies</th>\n",
              "      <td>79.953271</td>\n",
              "    </tr>\n",
              "    <tr>\n",
              "      <th>Stand-Up Comedy</th>\n",
              "      <td>67.326531</td>\n",
              "    </tr>\n",
              "    <tr>\n",
              "      <th>Movies</th>\n",
              "      <td>47.017544</td>\n",
              "    </tr>\n",
              "  </tbody>\n",
              "</table>\n",
              "</div>\n",
              "      <button class=\"colab-df-convert\" onclick=\"convertToInteractive('df-d87b2a43-8372-4554-964d-4eeee0f8bb19')\"\n",
              "              title=\"Convert this dataframe to an interactive table.\"\n",
              "              style=\"display:none;\">\n",
              "        \n",
              "  <svg xmlns=\"http://www.w3.org/2000/svg\" height=\"24px\"viewBox=\"0 0 24 24\"\n",
              "       width=\"24px\">\n",
              "    <path d=\"M0 0h24v24H0V0z\" fill=\"none\"/>\n",
              "    <path d=\"M18.56 5.44l.94 2.06.94-2.06 2.06-.94-2.06-.94-.94-2.06-.94 2.06-2.06.94zm-11 1L8.5 8.5l.94-2.06 2.06-.94-2.06-.94L8.5 2.5l-.94 2.06-2.06.94zm10 10l.94 2.06.94-2.06 2.06-.94-2.06-.94-.94-2.06-.94 2.06-2.06.94z\"/><path d=\"M17.41 7.96l-1.37-1.37c-.4-.4-.92-.59-1.43-.59-.52 0-1.04.2-1.43.59L10.3 9.45l-7.72 7.72c-.78.78-.78 2.05 0 2.83L4 21.41c.39.39.9.59 1.41.59.51 0 1.02-.2 1.41-.59l7.78-7.78 2.81-2.81c.8-.78.8-2.07 0-2.86zM5.41 20L4 18.59l7.72-7.72 1.47 1.35L5.41 20z\"/>\n",
              "  </svg>\n",
              "      </button>\n",
              "      \n",
              "  <style>\n",
              "    .colab-df-container {\n",
              "      display:flex;\n",
              "      flex-wrap:wrap;\n",
              "      gap: 12px;\n",
              "    }\n",
              "\n",
              "    .colab-df-convert {\n",
              "      background-color: #E8F0FE;\n",
              "      border: none;\n",
              "      border-radius: 50%;\n",
              "      cursor: pointer;\n",
              "      display: none;\n",
              "      fill: #1967D2;\n",
              "      height: 32px;\n",
              "      padding: 0 0 0 0;\n",
              "      width: 32px;\n",
              "    }\n",
              "\n",
              "    .colab-df-convert:hover {\n",
              "      background-color: #E2EBFA;\n",
              "      box-shadow: 0px 1px 2px rgba(60, 64, 67, 0.3), 0px 1px 3px 1px rgba(60, 64, 67, 0.15);\n",
              "      fill: #174EA6;\n",
              "    }\n",
              "\n",
              "    [theme=dark] .colab-df-convert {\n",
              "      background-color: #3B4455;\n",
              "      fill: #D2E3FC;\n",
              "    }\n",
              "\n",
              "    [theme=dark] .colab-df-convert:hover {\n",
              "      background-color: #434B5C;\n",
              "      box-shadow: 0px 1px 3px 1px rgba(0, 0, 0, 0.15);\n",
              "      filter: drop-shadow(0px 1px 2px rgba(0, 0, 0, 0.3));\n",
              "      fill: #FFFFFF;\n",
              "    }\n",
              "  </style>\n",
              "\n",
              "      <script>\n",
              "        const buttonEl =\n",
              "          document.querySelector('#df-d87b2a43-8372-4554-964d-4eeee0f8bb19 button.colab-df-convert');\n",
              "        buttonEl.style.display =\n",
              "          google.colab.kernel.accessAllowed ? 'block' : 'none';\n",
              "\n",
              "        async function convertToInteractive(key) {\n",
              "          const element = document.querySelector('#df-d87b2a43-8372-4554-964d-4eeee0f8bb19');\n",
              "          const dataTable =\n",
              "            await google.colab.kernel.invokeFunction('convertToInteractive',\n",
              "                                                     [key], {});\n",
              "          if (!dataTable) return;\n",
              "\n",
              "          const docLinkHtml = 'Like what you see? Visit the ' +\n",
              "            '<a target=\"_blank\" href=https://colab.research.google.com/notebooks/data_table.ipynb>data table notebook</a>'\n",
              "            + ' to learn more about interactive tables.';\n",
              "          element.innerHTML = '';\n",
              "          dataTable['output_type'] = 'display_data';\n",
              "          await google.colab.output.renderOutput(dataTable, element);\n",
              "          const docLink = document.createElement('div');\n",
              "          docLink.innerHTML = docLinkHtml;\n",
              "          element.appendChild(docLink);\n",
              "        }\n",
              "      </script>\n",
              "    </div>\n",
              "  </div>\n",
              "  "
            ]
          },
          "metadata": {},
          "execution_count": 99
        }
      ],
      "source": [
        "out"
      ]
    },
    {
      "cell_type": "code",
      "execution_count": null,
      "metadata": {
        "colab": {
          "base_uri": "https://localhost:8080/",
          "height": 706
        },
        "id": "mV8w1mht4pS0",
        "outputId": "df2467ab-0c3c-4d58-fa02-c8f1c0b16782"
      },
      "outputs": [
        {
          "output_type": "execute_result",
          "data": {
            "text/plain": [
              "(array([ 0,  1,  2,  3,  4,  5,  6,  7,  8,  9, 10, 11, 12, 13, 14, 15, 16,\n",
              "        17, 18, 19]), <a list of 20 Text major ticklabel objects>)"
            ]
          },
          "metadata": {},
          "execution_count": 100
        },
        {
          "output_type": "display_data",
          "data": {
            "text/plain": [
              "<Figure size 1152x576 with 1 Axes>"
            ],
            "image/png": "[encoded data removed]"
          },
          "metadata": {
            "needs_background": "light"
          }
        }
      ],
      "source": [
        "out.plot.bar(figsize =(16,8), color='#FC4349', xlabel = ' ' ,)\n",
        "plt.title('Duración Media Películas por Género', size = 16)\n",
        "plt.ylabel('Minutos', size = 13)\n",
        "\n",
        "plt.xticks(size = 13, rotation = 90)"
      ]
    },
    {
      "cell_type": "markdown",
      "metadata": {
        "id": "5f6owHKoJTIC"
      },
      "source": [
        "#### 6. Géneros mas representativos en lo últimos 5 años\n",
        "\n",
        "[A conclusión](#scrollTo=q7ppUWSYpA7A)\n"
      ]
    },
    {
      "cell_type": "code",
      "execution_count": null,
      "metadata": {
        "colab": {
          "base_uri": "https://localhost:8080/",
          "height": 663
        },
        "id": "ukmor9d1490a",
        "outputId": "53af4494-a184-4cbe-cee7-d79d1e9ed983"
      },
      "outputs": [
        {
          "output_type": "execute_result",
          "data": {
            "text/plain": [
              "(array([0, 1, 2, 3, 4]), <a list of 5 Text major ticklabel objects>)"
            ]
          },
          "metadata": {},
          "execution_count": 101
        },
        {
          "output_type": "display_data",
          "data": {
            "text/plain": [
              "<Figure size 576x720 with 0 Axes>"
            ]
          },
          "metadata": {}
        },
        {
          "output_type": "display_data",
          "data": {
            "text/plain": [
              "<Figure size 576x720 with 1 Axes>"
            ],
            "image/png": "[encoded data removed]"
          },
          "metadata": {
            "needs_background": "light"
          }
        }
      ],
      "source": [
        "df_genero['year_added'] = pd.DatetimeIndex(df_genero['date_added']).year\n",
        "df_generos_anio = df_genero[['year_added','listed_in','show_id']].groupby(['year_added','listed_in']).count()\n",
        "df_generos_anio.columns = ['show_id']\n",
        "df_generos_anio = df_generos_anio.reset_index()\n",
        "df_generos_anio2 = df_generos_anio.pivot(index='listed_in', columns='year_added', values='show_id')\n",
        "df_generos_anio2.columns = ['2008','2009','2010','2011','2012','2013','2014','2015','2016','2017','2018','2019','2020','2021','2022']\n",
        "df_generos_anio2 = df_generos_anio2.reset_index()\n",
        "df_generos_anio2['2017'] = df_generos_anio2['2017'].fillna(0)\n",
        "df_generos_anio2['2018'] = df_generos_anio2['2018'].fillna(0)\n",
        "df_generos_anio2['2019'] = df_generos_anio2['2019'].fillna(0)\n",
        "df_generos_anio2['2020'] = df_generos_anio2['2020'].fillna(0)\n",
        "df_generos_anio2['2021'] = df_generos_anio2['2021'].fillna(0)\n",
        "df_generos_anio3 = df_generos_anio2[['listed_in','2017','2018','2019','2020','2021']]\n",
        "df_generos_anio3 = df_generos_anio3.sort_values(by = ['2021'])\n",
        "df_generos_anio4 = df_generos_anio3.tail(5)\n",
        "\n",
        "fig = plt.figure(figsize=(8,10))\n",
        "ax = df_generos_anio4.plot.barh(x='listed_in',figsize=(8,10),  color=[\"#F1F521\",\"#F9983F\",\"#9C179E\" ,\"#330596\",\"#13078A\" ])\n",
        "plt.title(\"Frecuencia de generos por año en el catalogo\", size=16)\n",
        "plt.margins(y=0)\n",
        "plt.xlabel(\"Frecuencia\", size =12)\n",
        "plt.ylabel(\"Generos\", size =12)\n",
        "plt.yticks(size =11)"
      ]
    },
    {
      "cell_type": "markdown",
      "metadata": {
        "id": "q7ppUWSYpA7A"
      },
      "source": [
        "---\n",
        "## Conclusión\n",
        "\n",
        "Del análisis del catálogo de Netflix se encuentran dós tipos de productos, las películas (`Movies`) y las series de TV (`TV Show`) siendo el producto más frecuentemente hallado el de las películas ([Fig 1](#scrollTo=Jforgg4Irt5i)). \n",
        "\n",
        "Respecto de la distribución de frecuencias en los géneros disponibles dentro del catálogo de Netflix ([Fig 2](#scrollTo=YbFaCAEdlv8U)) se puede observar la predominancia de los géneros “International Movies”, “Dramas” y “Comedias”, por lo contrario también podemos ver que “Classic & Cult TV” es el género con menos producciones. Vemos que tanto en películas como series los géneros más frecuentes coinciden en ser las producciones internacionales, dramas y comedias. \n",
        "\n",
        "En relación a la evolución de la cantidad de peliculas y series ofrecidas en el catálogo de Netflx a lo largo de lo años ([Fig 3](#scrollTo=zHlIT1AJmzUT)) vimos un incremento para ambos tipos de productos con un pico en el 2019 y coincidente con el inicio de la pandemia COVID-19 un descenso abrupto de nuevos títulos. \n",
        "\n",
        "En marzo de 2011, Netflix comenzó a adquirir contenido original para su servicio de suscripción de streaming, comenzando con el drama político de una hora House of Cards, que se estrenó en febrero de 2013. Al analizar por año de producción, vemos que luego de un pico en el 2019 se observa un brusco descenso de las producciones realizadas. ([Fig 4](#scrollTo=CKNBZCdqsHoR))\n",
        "\n",
        "Al evaluar la duración de peliculas por genero, vimos que en promedio 'Classic Movies', 'Action & Adventure' y 'Dramas' son las producciones con más de 110 minutos en promedio, el catálogo incluye títulos con apenas unos minutos de duración correspondientes a cortometrajes. ([Fig 5](#scrollTo=K36GIDerqsmC))\n",
        "\n",
        "El catálogo de Netflix ofrece la posibilidad de búsqueda por género con hasta tres palabras claves tanto para peliculas como para series. Si bien a lo largo de los años la proporción de títulos para cada tipo de producto se mantuvo similar, durante período pandémico se observó un cambio en el patrón de títulos incluidos en el catálogo. \n",
        "\n",
        "Analizando la cantidad de publicaciones por año y por genero podemos observar varios patrones;  en el 2018 aumentó en todos los generos versus el año anterior, y en el 2020 disminuyó vs el año anterior, en el 2019 aumentó para todos los generos salvo para International Movies, y finalmente para el 2021 disminuye salvo el genero de Action & Adventure ([Fig 6](#scrollTo=5f6owHKoJTIC)).\n",
        "\n",
        "Netflix como plataforma de streaming ofrece un catálogo extenso de películas y series adaptando sus conetnidos de acuerdo a la demanda de la audiencia y condiciones excepcionales como ha sido la pandemia COVID-19 que se extendión del 2020 al 2021."
      ]
    },
    {
      "cell_type": "markdown",
      "metadata": {
        "id": "4nsbdrUgpL4k"
      },
      "source": [
        "---\n",
        "## Almacenamiento de resultados"
      ]
    },
    {
      "cell_type": "code",
      "execution_count": null,
      "metadata": {
        "id": "KJCmCpYIpJAB"
      },
      "outputs": [],
      "source": [
        "df_resultado_final = pd.DataFrame(df_raw2)\n",
        "df_resultado_final.to_csv(\"./sample_data/df_resultado_final.csv\")\n",
        "df_genero = pd.DataFrame(df_genero)\n",
        "df_genero.to_csv(\"./sample_data/df_genero.csv\")"
      ]
    }
  ],
  "metadata": {
    "colab": {
      "collapsed_sections": [
        "F2tqo5cDpTwh",
        "0Uv0eAi_yqJM",
        "X2C709eFqRDd",
        "pEjPYOxOw27M"
      ],
      "name": "Netflix Analysis",
      "provenance": [],
      "include_colab_link": true
    },
    "kernelspec": {
      "display_name": "Python 3",
      "name": "python3"
    }
  },
  "nbformat": 4,
  "nbformat_minor": 0
}